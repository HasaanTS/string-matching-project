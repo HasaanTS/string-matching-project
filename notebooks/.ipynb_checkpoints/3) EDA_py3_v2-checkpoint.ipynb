{
 "cells": [
  {
   "cell_type": "code",
   "execution_count": null,
   "metadata": {},
   "outputs": [],
   "source": [
    "import numpy as np\n",
    "import pandas as pd"
   ]
  },
  {
   "cell_type": "code",
   "execution_count": null,
   "metadata": {},
   "outputs": [],
   "source": [
    "congFile = '/home/hassaan/Data/TUM/2nd Year/4th Semester/IDP/Project/data/intermediate/consolidated_end115.csv'\n",
    "firmFile = '/home/hassaan/Data/TUM/2nd Year/4th Semester/IDP/Project/data/intermediate/comp_firms.csv'\n"
   ]
  },
  {
   "cell_type": "code",
   "execution_count": 4,
   "metadata": {},
   "outputs": [
    {
     "data": {
      "text/html": [
       "<div>\n",
       "<style scoped>\n",
       "    .dataframe tbody tr th:only-of-type {\n",
       "        vertical-align: middle;\n",
       "    }\n",
       "\n",
       "    .dataframe tbody tr th {\n",
       "        vertical-align: top;\n",
       "    }\n",
       "\n",
       "    .dataframe thead th {\n",
       "        text-align: right;\n",
       "    }\n",
       "</style>\n",
       "<table border=\"1\" class=\"dataframe\">\n",
       "  <thead>\n",
       "    <tr style=\"text-align: right;\">\n",
       "      <th></th>\n",
       "      <th>cid</th>\n",
       "      <th>personName</th>\n",
       "      <th>year</th>\n",
       "      <th>orgid</th>\n",
       "      <th>orgname</th>\n",
       "      <th>industry</th>\n",
       "      <th>asset_type</th>\n",
       "      <th>min</th>\n",
       "      <th>max</th>\n",
       "      <th>hidemax</th>\n",
       "      <th>type</th>\n",
       "      <th>lobbies</th>\n",
       "      <th>contributes</th>\n",
       "      <th>folderOfOrigin</th>\n",
       "    </tr>\n",
       "  </thead>\n",
       "  <tbody>\n",
       "    <tr>\n",
       "      <th>0</th>\n",
       "      <td>N00007665</td>\n",
       "      <td>Abercrombie-Neil</td>\n",
       "      <td>2004</td>\n",
       "      <td>NaN</td>\n",
       "      <td>University of Hawaii Credit Union A/C</td>\n",
       "      <td>Unknown</td>\n",
       "      <td>Cash/Money Market/Savings/Checking</td>\n",
       "      <td>15001</td>\n",
       "      <td>50000</td>\n",
       "      <td>0</td>\n",
       "      <td>Y</td>\n",
       "      <td>NaN</td>\n",
       "      <td>NaN</td>\n",
       "      <td>cong105</td>\n",
       "    </tr>\n",
       "    <tr>\n",
       "      <th>1</th>\n",
       "      <td>N00007665</td>\n",
       "      <td>Abercrombie-Neil</td>\n",
       "      <td>2005</td>\n",
       "      <td>NaN</td>\n",
       "      <td>University of Hawaii Credit Union A/C</td>\n",
       "      <td>Unknown</td>\n",
       "      <td>Cash/Money Market/Savings/Checking</td>\n",
       "      <td>1001</td>\n",
       "      <td>15000</td>\n",
       "      <td>0</td>\n",
       "      <td>Y</td>\n",
       "      <td>NaN</td>\n",
       "      <td>NaN</td>\n",
       "      <td>cong105</td>\n",
       "    </tr>\n",
       "    <tr>\n",
       "      <th>2</th>\n",
       "      <td>N00007665</td>\n",
       "      <td>Abercrombie-Neil</td>\n",
       "      <td>2006</td>\n",
       "      <td>NaN</td>\n",
       "      <td>University of Hawaii Credit Union A/C</td>\n",
       "      <td>Unknown</td>\n",
       "      <td>Cash/Money Market/Savings/Checking</td>\n",
       "      <td>1001</td>\n",
       "      <td>15000</td>\n",
       "      <td>0</td>\n",
       "      <td>Y</td>\n",
       "      <td>NaN</td>\n",
       "      <td>NaN</td>\n",
       "      <td>cong105</td>\n",
       "    </tr>\n",
       "    <tr>\n",
       "      <th>3</th>\n",
       "      <td>N00007665</td>\n",
       "      <td>Abercrombie-Neil</td>\n",
       "      <td>2007</td>\n",
       "      <td>NaN</td>\n",
       "      <td>University of Hawaii Credit Union</td>\n",
       "      <td>Unknown</td>\n",
       "      <td>Cash/Money Market/Savings/Checking</td>\n",
       "      <td>1001</td>\n",
       "      <td>15000</td>\n",
       "      <td>0</td>\n",
       "      <td>Y</td>\n",
       "      <td>NaN</td>\n",
       "      <td>NaN</td>\n",
       "      <td>cong105</td>\n",
       "    </tr>\n",
       "    <tr>\n",
       "      <th>4</th>\n",
       "      <td>N00007665</td>\n",
       "      <td>Abercrombie-Neil</td>\n",
       "      <td>2008</td>\n",
       "      <td>NaN</td>\n",
       "      <td>University of Hawaii Credit Union</td>\n",
       "      <td>Unknown</td>\n",
       "      <td>Cash/Money Market/Savings/Checking</td>\n",
       "      <td>1001</td>\n",
       "      <td>15000</td>\n",
       "      <td>0</td>\n",
       "      <td>Y</td>\n",
       "      <td>NaN</td>\n",
       "      <td>NaN</td>\n",
       "      <td>cong105</td>\n",
       "    </tr>\n",
       "  </tbody>\n",
       "</table>\n",
       "</div>"
      ],
      "text/plain": [
       "         cid        personName  year orgid  \\\n",
       "0  N00007665  Abercrombie-Neil  2004   NaN   \n",
       "1  N00007665  Abercrombie-Neil  2005   NaN   \n",
       "2  N00007665  Abercrombie-Neil  2006   NaN   \n",
       "3  N00007665  Abercrombie-Neil  2007   NaN   \n",
       "4  N00007665  Abercrombie-Neil  2008   NaN   \n",
       "\n",
       "                                 orgname industry  \\\n",
       "0  University of Hawaii Credit Union A/C  Unknown   \n",
       "1  University of Hawaii Credit Union A/C  Unknown   \n",
       "2  University of Hawaii Credit Union A/C  Unknown   \n",
       "3      University of Hawaii Credit Union  Unknown   \n",
       "4      University of Hawaii Credit Union  Unknown   \n",
       "\n",
       "                           asset_type    min    max  hidemax type lobbies  \\\n",
       "0  Cash/Money Market/Savings/Checking  15001  50000        0    Y     NaN   \n",
       "1  Cash/Money Market/Savings/Checking   1001  15000        0    Y     NaN   \n",
       "2  Cash/Money Market/Savings/Checking   1001  15000        0    Y     NaN   \n",
       "3  Cash/Money Market/Savings/Checking   1001  15000        0    Y     NaN   \n",
       "4  Cash/Money Market/Savings/Checking   1001  15000        0    Y     NaN   \n",
       "\n",
       "  contributes folderOfOrigin  \n",
       "0         NaN        cong105  \n",
       "1         NaN        cong105  \n",
       "2         NaN        cong105  \n",
       "3         NaN        cong105  \n",
       "4         NaN        cong105  "
      ]
     },
     "execution_count": 4,
     "metadata": {},
     "output_type": "execute_result"
    }
   ],
   "source": [
    "congDF = pd.read_csv(congFile)\n",
    "congDF = congDF.drop(['Unnamed: 0'], axis=1)\n",
    "congDF.head()"
   ]
  },
  {
   "cell_type": "code",
   "execution_count": 5,
   "metadata": {},
   "outputs": [
    {
     "data": {
      "text/html": [
       "<div>\n",
       "<style scoped>\n",
       "    .dataframe tbody tr th:only-of-type {\n",
       "        vertical-align: middle;\n",
       "    }\n",
       "\n",
       "    .dataframe tbody tr th {\n",
       "        vertical-align: top;\n",
       "    }\n",
       "\n",
       "    .dataframe thead th {\n",
       "        text-align: right;\n",
       "    }\n",
       "</style>\n",
       "<table border=\"1\" class=\"dataframe\">\n",
       "  <thead>\n",
       "    <tr style=\"text-align: right;\">\n",
       "      <th></th>\n",
       "      <th>gvkey</th>\n",
       "      <th>conm</th>\n",
       "      <th>conml</th>\n",
       "      <th>state</th>\n",
       "    </tr>\n",
       "  </thead>\n",
       "  <tbody>\n",
       "    <tr>\n",
       "      <th>0</th>\n",
       "      <td>1000</td>\n",
       "      <td>A &amp; E PLASTIK PAK INC</td>\n",
       "      <td>A &amp; E Plastik Pak Inc</td>\n",
       "      <td>NaN</td>\n",
       "    </tr>\n",
       "    <tr>\n",
       "      <th>1</th>\n",
       "      <td>1001</td>\n",
       "      <td>A &amp; M FOOD SERVICES INC</td>\n",
       "      <td>A &amp; M Food Services Inc</td>\n",
       "      <td>OK</td>\n",
       "    </tr>\n",
       "    <tr>\n",
       "      <th>2</th>\n",
       "      <td>1002</td>\n",
       "      <td>AAI CORP</td>\n",
       "      <td>AAI Corp</td>\n",
       "      <td>MD</td>\n",
       "    </tr>\n",
       "    <tr>\n",
       "      <th>3</th>\n",
       "      <td>1003</td>\n",
       "      <td>A.A. IMPORTING CO INC</td>\n",
       "      <td>A.A. Importing Co Inc</td>\n",
       "      <td>MO</td>\n",
       "    </tr>\n",
       "    <tr>\n",
       "      <th>4</th>\n",
       "      <td>1004</td>\n",
       "      <td>AAR CORP</td>\n",
       "      <td>AAR Corp</td>\n",
       "      <td>IL</td>\n",
       "    </tr>\n",
       "  </tbody>\n",
       "</table>\n",
       "</div>"
      ],
      "text/plain": [
       "   gvkey                     conm                    conml state\n",
       "0   1000    A & E PLASTIK PAK INC    A & E Plastik Pak Inc   NaN\n",
       "1   1001  A & M FOOD SERVICES INC  A & M Food Services Inc    OK\n",
       "2   1002                 AAI CORP                 AAI Corp    MD\n",
       "3   1003    A.A. IMPORTING CO INC    A.A. Importing Co Inc    MO\n",
       "4   1004                 AAR CORP                 AAR Corp    IL"
      ]
     },
     "execution_count": 5,
     "metadata": {},
     "output_type": "execute_result"
    }
   ],
   "source": [
    "firmDF = pd.read_csv(firmFile)\n",
    "firmDF.head()"
   ]
  },
  {
   "cell_type": "code",
   "execution_count": 14,
   "metadata": {},
   "outputs": [
    {
     "name": "stdout",
     "output_type": "stream",
     "text": [
      "32813\n",
      "32810\n",
      "count           32813\n",
      "unique          32810\n",
      "top       LUMENIS LTD\n",
      "freq                2\n",
      "Name: conm, dtype: object\n",
      "32813\n"
     ]
    },
    {
     "data": {
      "text/html": [
       "<div>\n",
       "<style scoped>\n",
       "    .dataframe tbody tr th:only-of-type {\n",
       "        vertical-align: middle;\n",
       "    }\n",
       "\n",
       "    .dataframe tbody tr th {\n",
       "        vertical-align: top;\n",
       "    }\n",
       "\n",
       "    .dataframe thead th {\n",
       "        text-align: right;\n",
       "    }\n",
       "</style>\n",
       "<table border=\"1\" class=\"dataframe\">\n",
       "  <thead>\n",
       "    <tr style=\"text-align: right;\">\n",
       "      <th></th>\n",
       "      <th>gvkey</th>\n",
       "    </tr>\n",
       "  </thead>\n",
       "  <tbody>\n",
       "    <tr>\n",
       "      <th>count</th>\n",
       "      <td>32813.000000</td>\n",
       "    </tr>\n",
       "    <tr>\n",
       "      <th>mean</th>\n",
       "      <td>58914.747783</td>\n",
       "    </tr>\n",
       "    <tr>\n",
       "      <th>std</th>\n",
       "      <td>66792.343541</td>\n",
       "    </tr>\n",
       "    <tr>\n",
       "      <th>min</th>\n",
       "      <td>1000.000000</td>\n",
       "    </tr>\n",
       "    <tr>\n",
       "      <th>25%</th>\n",
       "      <td>9787.000000</td>\n",
       "    </tr>\n",
       "    <tr>\n",
       "      <th>50%</th>\n",
       "      <td>23959.000000</td>\n",
       "    </tr>\n",
       "    <tr>\n",
       "      <th>75%</th>\n",
       "      <td>115960.000000</td>\n",
       "    </tr>\n",
       "    <tr>\n",
       "      <th>max</th>\n",
       "      <td>319507.000000</td>\n",
       "    </tr>\n",
       "  </tbody>\n",
       "</table>\n",
       "</div>"
      ],
      "text/plain": [
       "               gvkey\n",
       "count   32813.000000\n",
       "mean    58914.747783\n",
       "std     66792.343541\n",
       "min      1000.000000\n",
       "25%      9787.000000\n",
       "50%     23959.000000\n",
       "75%    115960.000000\n",
       "max    319507.000000"
      ]
     },
     "execution_count": 14,
     "metadata": {},
     "output_type": "execute_result"
    }
   ],
   "source": [
    "print(len(firmDF['gvkey'].unique()))\n",
    "print(len(firmDF['conm'].unique()))\n",
    "print(firmDF['conm'].describe())\n",
    "print(len(firmDF))\n",
    "firmDF.describe()\n",
    "firmDF."
   ]
  },
  {
   "cell_type": "code",
   "execution_count": 15,
   "metadata": {},
   "outputs": [
    {
     "data": {
      "text/html": [
       "<div>\n",
       "<style scoped>\n",
       "    .dataframe tbody tr th:only-of-type {\n",
       "        vertical-align: middle;\n",
       "    }\n",
       "\n",
       "    .dataframe tbody tr th {\n",
       "        vertical-align: top;\n",
       "    }\n",
       "\n",
       "    .dataframe thead th {\n",
       "        text-align: right;\n",
       "    }\n",
       "</style>\n",
       "<table border=\"1\" class=\"dataframe\">\n",
       "  <thead>\n",
       "    <tr style=\"text-align: right;\">\n",
       "      <th></th>\n",
       "      <th>gvkey</th>\n",
       "      <th>conm</th>\n",
       "      <th>conml</th>\n",
       "      <th>state</th>\n",
       "    </tr>\n",
       "  </thead>\n",
       "  <tbody>\n",
       "    <tr>\n",
       "      <th>14777</th>\n",
       "      <td>19845</td>\n",
       "      <td>LUMENIS LTD</td>\n",
       "      <td>Lumenis Ltd</td>\n",
       "      <td>NaN</td>\n",
       "    </tr>\n",
       "    <tr>\n",
       "      <th>21697</th>\n",
       "      <td>62471</td>\n",
       "      <td>LUMENIS LTD</td>\n",
       "      <td>Lumenis Ltd</td>\n",
       "      <td>NaN</td>\n",
       "    </tr>\n",
       "  </tbody>\n",
       "</table>\n",
       "</div>"
      ],
      "text/plain": [
       "       gvkey         conm        conml state\n",
       "14777  19845  LUMENIS LTD  Lumenis Ltd   NaN\n",
       "21697  62471  LUMENIS LTD  Lumenis Ltd   NaN"
      ]
     },
     "execution_count": 15,
     "metadata": {},
     "output_type": "execute_result"
    }
   ],
   "source": [
    "firmDF[firmDF['conm']=='LUMENIS LTD']"
   ]
  },
  {
   "cell_type": "code",
   "execution_count": 8,
   "metadata": {},
   "outputs": [
    {
     "name": "stdout",
     "output_type": "stream",
     "text": [
      "['N00007665' 'N00001143' 'N00003028' ... 'N00035616' 'N00030418'\n",
      " 'N00035535']\n",
      "1008\n",
      "11\n"
     ]
    }
   ],
   "source": [
    "print(congDF['cid'].unique())\n",
    "print(len(congDF['cid'].unique()))\n",
    "print(len(congDF['folderOfOrigin'].unique()))"
   ]
  },
  {
   "cell_type": "code",
   "execution_count": 10,
   "metadata": {},
   "outputs": [
    {
     "name": "stdout",
     "output_type": "stream",
     "text": [
      "count         243885\n",
      "unique          1008\n",
      "top       Kerry-John\n",
      "freq            4873\n",
      "Name: personName, dtype: object\n"
     ]
    }
   ],
   "source": [
    "print(congDF['personName'].describe())"
   ]
  },
  {
   "cell_type": "code",
   "execution_count": 11,
   "metadata": {},
   "outputs": [
    {
     "data": {
      "text/html": [
       "<div>\n",
       "<style scoped>\n",
       "    .dataframe tbody tr th:only-of-type {\n",
       "        vertical-align: middle;\n",
       "    }\n",
       "\n",
       "    .dataframe tbody tr th {\n",
       "        vertical-align: top;\n",
       "    }\n",
       "\n",
       "    .dataframe thead th {\n",
       "        text-align: right;\n",
       "    }\n",
       "</style>\n",
       "<table border=\"1\" class=\"dataframe\">\n",
       "  <thead>\n",
       "    <tr style=\"text-align: right;\">\n",
       "      <th></th>\n",
       "      <th>year</th>\n",
       "      <th>min</th>\n",
       "      <th>max</th>\n",
       "      <th>hidemax</th>\n",
       "    </tr>\n",
       "  </thead>\n",
       "  <tbody>\n",
       "    <tr>\n",
       "      <th>count</th>\n",
       "      <td>243885.000000</td>\n",
       "      <td>2.438850e+05</td>\n",
       "      <td>2.438850e+05</td>\n",
       "      <td>243885.000000</td>\n",
       "    </tr>\n",
       "    <tr>\n",
       "      <th>mean</th>\n",
       "      <td>2009.695611</td>\n",
       "      <td>1.305715e+05</td>\n",
       "      <td>3.473555e+05</td>\n",
       "      <td>0.010562</td>\n",
       "    </tr>\n",
       "    <tr>\n",
       "      <th>std</th>\n",
       "      <td>3.363060</td>\n",
       "      <td>1.981086e+06</td>\n",
       "      <td>2.820360e+06</td>\n",
       "      <td>0.102229</td>\n",
       "    </tr>\n",
       "    <tr>\n",
       "      <th>min</th>\n",
       "      <td>2004.000000</td>\n",
       "      <td>-3.547540e+05</td>\n",
       "      <td>-3.547540e+05</td>\n",
       "      <td>0.000000</td>\n",
       "    </tr>\n",
       "    <tr>\n",
       "      <th>25%</th>\n",
       "      <td>2007.000000</td>\n",
       "      <td>1.001000e+03</td>\n",
       "      <td>1.500000e+04</td>\n",
       "      <td>0.000000</td>\n",
       "    </tr>\n",
       "    <tr>\n",
       "      <th>50%</th>\n",
       "      <td>2010.000000</td>\n",
       "      <td>1.500100e+04</td>\n",
       "      <td>3.622500e+04</td>\n",
       "      <td>0.000000</td>\n",
       "    </tr>\n",
       "    <tr>\n",
       "      <th>75%</th>\n",
       "      <td>2013.000000</td>\n",
       "      <td>5.000100e+04</td>\n",
       "      <td>1.000000e+05</td>\n",
       "      <td>0.000000</td>\n",
       "    </tr>\n",
       "    <tr>\n",
       "      <th>max</th>\n",
       "      <td>2015.000000</td>\n",
       "      <td>3.120000e+08</td>\n",
       "      <td>3.120000e+08</td>\n",
       "      <td>1.000000</td>\n",
       "    </tr>\n",
       "  </tbody>\n",
       "</table>\n",
       "</div>"
      ],
      "text/plain": [
       "                year           min           max        hidemax\n",
       "count  243885.000000  2.438850e+05  2.438850e+05  243885.000000\n",
       "mean     2009.695611  1.305715e+05  3.473555e+05       0.010562\n",
       "std         3.363060  1.981086e+06  2.820360e+06       0.102229\n",
       "min      2004.000000 -3.547540e+05 -3.547540e+05       0.000000\n",
       "25%      2007.000000  1.001000e+03  1.500000e+04       0.000000\n",
       "50%      2010.000000  1.500100e+04  3.622500e+04       0.000000\n",
       "75%      2013.000000  5.000100e+04  1.000000e+05       0.000000\n",
       "max      2015.000000  3.120000e+08  3.120000e+08       1.000000"
      ]
     },
     "execution_count": 11,
     "metadata": {},
     "output_type": "execute_result"
    }
   ],
   "source": [
    "congDF.describe()"
   ]
  },
  {
   "cell_type": "markdown",
   "metadata": {},
   "source": [
    "### Testing string matches\n",
    "\n",
    "#### OBSERVATIONS:\n",
    "- Do the process.extract() & then run a fuzzy match"
   ]
  },
  {
   "cell_type": "code",
   "execution_count": 32,
   "metadata": {},
   "outputs": [],
   "source": [
    "congOrgs = congDF['orgname'].unique()\n",
    "firmOrgs = firmDF['conm'].unique()\n",
    "firmOrgsLC = firmDF['conml'].unique()"
   ]
  },
  {
   "cell_type": "code",
   "execution_count": 33,
   "metadata": {},
   "outputs": [
    {
     "name": "stdout",
     "output_type": "stream",
     "text": [
      "unique cong orgs: 69982\n",
      "unique firm orgs: 32810\n",
      "unique firm orgs lower case: 32682\n"
     ]
    }
   ],
   "source": [
    "print('unique cong orgs:', len(congOrgs))\n",
    "print('unique firm orgs:', len(firmOrgs))\n",
    "print('unique firm orgs lower case:', len(firmOrgsLC))"
   ]
  },
  {
   "cell_type": "code",
   "execution_count": 17,
   "metadata": {},
   "outputs": [],
   "source": [
    "from fuzzywuzzy import fuzz\n",
    "from fuzzywuzzy import process\n",
    "from fuzzywuzzy import utils\n",
    "from fuzzywuzzy.string_processing import StringProcessor"
   ]
  },
  {
   "cell_type": "code",
   "execution_count": 68,
   "metadata": {},
   "outputs": [
    {
     "name": "stdout",
     "output_type": "stream",
     "text": [
      "Northwest Natural Gas\n",
      "\n",
      "\n",
      "[('NORTHWEST NATURAL GAS CO', 95), ('BAY STATE GAS', 86), ('BOSTON GAS CO', 86), ('CONSUMERS GAS', 86), ('TXU GAS CO', 86), ('FLORIDA GAS', 86), ('GAS SERVICE CO', 86), ('GLOBAL GAS CO', 86), ('QUESTAR GAS CO', 86), ('UNION GAS LTD', 86)]\n",
      "\n",
      "\n",
      "[('Northwest Natural Gas Co', 95), ('Alliance Northwest Industries Inc', 86), ('Apco Oil and Gas International Inc', 86), ('Bay State Gas', 86), ('Boston Gas Co', 86), ('Commonwealth Natural Resources Inc', 86), ('Corning Natural Gas Holding Corp', 86), ('TXU Gas Co', 86), ('Federated Natural Resources Liquid Trust', 86), ('Fitchburg Gas & Electric Light Co', 86)]\n"
     ]
    }
   ],
   "source": [
    "searchSTR = congOrgs[2555]\n",
    "print(searchSTR)\n",
    "print('\\n')\n",
    "print(process.extract(searchSTR, firmOrgs, limit=10))\n",
    "print('\\n')\n",
    "print(process.extract(searchSTR, firmOrgsLC, limit=10))"
   ]
  },
  {
   "cell_type": "code",
   "execution_count": 69,
   "metadata": {},
   "outputs": [
    {
     "name": "stdout",
     "output_type": "stream",
     "text": [
      "Northwest Natural Gas NORTHWEST NATURAL GAS CO 22\n",
      "Northwest Natural Gas Northwest Natural Gas Co 93\n"
     ]
    }
   ],
   "source": [
    "orgMatch, per = process.extractOne(searchSTR, firmOrgs)\n",
    "orgMatchLC, per = process.extractOne(searchSTR, firmOrgsLC)\n",
    "print(searchSTR, orgMatch ,fuzz.ratio(searchSTR, orgMatch))\n",
    "print(searchSTR, orgMatchLC ,fuzz.ratio(searchSTR, orgMatchLC))"
   ]
  },
  {
   "cell_type": "code",
   "execution_count": 31,
   "metadata": {},
   "outputs": [
    {
     "data": {
      "text/html": [
       "<div>\n",
       "<style scoped>\n",
       "    .dataframe tbody tr th:only-of-type {\n",
       "        vertical-align: middle;\n",
       "    }\n",
       "\n",
       "    .dataframe tbody tr th {\n",
       "        vertical-align: top;\n",
       "    }\n",
       "\n",
       "    .dataframe thead th {\n",
       "        text-align: right;\n",
       "    }\n",
       "</style>\n",
       "<table border=\"1\" class=\"dataframe\">\n",
       "  <thead>\n",
       "    <tr style=\"text-align: right;\">\n",
       "      <th></th>\n",
       "      <th>gvkey</th>\n",
       "      <th>conm</th>\n",
       "      <th>conml</th>\n",
       "      <th>state</th>\n",
       "    </tr>\n",
       "  </thead>\n",
       "  <tbody>\n",
       "    <tr>\n",
       "      <th>24594</th>\n",
       "      <td>115747</td>\n",
       "      <td>ABVIVA INC</td>\n",
       "      <td>Abviva Inc</td>\n",
       "      <td>CA</td>\n",
       "    </tr>\n",
       "  </tbody>\n",
       "</table>\n",
       "</div>"
      ],
      "text/plain": [
       "        gvkey        conm       conml state\n",
       "24594  115747  ABVIVA INC  Abviva Inc    CA"
      ]
     },
     "execution_count": 31,
     "metadata": {},
     "output_type": "execute_result"
    }
   ],
   "source": [
    "firmDF[firmDF['conm']=='ABVIVA INC']"
   ]
  },
  {
   "cell_type": "code",
   "execution_count": 70,
   "metadata": {},
   "outputs": [
    {
     "data": {
      "text/plain": [
       "75"
      ]
     },
     "execution_count": 70,
     "metadata": {},
     "output_type": "execute_result"
    }
   ],
   "source": [
    "fuzz.partial_ratio('Citibank Cash Reserves Account 27', 'CityBank')"
   ]
  },
  {
   "cell_type": "code",
   "execution_count": 74,
   "metadata": {},
   "outputs": [],
   "source": [
    "def levenshteinDistance(s1, s2):\n",
    "    if len(s1) > len(s2):\n",
    "        s1, s2 = s2, s1\n",
    "\n",
    "    distances = range(len(s1) + 1)\n",
    "    for i2, c2 in enumerate(s2):\n",
    "        distances_ = [i2+1]\n",
    "        for i1, c1 in enumerate(s1):\n",
    "            if c1 == c2:\n",
    "                distances_.append(distances[i1])\n",
    "            else:\n",
    "                distances_.append(1 + min((distances[i1], distances[i1 + 1], distances_[-1])))\n",
    "        distances = distances_\n",
    "    return distances[-1]\n",
    "\n",
    "def levRatio(s1, s2):\n",
    "    l = levenshteinDistance(s1, s2)\n",
    "    m = max(len(s1), len(s2))\n",
    "    return (1 - (float(l)/float(m))) * 100"
   ]
  },
  {
   "cell_type": "code",
   "execution_count": 77,
   "metadata": {},
   "outputs": [
    {
     "name": "stdout",
     "output_type": "stream",
     "text": [
      "20.833333333333336\n",
      "87.5\n"
     ]
    }
   ],
   "source": [
    "print(levRatio(searchSTR, orgMatch))\n",
    "\n",
    "print(levRatio(searchSTR, orgMatchLC))"
   ]
  },
  {
   "cell_type": "code",
   "execution_count": 78,
   "metadata": {},
   "outputs": [
    {
     "name": "stdout",
     "output_type": "stream",
     "text": [
      "22\n",
      "93\n"
     ]
    }
   ],
   "source": [
    "print(fuzz.ratio(searchSTR, orgMatch))\n",
    "print(fuzz.ratio(searchSTR, orgMatchLC))"
   ]
  },
  {
   "cell_type": "markdown",
   "metadata": {},
   "source": [
    "### Fuzzy Wuzzy explanations\n",
    "- fuzz.ratio() -> edit distance simply (levenshtein)\n",
    "- fuzz.partial_ratio() -> checks for search str to be substr \n",
    "- fuzz.token_sort_ratio() -> alphabetically sort both string tokens and then match ratio\n",
    "- fuzz.token_set_ratio() -> make set(intersect) from both strings and create combinations with both & match ratio"
   ]
  },
  {
   "cell_type": "code",
   "execution_count": null,
   "metadata": {},
   "outputs": [],
   "source": []
  }
 ],
 "metadata": {
  "kernelspec": {
   "display_name": "Python 3",
   "language": "python",
   "name": "python3"
  },
  "language_info": {
   "codemirror_mode": {
    "name": "ipython",
    "version": 3
   },
   "file_extension": ".py",
   "mimetype": "text/x-python",
   "name": "python",
   "nbconvert_exporter": "python",
   "pygments_lexer": "ipython3",
   "version": "3.7.3"
  }
 },
 "nbformat": 4,
 "nbformat_minor": 2
}
