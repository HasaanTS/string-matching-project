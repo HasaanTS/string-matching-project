{
 "cells": [
  {
   "cell_type": "code",
   "execution_count": 1,
   "metadata": {},
   "outputs": [],
   "source": [
    "import numpy as np\n",
    "import pandas as pd"
   ]
  },
  {
   "cell_type": "code",
   "execution_count": 2,
   "metadata": {},
   "outputs": [],
   "source": [
    "congFile = '/home/hassaan/Data/TUM/2nd Year/4th Semester/IDP/Project/data/intermediate/consolidated_end115.csv'\n",
    "firmFile = '/home/hassaan/Data/TUM/2nd Year/4th Semester/IDP/Project/data/intermediate/comp_firms.csv'\n"
   ]
  },
  {
   "cell_type": "code",
   "execution_count": 3,
   "metadata": {},
   "outputs": [
    {
     "data": {
      "text/html": [
       "<div>\n",
       "<style scoped>\n",
       "    .dataframe tbody tr th:only-of-type {\n",
       "        vertical-align: middle;\n",
       "    }\n",
       "\n",
       "    .dataframe tbody tr th {\n",
       "        vertical-align: top;\n",
       "    }\n",
       "\n",
       "    .dataframe thead th {\n",
       "        text-align: right;\n",
       "    }\n",
       "</style>\n",
       "<table border=\"1\" class=\"dataframe\">\n",
       "  <thead>\n",
       "    <tr style=\"text-align: right;\">\n",
       "      <th></th>\n",
       "      <th>cid</th>\n",
       "      <th>personName</th>\n",
       "      <th>year</th>\n",
       "      <th>orgid</th>\n",
       "      <th>orgname</th>\n",
       "      <th>industry</th>\n",
       "      <th>asset_type</th>\n",
       "      <th>min</th>\n",
       "      <th>max</th>\n",
       "      <th>hidemax</th>\n",
       "      <th>type</th>\n",
       "      <th>lobbies</th>\n",
       "      <th>contributes</th>\n",
       "      <th>folderOfOrigin</th>\n",
       "    </tr>\n",
       "  </thead>\n",
       "  <tbody>\n",
       "    <tr>\n",
       "      <th>0</th>\n",
       "      <td>N00007665</td>\n",
       "      <td>Abercrombie-Neil</td>\n",
       "      <td>2004</td>\n",
       "      <td>NaN</td>\n",
       "      <td>University of Hawaii Credit Union A/C</td>\n",
       "      <td>Unknown</td>\n",
       "      <td>Cash/Money Market/Savings/Checking</td>\n",
       "      <td>15001</td>\n",
       "      <td>50000</td>\n",
       "      <td>0</td>\n",
       "      <td>Y</td>\n",
       "      <td>NaN</td>\n",
       "      <td>NaN</td>\n",
       "      <td>cong105</td>\n",
       "    </tr>\n",
       "    <tr>\n",
       "      <th>1</th>\n",
       "      <td>N00007665</td>\n",
       "      <td>Abercrombie-Neil</td>\n",
       "      <td>2005</td>\n",
       "      <td>NaN</td>\n",
       "      <td>University of Hawaii Credit Union A/C</td>\n",
       "      <td>Unknown</td>\n",
       "      <td>Cash/Money Market/Savings/Checking</td>\n",
       "      <td>1001</td>\n",
       "      <td>15000</td>\n",
       "      <td>0</td>\n",
       "      <td>Y</td>\n",
       "      <td>NaN</td>\n",
       "      <td>NaN</td>\n",
       "      <td>cong105</td>\n",
       "    </tr>\n",
       "    <tr>\n",
       "      <th>2</th>\n",
       "      <td>N00007665</td>\n",
       "      <td>Abercrombie-Neil</td>\n",
       "      <td>2006</td>\n",
       "      <td>NaN</td>\n",
       "      <td>University of Hawaii Credit Union A/C</td>\n",
       "      <td>Unknown</td>\n",
       "      <td>Cash/Money Market/Savings/Checking</td>\n",
       "      <td>1001</td>\n",
       "      <td>15000</td>\n",
       "      <td>0</td>\n",
       "      <td>Y</td>\n",
       "      <td>NaN</td>\n",
       "      <td>NaN</td>\n",
       "      <td>cong105</td>\n",
       "    </tr>\n",
       "    <tr>\n",
       "      <th>3</th>\n",
       "      <td>N00007665</td>\n",
       "      <td>Abercrombie-Neil</td>\n",
       "      <td>2007</td>\n",
       "      <td>NaN</td>\n",
       "      <td>University of Hawaii Credit Union</td>\n",
       "      <td>Unknown</td>\n",
       "      <td>Cash/Money Market/Savings/Checking</td>\n",
       "      <td>1001</td>\n",
       "      <td>15000</td>\n",
       "      <td>0</td>\n",
       "      <td>Y</td>\n",
       "      <td>NaN</td>\n",
       "      <td>NaN</td>\n",
       "      <td>cong105</td>\n",
       "    </tr>\n",
       "    <tr>\n",
       "      <th>4</th>\n",
       "      <td>N00007665</td>\n",
       "      <td>Abercrombie-Neil</td>\n",
       "      <td>2008</td>\n",
       "      <td>NaN</td>\n",
       "      <td>University of Hawaii Credit Union</td>\n",
       "      <td>Unknown</td>\n",
       "      <td>Cash/Money Market/Savings/Checking</td>\n",
       "      <td>1001</td>\n",
       "      <td>15000</td>\n",
       "      <td>0</td>\n",
       "      <td>Y</td>\n",
       "      <td>NaN</td>\n",
       "      <td>NaN</td>\n",
       "      <td>cong105</td>\n",
       "    </tr>\n",
       "  </tbody>\n",
       "</table>\n",
       "</div>"
      ],
      "text/plain": [
       "         cid        personName  year orgid  \\\n",
       "0  N00007665  Abercrombie-Neil  2004   NaN   \n",
       "1  N00007665  Abercrombie-Neil  2005   NaN   \n",
       "2  N00007665  Abercrombie-Neil  2006   NaN   \n",
       "3  N00007665  Abercrombie-Neil  2007   NaN   \n",
       "4  N00007665  Abercrombie-Neil  2008   NaN   \n",
       "\n",
       "                                 orgname industry  \\\n",
       "0  University of Hawaii Credit Union A/C  Unknown   \n",
       "1  University of Hawaii Credit Union A/C  Unknown   \n",
       "2  University of Hawaii Credit Union A/C  Unknown   \n",
       "3      University of Hawaii Credit Union  Unknown   \n",
       "4      University of Hawaii Credit Union  Unknown   \n",
       "\n",
       "                           asset_type    min    max  hidemax type lobbies  \\\n",
       "0  Cash/Money Market/Savings/Checking  15001  50000        0    Y     NaN   \n",
       "1  Cash/Money Market/Savings/Checking   1001  15000        0    Y     NaN   \n",
       "2  Cash/Money Market/Savings/Checking   1001  15000        0    Y     NaN   \n",
       "3  Cash/Money Market/Savings/Checking   1001  15000        0    Y     NaN   \n",
       "4  Cash/Money Market/Savings/Checking   1001  15000        0    Y     NaN   \n",
       "\n",
       "  contributes folderOfOrigin  \n",
       "0         NaN        cong105  \n",
       "1         NaN        cong105  \n",
       "2         NaN        cong105  \n",
       "3         NaN        cong105  \n",
       "4         NaN        cong105  "
      ]
     },
     "execution_count": 3,
     "metadata": {},
     "output_type": "execute_result"
    }
   ],
   "source": [
    "congDF = pd.read_csv(congFile)\n",
    "congDF = congDF.drop(['Unnamed: 0'], axis=1)\n",
    "congDF.head()"
   ]
  },
  {
   "cell_type": "code",
   "execution_count": 4,
   "metadata": {},
   "outputs": [
    {
     "data": {
      "text/html": [
       "<div>\n",
       "<style scoped>\n",
       "    .dataframe tbody tr th:only-of-type {\n",
       "        vertical-align: middle;\n",
       "    }\n",
       "\n",
       "    .dataframe tbody tr th {\n",
       "        vertical-align: top;\n",
       "    }\n",
       "\n",
       "    .dataframe thead th {\n",
       "        text-align: right;\n",
       "    }\n",
       "</style>\n",
       "<table border=\"1\" class=\"dataframe\">\n",
       "  <thead>\n",
       "    <tr style=\"text-align: right;\">\n",
       "      <th></th>\n",
       "      <th>gvkey</th>\n",
       "      <th>conm</th>\n",
       "      <th>conml</th>\n",
       "      <th>state</th>\n",
       "    </tr>\n",
       "  </thead>\n",
       "  <tbody>\n",
       "    <tr>\n",
       "      <th>0</th>\n",
       "      <td>1000</td>\n",
       "      <td>A &amp; E PLASTIK PAK INC</td>\n",
       "      <td>A &amp; E Plastik Pak Inc</td>\n",
       "      <td>NaN</td>\n",
       "    </tr>\n",
       "    <tr>\n",
       "      <th>1</th>\n",
       "      <td>1001</td>\n",
       "      <td>A &amp; M FOOD SERVICES INC</td>\n",
       "      <td>A &amp; M Food Services Inc</td>\n",
       "      <td>OK</td>\n",
       "    </tr>\n",
       "    <tr>\n",
       "      <th>2</th>\n",
       "      <td>1002</td>\n",
       "      <td>AAI CORP</td>\n",
       "      <td>AAI Corp</td>\n",
       "      <td>MD</td>\n",
       "    </tr>\n",
       "    <tr>\n",
       "      <th>3</th>\n",
       "      <td>1003</td>\n",
       "      <td>A.A. IMPORTING CO INC</td>\n",
       "      <td>A.A. Importing Co Inc</td>\n",
       "      <td>MO</td>\n",
       "    </tr>\n",
       "    <tr>\n",
       "      <th>4</th>\n",
       "      <td>1004</td>\n",
       "      <td>AAR CORP</td>\n",
       "      <td>AAR Corp</td>\n",
       "      <td>IL</td>\n",
       "    </tr>\n",
       "  </tbody>\n",
       "</table>\n",
       "</div>"
      ],
      "text/plain": [
       "   gvkey                     conm                    conml state\n",
       "0   1000    A & E PLASTIK PAK INC    A & E Plastik Pak Inc   NaN\n",
       "1   1001  A & M FOOD SERVICES INC  A & M Food Services Inc    OK\n",
       "2   1002                 AAI CORP                 AAI Corp    MD\n",
       "3   1003    A.A. IMPORTING CO INC    A.A. Importing Co Inc    MO\n",
       "4   1004                 AAR CORP                 AAR Corp    IL"
      ]
     },
     "execution_count": 4,
     "metadata": {},
     "output_type": "execute_result"
    }
   ],
   "source": [
    "firmDF = pd.read_csv(firmFile)\n",
    "firmDF.head()"
   ]
  },
  {
   "cell_type": "code",
   "execution_count": 6,
   "metadata": {},
   "outputs": [
    {
     "name": "stdout",
     "output_type": "stream",
     "text": [
      "32813\n",
      "32810\n",
      "count           32813\n",
      "unique          32810\n",
      "top       LUMENIS LTD\n",
      "freq                2\n",
      "Name: conm, dtype: object\n",
      "32813\n"
     ]
    },
    {
     "data": {
      "text/html": [
       "<div>\n",
       "<style scoped>\n",
       "    .dataframe tbody tr th:only-of-type {\n",
       "        vertical-align: middle;\n",
       "    }\n",
       "\n",
       "    .dataframe tbody tr th {\n",
       "        vertical-align: top;\n",
       "    }\n",
       "\n",
       "    .dataframe thead th {\n",
       "        text-align: right;\n",
       "    }\n",
       "</style>\n",
       "<table border=\"1\" class=\"dataframe\">\n",
       "  <thead>\n",
       "    <tr style=\"text-align: right;\">\n",
       "      <th></th>\n",
       "      <th>gvkey</th>\n",
       "    </tr>\n",
       "  </thead>\n",
       "  <tbody>\n",
       "    <tr>\n",
       "      <th>count</th>\n",
       "      <td>32813.000000</td>\n",
       "    </tr>\n",
       "    <tr>\n",
       "      <th>mean</th>\n",
       "      <td>58914.747783</td>\n",
       "    </tr>\n",
       "    <tr>\n",
       "      <th>std</th>\n",
       "      <td>66792.343541</td>\n",
       "    </tr>\n",
       "    <tr>\n",
       "      <th>min</th>\n",
       "      <td>1000.000000</td>\n",
       "    </tr>\n",
       "    <tr>\n",
       "      <th>25%</th>\n",
       "      <td>9787.000000</td>\n",
       "    </tr>\n",
       "    <tr>\n",
       "      <th>50%</th>\n",
       "      <td>23959.000000</td>\n",
       "    </tr>\n",
       "    <tr>\n",
       "      <th>75%</th>\n",
       "      <td>115960.000000</td>\n",
       "    </tr>\n",
       "    <tr>\n",
       "      <th>max</th>\n",
       "      <td>319507.000000</td>\n",
       "    </tr>\n",
       "  </tbody>\n",
       "</table>\n",
       "</div>"
      ],
      "text/plain": [
       "               gvkey\n",
       "count   32813.000000\n",
       "mean    58914.747783\n",
       "std     66792.343541\n",
       "min      1000.000000\n",
       "25%      9787.000000\n",
       "50%     23959.000000\n",
       "75%    115960.000000\n",
       "max    319507.000000"
      ]
     },
     "execution_count": 6,
     "metadata": {},
     "output_type": "execute_result"
    }
   ],
   "source": [
    "print(len(firmDF['gvkey'].unique()))\n",
    "print(len(firmDF['conm'].unique()))\n",
    "print(firmDF['conm'].describe())\n",
    "print(len(firmDF))\n",
    "firmDF.describe()"
   ]
  },
  {
   "cell_type": "code",
   "execution_count": 7,
   "metadata": {},
   "outputs": [
    {
     "data": {
      "text/html": [
       "<div>\n",
       "<style scoped>\n",
       "    .dataframe tbody tr th:only-of-type {\n",
       "        vertical-align: middle;\n",
       "    }\n",
       "\n",
       "    .dataframe tbody tr th {\n",
       "        vertical-align: top;\n",
       "    }\n",
       "\n",
       "    .dataframe thead th {\n",
       "        text-align: right;\n",
       "    }\n",
       "</style>\n",
       "<table border=\"1\" class=\"dataframe\">\n",
       "  <thead>\n",
       "    <tr style=\"text-align: right;\">\n",
       "      <th></th>\n",
       "      <th>gvkey</th>\n",
       "      <th>conm</th>\n",
       "      <th>conml</th>\n",
       "      <th>state</th>\n",
       "    </tr>\n",
       "  </thead>\n",
       "  <tbody>\n",
       "    <tr>\n",
       "      <th>14777</th>\n",
       "      <td>19845</td>\n",
       "      <td>LUMENIS LTD</td>\n",
       "      <td>Lumenis Ltd</td>\n",
       "      <td>NaN</td>\n",
       "    </tr>\n",
       "    <tr>\n",
       "      <th>21697</th>\n",
       "      <td>62471</td>\n",
       "      <td>LUMENIS LTD</td>\n",
       "      <td>Lumenis Ltd</td>\n",
       "      <td>NaN</td>\n",
       "    </tr>\n",
       "  </tbody>\n",
       "</table>\n",
       "</div>"
      ],
      "text/plain": [
       "       gvkey         conm        conml state\n",
       "14777  19845  LUMENIS LTD  Lumenis Ltd   NaN\n",
       "21697  62471  LUMENIS LTD  Lumenis Ltd   NaN"
      ]
     },
     "execution_count": 7,
     "metadata": {},
     "output_type": "execute_result"
    }
   ],
   "source": [
    "firmDF[firmDF['conm']=='LUMENIS LTD']"
   ]
  },
  {
   "cell_type": "code",
   "execution_count": 8,
   "metadata": {},
   "outputs": [
    {
     "name": "stdout",
     "output_type": "stream",
     "text": [
      "['N00007665' 'N00001143' 'N00003028' ... 'N00035616' 'N00030418'\n",
      " 'N00035535']\n",
      "1008\n",
      "11\n"
     ]
    }
   ],
   "source": [
    "print(congDF['cid'].unique())\n",
    "print(len(congDF['cid'].unique()))\n",
    "print(len(congDF['folderOfOrigin'].unique()))"
   ]
  },
  {
   "cell_type": "code",
   "execution_count": 9,
   "metadata": {},
   "outputs": [
    {
     "name": "stdout",
     "output_type": "stream",
     "text": [
      "count         243885\n",
      "unique          1008\n",
      "top       Kerry-John\n",
      "freq            4873\n",
      "Name: personName, dtype: object\n"
     ]
    }
   ],
   "source": [
    "print(congDF['personName'].describe())"
   ]
  },
  {
   "cell_type": "code",
   "execution_count": 10,
   "metadata": {},
   "outputs": [
    {
     "data": {
      "text/html": [
       "<div>\n",
       "<style scoped>\n",
       "    .dataframe tbody tr th:only-of-type {\n",
       "        vertical-align: middle;\n",
       "    }\n",
       "\n",
       "    .dataframe tbody tr th {\n",
       "        vertical-align: top;\n",
       "    }\n",
       "\n",
       "    .dataframe thead th {\n",
       "        text-align: right;\n",
       "    }\n",
       "</style>\n",
       "<table border=\"1\" class=\"dataframe\">\n",
       "  <thead>\n",
       "    <tr style=\"text-align: right;\">\n",
       "      <th></th>\n",
       "      <th>year</th>\n",
       "      <th>min</th>\n",
       "      <th>max</th>\n",
       "      <th>hidemax</th>\n",
       "    </tr>\n",
       "  </thead>\n",
       "  <tbody>\n",
       "    <tr>\n",
       "      <th>count</th>\n",
       "      <td>243885.000000</td>\n",
       "      <td>2.438850e+05</td>\n",
       "      <td>2.438850e+05</td>\n",
       "      <td>243885.000000</td>\n",
       "    </tr>\n",
       "    <tr>\n",
       "      <th>mean</th>\n",
       "      <td>2009.695611</td>\n",
       "      <td>1.305715e+05</td>\n",
       "      <td>3.473555e+05</td>\n",
       "      <td>0.010562</td>\n",
       "    </tr>\n",
       "    <tr>\n",
       "      <th>std</th>\n",
       "      <td>3.363060</td>\n",
       "      <td>1.981086e+06</td>\n",
       "      <td>2.820360e+06</td>\n",
       "      <td>0.102229</td>\n",
       "    </tr>\n",
       "    <tr>\n",
       "      <th>min</th>\n",
       "      <td>2004.000000</td>\n",
       "      <td>-3.547540e+05</td>\n",
       "      <td>-3.547540e+05</td>\n",
       "      <td>0.000000</td>\n",
       "    </tr>\n",
       "    <tr>\n",
       "      <th>25%</th>\n",
       "      <td>2007.000000</td>\n",
       "      <td>1.001000e+03</td>\n",
       "      <td>1.500000e+04</td>\n",
       "      <td>0.000000</td>\n",
       "    </tr>\n",
       "    <tr>\n",
       "      <th>50%</th>\n",
       "      <td>2010.000000</td>\n",
       "      <td>1.500100e+04</td>\n",
       "      <td>3.622500e+04</td>\n",
       "      <td>0.000000</td>\n",
       "    </tr>\n",
       "    <tr>\n",
       "      <th>75%</th>\n",
       "      <td>2013.000000</td>\n",
       "      <td>5.000100e+04</td>\n",
       "      <td>1.000000e+05</td>\n",
       "      <td>0.000000</td>\n",
       "    </tr>\n",
       "    <tr>\n",
       "      <th>max</th>\n",
       "      <td>2015.000000</td>\n",
       "      <td>3.120000e+08</td>\n",
       "      <td>3.120000e+08</td>\n",
       "      <td>1.000000</td>\n",
       "    </tr>\n",
       "  </tbody>\n",
       "</table>\n",
       "</div>"
      ],
      "text/plain": [
       "                year           min           max        hidemax\n",
       "count  243885.000000  2.438850e+05  2.438850e+05  243885.000000\n",
       "mean     2009.695611  1.305715e+05  3.473555e+05       0.010562\n",
       "std         3.363060  1.981086e+06  2.820360e+06       0.102229\n",
       "min      2004.000000 -3.547540e+05 -3.547540e+05       0.000000\n",
       "25%      2007.000000  1.001000e+03  1.500000e+04       0.000000\n",
       "50%      2010.000000  1.500100e+04  3.622500e+04       0.000000\n",
       "75%      2013.000000  5.000100e+04  1.000000e+05       0.000000\n",
       "max      2015.000000  3.120000e+08  3.120000e+08       1.000000"
      ]
     },
     "execution_count": 10,
     "metadata": {},
     "output_type": "execute_result"
    }
   ],
   "source": [
    "congDF.describe()"
   ]
  },
  {
   "cell_type": "markdown",
   "metadata": {},
   "source": [
    "### Testing string matches\n",
    "\n",
    "#### OBSERVATIONS:\n",
    "- Do the process.extract() & then run a fuzzy match"
   ]
  },
  {
   "cell_type": "code",
   "execution_count": 68,
   "metadata": {},
   "outputs": [],
   "source": [
    "congOrgs = congDF['orgname'].unique()\n",
    "firmOrgs = firmDF['conm'].unique()\n",
    "firmOrgsLC = firmDF['conml'].unique()"
   ]
  },
  {
   "cell_type": "code",
   "execution_count": 12,
   "metadata": {},
   "outputs": [
    {
     "name": "stdout",
     "output_type": "stream",
     "text": [
      "unique cong orgs: 69982\n",
      "unique firm orgs: 32810\n",
      "unique firm orgs lower case: 32682\n"
     ]
    }
   ],
   "source": [
    "print('unique cong orgs:', len(congOrgs))\n",
    "print('unique firm orgs:', len(firmOrgs))\n",
    "print('unique firm orgs lower case:', len(firmOrgsLC))"
   ]
  },
  {
   "cell_type": "code",
   "execution_count": 13,
   "metadata": {},
   "outputs": [],
   "source": [
    "from fuzzywuzzy import fuzz\n",
    "from fuzzywuzzy import process\n",
    "from fuzzywuzzy import utils\n",
    "from fuzzywuzzy.string_processing import StringProcessor"
   ]
  },
  {
   "cell_type": "code",
   "execution_count": 21,
   "metadata": {},
   "outputs": [
    {
     "name": "stdout",
     "output_type": "stream",
     "text": [
      "Rental Property\n",
      "\n",
      "\n",
      "[('PRAETORIAN PROPERTY INC', 86), ('INTL INCOME PROPERTY INC', 86), ('NATIONAL CAR RENTAL SYS-OLD', 86), ('PROPERTY CAPITAL TRUST INC', 86), ('PROPERTY INVESTORS COLORADO', 86), ('745 PROPERTY INVESTMENTS', 86), ('BEDFORD PROPERTY INVESTORS', 86), ('AMERICAN PROPERTY GROUP INC', 86), ('NATIONAL CAR RENTAL SYSTEMS', 86), ('SIZELER PROPERTY INVESTORS', 86)]\n",
      "\n",
      "\n",
      "[('Praetorian Property Inc', 86), ('General Growth Property', 86), ('International Income Property Inc', 86), ('Landsing Instit Property Trust V', 86), ('National Car Rental Systems-Old', 86), ('Property Capital Trust Inc', 86), ('Property Investors Colorado', 86), ('745 Property Investments', 86), ('South West Property Trust Inc', 86), ('Bedford Property Investors Inc.', 86)]\n"
     ]
    }
   ],
   "source": [
    "searchSTR = congOrgs[555]\n",
    "print(searchSTR)\n",
    "print('\\n')\n",
    "print(process.extract(searchSTR, firmOrgs, limit=10))\n",
    "print('\\n')\n",
    "print(process.extract(searchSTR, firmOrgsLC, limit=10))"
   ]
  },
  {
   "cell_type": "code",
   "execution_count": 15,
   "metadata": {},
   "outputs": [
    {
     "name": "stdout",
     "output_type": "stream",
     "text": [
      "Northwest Natural Gas NORTHWEST NATURAL GAS CO 22\n",
      "Northwest Natural Gas Northwest Natural Gas Co 93\n"
     ]
    }
   ],
   "source": [
    "orgMatch, per = process.extractOne(searchSTR, firmOrgs)\n",
    "orgMatchLC, per = process.extractOne(searchSTR, firmOrgsLC)\n",
    "print(searchSTR, orgMatch ,fuzz.ratio(searchSTR, orgMatch))\n",
    "print(searchSTR, orgMatchLC ,fuzz.ratio(searchSTR, orgMatchLC))"
   ]
  },
  {
   "cell_type": "code",
   "execution_count": 16,
   "metadata": {},
   "outputs": [
    {
     "data": {
      "text/html": [
       "<div>\n",
       "<style scoped>\n",
       "    .dataframe tbody tr th:only-of-type {\n",
       "        vertical-align: middle;\n",
       "    }\n",
       "\n",
       "    .dataframe tbody tr th {\n",
       "        vertical-align: top;\n",
       "    }\n",
       "\n",
       "    .dataframe thead th {\n",
       "        text-align: right;\n",
       "    }\n",
       "</style>\n",
       "<table border=\"1\" class=\"dataframe\">\n",
       "  <thead>\n",
       "    <tr style=\"text-align: right;\">\n",
       "      <th></th>\n",
       "      <th>gvkey</th>\n",
       "      <th>conm</th>\n",
       "      <th>conml</th>\n",
       "      <th>state</th>\n",
       "    </tr>\n",
       "  </thead>\n",
       "  <tbody>\n",
       "    <tr>\n",
       "      <th>24594</th>\n",
       "      <td>115747</td>\n",
       "      <td>ABVIVA INC</td>\n",
       "      <td>Abviva Inc</td>\n",
       "      <td>CA</td>\n",
       "    </tr>\n",
       "  </tbody>\n",
       "</table>\n",
       "</div>"
      ],
      "text/plain": [
       "        gvkey        conm       conml state\n",
       "24594  115747  ABVIVA INC  Abviva Inc    CA"
      ]
     },
     "execution_count": 16,
     "metadata": {},
     "output_type": "execute_result"
    }
   ],
   "source": [
    "firmDF[firmDF['conm']=='ABVIVA INC']"
   ]
  },
  {
   "cell_type": "code",
   "execution_count": 17,
   "metadata": {},
   "outputs": [
    {
     "data": {
      "text/plain": [
       "75"
      ]
     },
     "execution_count": 17,
     "metadata": {},
     "output_type": "execute_result"
    }
   ],
   "source": [
    "fuzz.partial_ratio('Citibank Cash Reserves Account 27', 'CityBank')"
   ]
  },
  {
   "cell_type": "code",
   "execution_count": 18,
   "metadata": {},
   "outputs": [],
   "source": [
    "def levenshteinDistance(s1, s2):\n",
    "    if len(s1) > len(s2):\n",
    "        s1, s2 = s2, s1\n",
    "\n",
    "    distances = range(len(s1) + 1)\n",
    "    for i2, c2 in enumerate(s2):\n",
    "        distances_ = [i2+1]\n",
    "        for i1, c1 in enumerate(s1):\n",
    "            if c1 == c2:\n",
    "                distances_.append(distances[i1])\n",
    "            else:\n",
    "                distances_.append(1 + min((distances[i1], distances[i1 + 1], distances_[-1])))\n",
    "        distances = distances_\n",
    "    return distances[-1]\n",
    "\n",
    "def levRatio(s1, s2):\n",
    "    l = levenshteinDistance(s1, s2)\n",
    "    m = max(len(s1), len(s2))\n",
    "    return (1 - (float(l)/float(m))) * 100"
   ]
  },
  {
   "cell_type": "code",
   "execution_count": 19,
   "metadata": {},
   "outputs": [
    {
     "name": "stdout",
     "output_type": "stream",
     "text": [
      "20.833333333333336\n",
      "87.5\n"
     ]
    }
   ],
   "source": [
    "print(levRatio(searchSTR, orgMatch))\n",
    "\n",
    "print(levRatio(searchSTR, orgMatchLC))"
   ]
  },
  {
   "cell_type": "code",
   "execution_count": 20,
   "metadata": {},
   "outputs": [
    {
     "name": "stdout",
     "output_type": "stream",
     "text": [
      "22\n",
      "93\n"
     ]
    }
   ],
   "source": [
    "print(fuzz.ratio(searchSTR, orgMatch))\n",
    "print(fuzz.ratio(searchSTR, orgMatchLC))"
   ]
  },
  {
   "cell_type": "markdown",
   "metadata": {},
   "source": [
    "### Fuzzy Wuzzy explanations\n",
    "- fuzz.ratio() -> edit distance simply (levenshtein)\n",
    "- fuzz.partial_ratio() -> checks for search str to be substr \n",
    "- fuzz.token_sort_ratio() -> alphabetically sort both string tokens and then match ratio\n",
    "- fuzz.token_set_ratio() -> make set(intersect) from both strings and create combinations with both & match ratio"
   ]
  },
  {
   "cell_type": "code",
   "execution_count": 43,
   "metadata": {},
   "outputs": [],
   "source": [
    "import re"
   ]
  },
  {
   "cell_type": "code",
   "execution_count": 44,
   "metadata": {},
   "outputs": [],
   "source": [
    "# congOrgs = sorted(congOrgs)"
   ]
  },
  {
   "cell_type": "code",
   "execution_count": 83,
   "metadata": {},
   "outputs": [
    {
     "name": "stdout",
     "output_type": "stream",
     "text": [
      "['University of Hawaii Credit Union A/C'\n",
      " 'University of Hawaii Credit Union' 'Xenonics' ...\n",
      " \"Hawaii's College Savings Program\" 'First Hawaiian Bank SEP'\n",
      " 'Hawaii State FCU']\n"
     ]
    }
   ],
   "source": [
    "print(congOrgs)"
   ]
  },
  {
   "cell_type": "code",
   "execution_count": 109,
   "metadata": {},
   "outputs": [
    {
     "name": "stdout",
     "output_type": "stream",
     "text": [
      "69982\n"
     ]
    }
   ],
   "source": [
    "results = [re.search(\"^[0-9]\", l, flags=re.IGNORECASE) for l in congOrgs]\n",
    "\n",
    "print(len(results))\n",
    "# for i in range(len(congOrgs)): \n",
    "#     print(re.search('^a', congOrgs[i], flags=re.IGNORECASE))"
   ]
  },
  {
   "cell_type": "code",
   "execution_count": 110,
   "metadata": {},
   "outputs": [],
   "source": [
    "# print(results)"
   ]
  },
  {
   "cell_type": "code",
   "execution_count": 111,
   "metadata": {
    "collapsed": true
   },
   "outputs": [
    {
     "name": "stdout",
     "output_type": "stream",
     "text": [
      "['6207 30th Street/North Arlington, VA', '65 Acres Land - Greenbrier Farms/McDonal', '60 Acres Land - Hoggleridge', '6207 30th St/North Arlington, VA', '65 Acres Land Greenbrier Farms/McDonal', '65 Acres Land Greenbrier Farms/McDonald', '60 Acres Land/Hoggleridge', '6207 30th Street North', '65 Acres Land - Greenbrier Farms/McDonald Farms Pa', '65 Acres Land - Greenbrier Farms/McDonald Farms', '245 Commercial Street/Portland, ME', '2351 Rocky Ridge Road/Birmingham, AL', '4821 12th Avenue/North Birmingham, AL', '3939 29th Place/North Birmingham, AL', '2025 16th Avenue/North Birmingham, AL', '3M Co', '80 acres & home/Onaway, MI', '153 Acres & 2 houses/Pocahontas Cnty, WY', '4317 Buckeystown Pike/Frederick, MD', '4219 Lime Kiln Rd/Frederick, MD', '256 Knoxville Rd/Knoxville, MD', '2 Spruce Knob Lake Forrest Service Rd Po', '3518 Mountain Rd/S Knoxville, MD', '122 Silopanna/Annapolis, MD', '3517 Mountain Rd/S Knoxville, MD', '112 Spruce Knob Lake Forest Service Rd', '2 lots/228 Knoxville Rd', '1115 Providence Court/Frederick, MD', '2 lots/228 Knoxville Rd/Kn', '3518 Mountain Rd S/Knoxville, MD', '3517 Mountain Rd S/Knoxville, MD', '112 Spruce Knob Lake Service Rd/Pocahon', '2 lots', '1115 Providence Ct/Frederick, MD', '1765 R Street NW/Washington, DC', '1629 21st Street NW/Washington, DC', '529 C Fund Capital Income Builder', '529 Capital World Bond Fund', '1005 Mooney Drive/Monterey Park, CA', '529 Investment', '101 North Carolina Pl SE/Washington, DC', '1633 Hill Drive/Los Angeles, CA', '101 North Carolina Place SE Apt H/Wash', '101 North Carolina Place SE Apt H/Washington', '529 College Savings Plan', '101 North Carolina Place, SE/Washington, DC', '529 Small Cap World Fund', '1005 Mooney Drive Monterey Park, CA', '101 North Carolina Place SE Apt H Washington', '3627 W 104th St LLC', '3627 West 104th St LLC', '3627 W 104th Street LLC', '140 Main Street/Gillett, AR', '408 E 3rd St SE/Washington DC', '408 E 3rd SE/Washington, DC', '408 E 3rd Street SE/Washington, DC', '6 Whole-Life Insurance policies', '760 Caesar Road/Picayune, MS', '720 Cesar Rd/Picayune, MS', '19 Raleigh St/Helena, MT', '720 Caesar Rd/Picayune, MS', '720 Caesar Road/Picayune, MS', '266 Daisy Aven/Imperial Beach, Ca', '2466 Unicornio St/Carlsbad, Ca', '230 Ebony Ave/Imperial Beach, Ca', '192-194 Ebony Ave/Imperial Beach, Ca', '257 Ebony Ave/Imperial Beach, Ca', '449 8th Street/Imperial Beach, Ca', '3473 Cactus Valley Lane/Laughlin, Nv', '829-831 10th St/Imperial Beach, Ca', '266 Daisy Ave/Imperial Beach, CA', '230 Ebony Ave/Imperial Beach, CA', '192 & 194 Ebony Ave/Imperial Beach CA', '829-831 10th Ave/Imperial Beach, CA', '257 Ebony Ave/Imperial Beach, CA', '499 8th St/Imperial Beach, CA', '3473 Cactus Valley Lane/Laughlin, NV', '129 & 194 Ebony Ave/Imperial Beach', '289-831 10th St/Imperial Beach, CA', '3Com Corp/Palm', '7-Eleven', '42nd & 10th', '301 Howard Street', '230 Park Ave', '100 K Street', '1-3 Years to College Portfolio', '116 & Melbourne Branson', '11 Acres/Strafford, MO', '11 Undeveloped Acres in Strafford, MO', '401-K Mondelez Int Inc', '11 Undeveloped Acres/Strafford, MO', '7908 Cincinnati-Dayton Road/Ohio', '305 C Street/Washington, DC', '3% Interest In LP', '4 Your Soul Inc', '162 acres farm land/Linn County, KS', '450 New Jersey Ave SE/Washington, DC', '23.7 acres/Johnson County, IN', '2177-2181 Galaxy/Laurel County, KY', '2176-2180 Galaxy/Laurel County, KY', '11.84 Acres/Johnson County, IN', '23 acres farmland/Johnson County, IN', '45 acres undeveloped land/Flat Creek, KY', '624 East Grand Boulevard/Corona, CA', '501 & 503 E 6th Street/Corona, CA', '1154 E 6th Street/Corona, CA', '408/410 S Main Street/Corona, CA', '408 & 410 S Main St/Corona, CA', '624 E Grand Commercial Rental', '103 N Lincoln Commercial Rental', '901 E 3rd St Commercial Rental', '63 W Grand Commercial Rental', '501 & 503 E 6th Commercial Rental', '330 Sherman Way Commercial Rental', '103 N Lincoln', '501 & 503 E 6th', '22622 S Gilbert Road', '122 E 6th Street', '245 Goddard Ave/Ignacio, CO', '556 2nd Avenue/Durango, CO', '541 CR 541/Ignacio, CO', '520 2nd Street/Durango, CO', '506-510 2nd Ave/Durango, CO', '4566 Parkside Drive/Kiawah Island, SC', '14 George Street/Dewey Beach, DE', '224A Justice Court/Washington, DC', '3-Bed Condo/Questa Verde, VI', '197 Acres 40ED/La Grange, VI', '645-47 W Liberty Street/Sumter, SC', '645-47 West Liberty Street/Sumter, SC', '645-47 West Liberty St/Sumter, SC', '645-47 W Liberty St/Sumter, SC', '645-47 W Liberty St', '78 acre farm/Henry County, VA', '78 acre farm', '316 G Street, SE home', '21st Century Insurance Group', '13/4/3 Parcel 200', '50% 3/5 interest in 21.06 Acres', '2/5 Interest in 21.06 Acres', '50% 3/5 interest in 21.06 Acres Description: 13/4/', '21.06 Acres', '2/5 Interest in 21.06 Acre', '3D Systems Corp', '21st Century Fox', '524 Skyline Shores/Scottsboro, AL', '3209 Cove Lake Road/Hampton Cove, AL', '527 East Beach Blvd/Gulf Shore, AL', '527 East Beach Blvd/Gulf Shores, AL', '359 Acre Ranchland/Framont, ID', '2014 Madison Avenue/Baltimore, MD', '5809 Leithwalk/Baltimore, MD', '1830 11th St NW Ste 1/Washington, DC', '2225 St Paul Street/Baltimore, MD', '2221 St Paul St/Baltimore, MD', '2014 Madison Ave/Baltimore, MD', '2014 Madison Ave/Baltimore MD', '1830 11th St NW #1/Washington, DC', '1830-11th St NW/Washington, DC', '132 Randolph Place NW/Washington, DC', '132 Randolph Place, NW', '2221 Street Paul Street/Baltimore, MD', '2014 Madison Ave, Baltimore, MD 21217', '33 acres on Riverbend Road/Demorest, GA', '314 11th Street NE/Washington, DC', '15 Acres Log Cabin Road/Habersham County', '1 Acre Lot/Habersham County, GA', '5 acres on Log Cabin Road/Demorest, GA', '3 acres Flint Ridge Road/Gainesville, GA', '15 acres on Log Cabin Road/Demorest, GA', '28 Acres Inherited from Mother Estate', '5 Acres', '1.3 Acres/Gainesville', '53880 Pine Grove Lapine', '36 Hempleman Dr/Akaroa, NZ', '53880 Pine Grove/Lapine OR', '53880 Pine Grove/Lapine Or', '1/2 ownership', '53880 Pine Grove Rd/Lapine, OR', '1/2 Oregon', '3Com Corp', '6734 Spicewood Springs/Travis County, TX', '3800 Kennelwood/Austin, TX', '1200 Baylor 401/Austin, TX', \"8 acres Lohman's Ford/Travis County, TX\", '220 North Mesa/El Paso, Texas', '711 N Piedras/El Paso, TX', '21.12 Acres/Northern Dona Ana City, NM', '1157 San Bernard St/Austin, TX', \"8.16 acres/Lohman's Ford Crossing Rd, TX\", '1200 Baylor/Austin, TX', '1157 San Bernard St/Austin TX', '6734 Spicewood Springs', '3800 Kennelwood', '1200 Baylor #401', '1157 San Bernard St', '1916 Monongahela Avenue/Pittsburgh, PA', '1916 Monongahela Avenue', '52 Mayfair/Riverside County, CA', '2001 Ford Truck', '2001 Chrysler', '1995 Saturn', '1996 Ford Truck', '2010 Ford Fusion', '1996 Ford Ranger', '2012 Ford Fusion', '1996 Ranger Truck', '7720 Building Corp', '1108 Mamers-Summerville Rd/Lillington NC', '1108 Summerville-Mamers Road/Lillington, NC', '406 S Capitol Street SE/Washington, DC', '2 Notes receivable on personal residence', '400 Acre Farm/Houston County, AL', '400 Acre Farm', '913 Adobe Flat Drive/Henderson, NV', '511 Chandler Street/Henderson, NV', '1148 South 1470 East/Provo, UT', '929 Alta Oaks Drive/Henderson, NV', '929 Alta Oaks Drive/Henderson NV', '20 Residential rental property', '42 MFS Utilities Svc', '529 CSP Aggressive Growth', '529 College Savings Program Market', '529 College Savings Program Advisor', '1401 17th Street NW/Washington, DC', '17.9 acres unimp land/Frelinghuysen, NJ', '17 acres of Unimproved land', '235.8 Acres of Unimproved Land', '17.923 Acres unimproved land', '17.923 Acres Unimproved Land/Frelinghuysen Twp', '235.8 Acres Of Unimproved land', '17.923 Acres unimproved land Frelinghuysen Twp, NJ', '1/5 interest in Rattlesnake Mountain', '15th undivided interest in 235.8 acres', '70 Acres Clear Cut Pines/Latta, SC', '2535 Wedglea/Dallas, TX', '100 Acres of Clear Cut Pines/Latta, SC', '1791 Erringer Road/Simi Valley, CA', '1491 Duarte Circle/Simi Valley, CA', '1351 Cherry/Simi Valley, CA', '12 Via Santanella/Rancho Mirage, CA', '1791 Erringer Rd/Simi Valley, CA', '1791 Erringer Road/Simi Valley CA', '200 acres & house/Rt 2/Rocky Mt, VA', '2 acres with old office Rt 2/Rocky Mount', '50 acres Rt 3/Ferrum, VA', '7.78 A in BRD/Franklin County, VA', '3 lots Koehler Rt 1/Fieldale, VA', '28 acres Rt 1/Henry, VA', '2 Acres at H', '2 Acres with office/Rocky Mount, VA', '2 acres/Henry, VA', '2 Acres with office Hwy 220/Rocky Mount', '2 Acres with office', '2 Acres', '4702,4704,4706, & 4708 Washburn & 16', '4702 Washburn/Fort Worth, Texas', '1616 Kenley/Fort Worth, Texas', '4702 Washburn/Ft Worth, TX', '4708 Washburn/Fort Worth, TX', '4706 Washburn/Fort Worth, TX', '4704 Washburn/Fort Worth, TX', '4702 Washburn/Fort Worth, TX', '1616 Kenley/Forth Worth, TX', '20-year Contract Sale of 2 acre Farm', '1st National Bank of the South/CD', '20-year Contract-Sale/2 Acre Farmstead', '20 year Contract-Sale of 2 Acre Farmstea', '222 International Drive LP', '185 Beacon Street LLC', '175 Purchase Street LLC', '222 International LLC', '180 International LLC', '395 Marlborough LLC', '2025 W St Paul/Chicago, IL', '2146 W Churchill/Chicago, IL', '1003 W Fulton/Chicago, IL', '615 Vistamar Street/Rio Grande, PR', '535 Marina Street/Rio Grande, PR', '535 Marina St/Rio Grande, Puerto Rico', '615 Vistamar St/Rio Grande, Puerto Rico', '310 E Capital Street NW/Washington, DC', '4 Acres, 1500 Sunset Hill/Rockwall, TX', '50% Interest 4 Acres/Rockwall, TX', '50% Interest 152 Acres/Hunt County, TX', '4 Acres', '50% Interest 4 Acres', '50% Interest 152 Acre Farm', '50% Interest 4 Acres 1500 Sunset Hill, TX', '50% Interest 152 Acre Heart County, TX - Farm', '1st Century Bancshares', '69 Acres/Plano, IL', '125.96 Acres/Kendall County, IL', '20 Acres Undev Land/Utah County, UT', '20 acres of undeveloped', '20 acres of Undeveloped land', '4th Avenue/Rio Oso, CA', '342 S Texas Ave/Mercedes, TX', '1404 S Illinois Street, Rent Residence', '1-Four Partnership', '76-78 East Market Street/Corning, NY', '50 Acres W/2 Houses/Warren City, VA', '1/4 Acre Lot/Bear Lake, VT', '35 Acres W/3 Houses', '18 Acres with cabin/Virginia', '1/4 Acre Lot/Utah', '1 Acre with Cabin/Hunter Division, VA', '500 Index Fund', '500 Index', '2nd Mortgage on 6113 Inland', '6113 Inland/Warr Acres, OK', '304 NE 23nd/Norman, OK', '4018 Charleston (lot) Houston, TX 77021', '1414 Wheeler/Houston, TX', '1914 Wheeler Houston, TX', '8 Kingsley Avenue/Rutland, VT', '2 Lots in Poinciana/Kissimee, FL', '1st Tennesse Bank IRA', '1st Tennesse Bank/Savings', '1st Tennesse Bank/Checking', '1st Tennessee National Corp', '6 Acres Land On Clinch River', '1224 Hwy 90/Crowley, LA', '819 Northern/Crowley, LA', '1220 Hwy 90/Crowley, LA', '1108 11th Street/Crowley, LA', '90+acres/Wright Township, PA', '20+acres/Dallas Township, PA', '126 S Franklin Street/Wilkes-Barre, PA', '1854 Harlan Road/Toledo, OH', '1846 Rivard Road/Toledo, OH', '1837 Dority Road/Toledo, OH', '1848 Rivard Rd/Toledo, OH', '5151 Fleet Rd/Toledo, OH', '1854 Harlan Rd/Toledo, OH', '90 Maple Ave/Mt Kisco', '87 Bedford Rd/Katonah', '8 Waterview Court/South Salem', '101 N Morgan/Mt Kisco', '36 Anderson Road/Katonah', '105 Bedford Road/Katonah', '10 Winterview Court/South Salem', '1936 Trusts FBO Edward M Kennedy', '1926 Trusts FBO Kathleen K Hartington', '1926 Trusts FBO Joseph P Kennedy Jr', '1926 Trusts FBO Edward M Kennedy', '1926 Trusts FBO Rose M Kennedy', '1936 Trust FBO Edward M Kennedy', '1936 Trust Joseph P Kennedy', '1925 Squaw Run Road/Pittsburgh, PA', '3-D Systems Corp', '5 Buckhotz Road/Ettrick, WI', '213 Pearl Street/LaCrosse, WI', '219 Pearl Street/LaCrosse, WI', '219 Pearl Street/La Crosse, WI', '219 Pearl St/La Crosse, WI', '5 Island Drive/Savannah, GA', '111 Jacquelyn Drive/Savannah, GA', '105 18th Street/Tybee Island, GA', '5 Island Dr/Savannah GA', '35 Bluff Drive LLC', '18th St/Tybee, GA/Rental Property', '35 Bluff Drive LLC/Extended Family Residence', '3765 Sierra Dr/Merritt Island, FL', '300 Acres of Land/Sanolta, AZ', '113 Inherited Interest of Apartment in U', '1038 Park Meadow Drive/Beaumont, TX', '7090 Prutzman 25/Beaumont, TX', '7090 Prutzman 24/Beaumont, TX', '7090 Prutzman/Beaumont, TX', '500 Independence LLC', '1 acre of undeveloped land/Monroe, LA', '1.048 Acres Undeveloped Land', '4596 Perry Street/Denver, CO', '35 River Walk Way/Lowell, MA', '401k Pension Plan American Funds', '401K /Pension Plan American Funds', '444 Realty Co', '40 Worth Assoc', '360 Park South Assoc', '132 W 125 Co', '600 Broadway Assoc', '132 W 125 Co/Us Treasury Notes', '444 Realty Co/Hsbc Cash In Bank', '132 West 125 Co/Cash Hsbc Bank', '525 Properties Llc', '444 Realty Co/Commercial RE NY, NY', '360 Park South LLC', '360 Park South Assoc/US Treasury Bond', '444 Realty Co/US Treasury Bonds', '444 Realty Co/HSBC Cash', '360 Park South Assoc/HSBC Cash', '2S Crossover LP', '2S Co', '132 W 125 Co/US Treasury Bonds', '132 West 125 St/NY, NY', '132 W 125 St LLC/Cash', '910 Park Avenue Residential Real Estate', '40 Worth St Assoc', '360 Park Ave South/NY', '584 Broadway/New York, NY', '299 Broadway/NY', '525 Seventh Ave/New York, NY', '360 Park Ave S Assoc', '132 W 125 St LLC', '132 W 125 St LLC/US Treasury Bills', '7510 Assoc', '360 Park Ave S Assoc/US Treasury Bills', '299 Broadway Assoc', '132 West 125 St Office Bldg/New York, NY', '525 Seventh Ave Assoc', '132 West 125 St Office Building/NY, NY', '132 W 125 St LLC/Cash in Bank HSBC', '712 West Assoc LLC', '682 Inwood Assoc LLC', '360 Park Ave Invest Ptsp', '7510 LLC /Cash in Bank HSBC', '444 Real Estate Co', '360 Park Ave S Assoc/Cash in Bank HSBC', '584 Broadway Assoc Office Building', '299 Broadway Assoc Office Building', '525 Seventh Ave Assoc Office Building', '1250 4th Street SW/Washington, DC', '79 acres/Livingston County, MI', '18 acres/Livingston County, MI', '18 acres/Livingston County', '79 acres', '10 acres', '10 acres, Livingston County, MI/Livin', '78 acres/Tyrone Township, MI', '18 acres/Tyrone County, MI', '78 Acres/Michigan', '18 Acres/Michigan', '18 acres/Tyrone Township, MI', '18 Acres/Tyrone Township, MI', '78 acres', '18 acres', '78 acres/Tyrone Townshi', \"1/3 of mother's estate\", '250 West 57th Street Assoc', '250 West 57th St Assoc', '161 Acres Unimproved Land/Carrol County', '57 West 70th Development LLC', '649 C Street SE/Apt 209', '649 C Street SE Apt 209', '480 acr-Farmland-House-Cattle/Cheyenne', '103 acres Mineral Rights/Roger Mills, OK', '480 acres Farmland, House, Equip, Cattle', '320 acres - Farmland/Roger Mills Co OK', '320 acres of Farmland/Roger Mills Co', '480 acres Farmland/Roger Mills, Co', '63-34 acres  Mineral Rights/Roger Mill', '320 acres - Farmland/Cheyenne/Roger Mills, OK', '480 acres - Farmland/Cheyenne/Roger Mills, OK', '63 acres Mineral Rights/Roger Mills, OK', '480 acres - Farmland', '96 acres/Southampton County, VA', '96 acres', '25% Interest Inherited from the Settlement of the', '96 Acres, Route 64', '400 Wash Street/Oragon, IL', '701/801 LLC', '500 Index Fund Inv', '1225 Massachusetts Ave SE/Washington, DC', '1st Federal Savings (deferred income)', '430 M Street/Washington, DC', '1806 West Street/Union City, NJ', '2195 Via Tuscany/Winter Park, FL', '15 3rd Street NE/Washington, DC', '305 E Capitol Street SE/Washington, DC', '1305 S Atlantic Ave/Cocoa Beach, FL', '305 E Capitol St SE/Washington, DC', '2195 Via Tuscany/Winter Park FL', '305 E Capitol St SE/Rental Unit', '1305 S Atlantic Ave Unit 130', '305 E Capitol Street SE/Rental Unit', '803 North Grandee Rental/Compton, CA', '1236 W 64th Street/Los Angeles, CA', '850-856 W 129th Street/Gardena, CA', '225B C Street/Washingtohn, DC', '2nd Baptist Credit Union/Accounts', '1101 Marshall Place/Long Beach, CA', '127 D Street SE/Washington, DC', '127 D St, SE/Washington, DC', '25010 Property Ownership: Mgt Remington', '43 Property Ownership', '45 Int Coal, Oil, Gas/6.5 Ac. Winn Lick', '842 Middle Island Lot/Bald Head Island', '6 Peppervine Trail/Bald Head Island, NC', '949/951/953 Middle Island Lots/Bald Head', '521 Middle Island Lot/Bald Head Island', '15 Horsemint Trail/Bald Head Island, NC', '60 G Street SW/Washington, DC', '725 Mt Vernon Avenue/Fairmont, WV', '60 G St SW/Washington, DC', '5th Avenue Tech Growth Fund', '3252 Winchester Road/Delaplane, VA', '3rd Avenue Focus Credit Investment Fund', '1st Eagle Global Fund', '3rd Avenue Real Estate Value Inv Fund', '2nd Home/Thessaliniki, Greece', '33 Myrtle Street/Boston, MA', '27 acres of unimproved land/Pelham, MA', '25 acres unimproved land/Berlin Township', '45 acres of unimproved land/Pelham, MA', '25 acres of unimproved land/Beachlake', '120 acres unimproved land/Plainfield, MA', '27 acres of Unimproved land', '120 acres of unimproved land', '45 acres of Unimproved land', '2104 Lago Viejo South/Rancho Viejo, TX', '1011 Ennis Joslin/Corpus Christi, TX', '800 Balboa Road/Rancho Viejo, TX', '4601 Carmen Unit 2104/Rancho Viejo, TX', '649 McClendon St/Corpus Christi, TX', '2422 Bluewater Highway/Surfside, TX', '9 BT Archer/Oyster Creek, TX', '58 Flag Lake Plaza/LJ, TX', '58 Flag Lake Plaza/Lake Jackson, TX', '58 Flag Lake Plaza/Lake Jackson TX', '19 Bock Avenue/Newark, NJ', '820 Sir Francis Drake Blvd/San Anselmo', '723 Mule Ears Court/Norden, CA', '45 Belden Place/San Francisco, CA', '25 Point Lobos/San Francisco, CA', '1600 Atlas Peak Road/Napa, CA', '235 Twelve Inc', '25 Point Lobos - Commercial Property', '11 Zinfandel Lane - Home & Vineyard', '723 Mule Ears Court - Townhome', '45 Belden Place - Four Story Commercial Building', '1600 Atlas Peak Road - Real Estate Investment', '130 N 2nd Street/Pleasantville, PA', '601 Pennsylvania Ave NW/Washington, DC', '601 Pennsylvania Ave NW 202', '3390 Ben Hur Road/Mariposa, CA', '76.57 82 & 2.2 Acre Tracts/Sampson Co', '10 Acres Real Estate/Castle Hayne, NC', '76.57, 82 & 2.2 Acre Tracts/Sampson Co', '3 Tracts/Salemburg, NC', '10 Acres Real Estate', '2% Interest Cambridge Heights Apts Partnership', '301 174th Street/Sunny Isles, FL', '160 acres/Bullhead City, AZ', '55.10 Acre Parcel', '50% interest in part of Parcel III, Lot', '2 Parcels/Iron County, UT', '75 Acres Patented Mining Claims', '55.1 Acres/Searchlight, NV', '1/4 Acre Vacant Lot In Section 5 T 7s', '1/4 acre vacant lot in Section 5, T 7S', '55.10 acres/Pat Sur 2605/Searchlight, NV', '160 acres/Bullhead County, AZ', '50% Interest In Lot 9/Searchlight, NV', '1.4 acre vacant lot in Sec. 5, T7S, R61E', '2 parcels/Iron Ct, UT', '160 acres', '2 parcels/Iron Ct UT', '1 Lot/Columbia, SC', '1/3 Lot Gift/Sumter, SC', '1/3 Lot/Sumter, SC', '1 Lot', '1/2 interest in two lots', '1/3 interest in unimproved land', '3411 Woodley Road Property Description: Residence', '530 First Street SE/Washington, DC', '371 W Harding/San Antonio TX', '371 W Harding/San Antonio, TX', '830 1st Street SE/Washington, DC', '530 1st Street SE/Washington, DC', '163 D Street SE/Washington, DC', '550 Huyler Street/South Hackensack, NJ', '125 Louis Street/South Hackensack, NJ', '80 Wesley Street/South Hackensack, NJ', '4E Forest Avenue/Englewood, NJ', '425 Victoria Terrace/Ridgefield, NJ', '40 Ruta Court/South Hackensack, NJ', '30 Ruta Court/South Hackensack, NJ', '250 North Street/Englewood, NJ', '17793 Southwick Way/Boca Raton, FL', '175 Louis Street/Hackensack, NJ', '150 Louis Street/South Hackensack, NJ', '600 Hollister Road/Teterboro, NJ', '45 Ruta Court/South Hackensack, NJ', '538-540 Huyler Street/South Hackensack', '80 Wesley Street RNN Llc', '175 Louis Street Sustar LLC', '250 North Street/Teterboro, NJ', '538-540 Huyler St/South Hackensack, NJ', '550 Huyler St/South Hackensack, NJ', '250 North Street/Teterboro NJ', '175 Louis Street/Hackensack NJ', '401k', '401k Account', '1624 Via Arriba/Palos Verdes Home', '2105 N Townek SA/Personal Home', '509 King Street Residence', '84M Pre-2010', '307 Sea Island Parkway', '301 Sea Island Parkway', '84M Post 2009', '311B Sea Island Parkway', '2304 Pine Ct #75', '2304 Pine #10', '217 Rivers Street', '1813 Lovejoy Street', '18 Tailwind Trail', '14 Tailwind Trail', '82 Barnaby Bluff, Lot 160', '509 King Street apartment', '311a Sea Island Parkway', '311 Middle Street', '273 Keans Neck', '8.5 ac Keans Neck Road', '603 Beaver Terrace/State College, PA', '306 Beaver Plaza/State College, PA', '304 Beaver Plaza/State College, PA', '610 Beaver Terrace/State College, PA', '1010 Beaver Terrace/State College, PA', '604 Beaver Terrace/State College, PA', '207 High Street/Mt Holly, NJ', '914 Shore Drive, Newport News, VA 23607', '243 Padgetts Ordinary, Kingsmill Condo', '20 ft Pontoon boat & 40 hp Mercury motor', '17ft Boston Whaler boat/70hp Johnson mtr', '1996 Buick Regal', '1994 Cadillac Deville', '1989 Cadillac Fleetwood', '1991 Buick Century automobile', '17 ft Boston Whaler boat/70 hp Jhnsn mtr', '20 Ft Pontoon Boat & 40 Hp Mercury Outb', '17 Ft Boston Whaler Boat & 70 Hp Johnso', '1994 Cadillac Deville-retail Value', '1996 Buick Regal-retail Value', '1989 Cadillac Fleetwood-retail Value', '2013 Ford Taurus', '20 ft Pontoon Boat', '2009 Ford Taurus', '17 ft Boston Whaler boat', '40 acres Timberland/Choctaw County, AL', '500 acres of farmland/Wilcox County, AL', '10 acres of timberland/Bladon Springs', '10 Acres Timberland/Choctaw County, AL', '690 9th Street SW/Washington, DC', '440 Spring Street/Collinsville, IL', '690 9th Street, SW/Washington, DC', '690 9th Street SW/Washington, DC, US', '440 Spring Street/Collinsville Madison, IL', '401K Eastman Kodak SIP', '401K Ek Co SIP', '19 Warren Street/Barnstable, MA', '425 Soledad/San Antonio, TX', '1211 Summit Rd/McLean, VA', '1/2 life interest in surface & mineral', '315 Cleveland Court/San Antonio, TX', '12 Stoneholm/Boston, MA', '1/3 interest/Town of Barstable, MA', '6800 Fleetwood Rd Unit 513/McLean, VA', '425 Soledad Ltd', '19 Warren St/Barnstable, MA', '19 Warren Street', '1/2 Life Use Interest', '1/3 interest', '340 Rio Drive/New Braunfels, TX', '315 Cleveland Ct/San Antonio, TX', '19 Warren Street/Town of Barnstab', '403(B)(9) Retirement Savings Plan', '19 Warren St/Barnstable', '1/3 Interest in 19 Warren Street/Town of Barnstab', '1976 Jaguar personal car', '800 acres/Farmland-Timber-Fenced pasture', '233 Kings Mountain Street/York, SC', '19 N Congress Street/York, SC', '800 acres timber hay pasture & cro', '800 acres timber, crop & pasture land', '20th Century Gift Trust Mutual Fund', '516 Multi-tenant Warehouse/Littlefield D', '1998 John Deere Cotton Stripper 7455', '840 Acres Rent/Jones County, TX', '8300 John Deere Tractor', '160 Acres/Jones County, TX', '840 Acres CCC Payments/Jones County, TX', '75 Acres/Wheeler County, TX', '104 North Liberty Street/Asheville, NC', '3231 & 3233 West Capitol St/Jackson, MS', '2 acres Northside Drive/Bolton, MS', '1 acre/Old Fairground Road Edwards, MS', '1 acre/Mount Olive Road Bolton, MS', '2 acres unimproved property/Bolton, MS', '2 acres of Unimproved Property', '12 acres unimproved property', '2 acres unimproved property', '5 acres unimproved property', '1303 TACT INC Closed-End', '1290 Business DEV COM OPPTYS', '1272 International High 30 DVD', '21 Settlers Way/Salem, MA', '1025 First St SE/Washington, DC', '1025 First St SE 414/Washington, DC', '21 Settlers Way Salem, MA', '385 Acres/Houston, TX', '301 Acres/Houston, TX', '3.7 Acres Masters Survey/Houston, TX', '14 Sh A', '5th 3rd Bank Money Market', '5th 3rd Savings Bank Accounts', '21st Cent Fox', '84 Woodhull Street/Brooklyn, NY', '20th Century Roth IRA', '20th Century Growth Fund', '20th Century ROTH IRA Growth Fund', '993 KM 1.0 Los Chivos', '993 KM 1 Los Chivos', '1711 King Street Assoc', '549 S Lucerne Blvd/Los Angeles, CA', '701 W Barstow/Palm Springs, CA', '2201 Kirk Street/Houston, TX', '549 So Lucerne Blvd LA', '549 So Lucerne Blvd/LA', '549 So Lucerne Blvd/Los Angeles, CA', '2201 Kirk St/Houston, TX', '549 S Lucerne/LA, California', '701 W Barstow/California', '2201 Kirk St/Houston', '549 S Lucerne', '701 W Barstow', '2201 Kirk St, Houston, TX', '1 Bond', '529 Savings Plans Noa Abramson', '529 Savings Plans Maya Abramson', '529 Savings Plans Ari Abramson', '8361 Mineral Springs Drive/Manassas, VA', '1335 S Prairie Avenue/Chicago, IL', '1309 A Union St', '1250 Andrea Court/Morris, IL', '19806 South Wolf Road/Mokena, IL', '13.231 Acres/Weatherford,TX', '13.231 Acres Weatherford, Parker Co', '511 Bashford Lane/Alexandria, VA', '511-1 Bashford Lane/Alexandria, VA', '511-3 Bashford Lane/Alexandria, VA', '710 North Gloster/Tupelo, MS', '1001 Valley Road/Tupelo, MS', '1 Bashford Lane/Alexandria, VA', '6 unimproved lots/Valencia County, NM', '1304 Blossomwood NW', '931 Player Loop/Rio Rancho, NM', '6 Unimproved Lots/Valencia County, NM', '1 unimproved lot', '529 Washington Mutual Inv Fund', '529 Putnam College Adr Fund', '2393 SW Park Place/Portland, OR', '7745 Greymont Street/Hyattsville, MD', '508 Seward Square Apartment/Wash, DC', '82 Salmon Beach/Tacoma, WA', '150 D Street SE/Washington, DC', '3466 Legendary LV NV', '208 D Street SE/Washington, DC', '314th & Osborn Road/Buckeye, AZ', '2630 East Harris Farm Rd/Pahrump, NV', '1241 Pascoe/Pahrump, NV', '8 Sparqs Into Deil by MS 8% Qtrly Sep du', '1281 Laura/Pahrump, NV', '11932 Orense Dr/Las Vegas, NV', '3466 Legendary/Las Vegas, NV', '2400 Tech Center LLC', '1660 Honeysuckle/Pahrump, NV', '7032 Azure Beach/Las Vegas, NV', '546 Poplar Leaf/Las Vegas, NV', '489 Melrose Heights/Henderson, NV', '3964 Bella Palermo Way/Las Vegas, NV', '11829 Ampucia/Las Vegas, NV', '11628 Aruba Beach/Las Vegas, NV', '11234 Revelry Lane/Las Vegas, NV', '11012 Meadow Leaf/Las Vegas, NV', '208 D St SE/Washington, DC', '150 D St SE/Washington, DC', '2630 E Harris Farm Rd/Pahrump, NV', '208 D St SE/Washington DC', '4154 Via Dana/Las Vegas, NV', '11234 Revelry Ln/Las Vegas, NV', '172 Central State/Somerville, MA', '4 Farley Drive/Albany, NY', '1 Farley Drive/Rensselaer, NY', \"714 St Mary's St LLC\", '408-410 Stevens Street/Green Bay, WI', '1790 7th St/Green Bay, WI', '60 Brays Island Drive/Sheldon, SC', '5 Acres & House 1975 Hwy 73/Concord, NC', '40 Acres & 2 Cabins/Lake County, MN', '2025 Freedom Fund', '12 acres/Rabun County, GA', '5074 Hampton Farms Drive/Marietta, GA', \"4 I's LLC\", '4 acres/Cherokee County', '2 acres Highway 140/Cherokee County', \"41's LLC\", '3832 Brandon Mill Road/Rabun Cty, GA', '5074 Hampton Farms Dr/Marietta, GA', '807 University Towers condo Athens GA', '54 acres', '54 acres/Douglas County, GA', '12 acres Brandon Mill Rd/Rabun Cty, G', \"4 l's LLC 8\", '12 acres', '201 Mass Avenue/condo Washington, DC', '807 University Towers', '201 Mass Avenue/condo - Washington, DC', '1/12th interest in 54 acres', '4 Parcels/382 Acr Vacant Land/Cucamonga', '201 021 22, 201 032 01, 200 051 42 & 200', '4 Parcels/382 Acre Vacant Land/Cucamonga', '4 parcels/382 acres/Rancho Cucamonga, CA', '4 of 4 Parcels that make up 385 Acre Project calle', '1 of the 3 Parcels that makes up the 385 Acres of', '4-Plex Rental Units/San Antonio, TX', '4 Plex Rental Units', '4 Plex Rental Unit/San Antonio, TX', '4 Plex Rental Unit San Antonio, TX', '2250 University Ave/Sacramento, CA', '4 Sylvan Lp', '6200 South Park Avenue/Hamburg, NY', '6200 South Park Ave/Hamburg, NY', '1/3 Remainder Interest in Excepted Trust', '10 oz Gold Bar', '2140 Finley Road East/Finley, CA', '1435/1439 Kearney Street/St Helena, CA', '1435/1439 Kearny St, St Helena', '20% Interest Travis Webb', '1435/1439 Kearney Street/St Helena', '12-14 Bright Start College Savings Plan', '100 Plaza Investment Real Estate', '1602 SE Flavel Street/Portland, OR', '305 Conway Hill Rd/St Louis', '13380 Pointe Conway Dr/St Louis', '98.52 Acres undeveloped/Breckenridge, MN', '2 Lots Undeveloped/Massanutten, VA', '1101 S Arlington Ridge Rd/Arlington, VA', '401K/ Wells Fargo ESOP Fund', '100% Treasury Money Market Fund', '2 lots (3.31 acres) & 1 lot (2.68 acres)', '401k Retirement', '7 Red Cedar Way/Newport News, VA', '56 Bedford Road/Newport News, VA', '102 Haverstraw Court/Yorktown, VA', '386 Susan Constant/Newport News, VA', '304-B Maple Avenue/Newport News, VA', '4113-15 Arbor Vitae/San Diego, CA', '4113-15 Arbor Vitae, San Diego, CA', '13 The Arbors Murray Hill/New Providence', '3352 N Alpine Vista Way/Lehi, UT', '326 West 4620/North, Provo, UT', '326 West 4620/North Provo, UT', '524 Johnstown Rd/Chesapeake, VA', '536 Johnstown (Residence)/Chespk, VA', '1391 Duck Rd/Dare Co NC', '524 Johnstown (Office)/Chesapeake, VA', '524 Johnstown Rd/Cheasapeake, VA', '536 Johnstown Rd Rental/Chesapeake, VA', '524 Johnstown Rd, Chesapeake VA - Office Building', '536 Johnstown Rd, Chesapeake, VA - Rental Home', '524 Johnstown Rd, Chesapeake, VA Office Building', '5931 Priestly Dr LP', '3186 Vista Way LP', '1800 Carillon Blvd LP', '1709 La Costa Meadows LP', '12400 Stowe Dr LP', '212 S Main Street LP', '1200 Harbor Dr LP', '2067 W Vista Way LP', '2585 Business Park LP', '2280 Faraday Ave LP', '212 Main Street LP', '1800 Carillon LP', '12400 Stowe Drive LP', '1800 Carrillon LP', '212 Main LP', '1st Mid-Illinois Bank & Trust Certificat', '3292 Mt Vernon Ave/Alexandria, VA', '1065 Frenchtown Road/East Greenwich, RI', '83 Elmdale Ave/Warwick, RI', '65 Chesterfield/Warwick, RI', '340 Shawmut Ave/Warwick, RI', '25 Scott Avenue/Warwick, RI', '170 Shannon Drive/Warwick, RI', '17 Scott Avenue/Warwick, RI', '15 Jefferson Street/Warwick, RI', '14901 Park Lane Drive/Ft Meyers, FL', '9 Jefferson Street/Warwick, RI', '9 Jefferson St/Warwick, Ri', '65 Chesterfield St/Warwick RI', '1300 13th Street NW/Washington, DC', '65 Chesterfield St/Warwick, RI', '340 Shawmut Avenue/Warwick, RI', '15 Jefferson St/Warwick, RI', '14901 Park Lane Dr/Ft Meyers, FL', '9 Jefferson St/Warwick, RI', '65 Chesterfield Street/Warwick RI', '340 Shawmut Avenue/ Warwick, RI', '17 Scott Avenue/Warwick RI', '14901 Park Lane Drive #101/Ft Meyers, FL', '9 Jefferson', '340 Shawmut', '25 Scott/Warwick, RI', '17 Scott', '15 Jefferson', '14901 Park Lane Dr', '25 Scott', '55 G Street/South Boston, MA', '3 Jason Terrace/South Boston, MA', '55 G Street', '3 Jason Terrace, South Boston, MA', '9.4 acres/6628 Roeville Road/Milton', '9.4 acres/6628 Roeville Road', '6 Acres-Mark Wolverton/Milton', '4 unimproved acres Parker Rd/Milton', '2.6 acres/Parker Road/Milton, CA', '2.5 acres unimproved/Highway 182', '2.5 acres unimproved/Highway 191', '80 acres/Santa Rosa County', '9.4 Acres/Luther Peaden/Milton', '8012 Parker Road/Milton, FL', '7953 Malone Road/Milton, FL', '2.96 Acres/Richard Jones/Milton, CA', '7989 Malone Rd 1 Acres/Milton', '2.4 Acres/Parker Rd Lot 35/Milton, CA', '80 acres/Malino Bridge Road/Santa Rosa', '7973 Malone Road/Milton', '151 E Hathaway Avenue/Bronson, FL', '2.5 acres umimproved/Chumuckla', '2.5 acres unimproved/Hwy 191/Milton, FL', '80 acres Molino Bridge Rd/Milton, FL', '7890 Parker Rd., Milton, FL', '7954 Parker Road/Milton, FL', '7906 Parker Road/Milton, FL', '8012 Parker Rd., Milton, FL', '205 Acres Hwy 89/Milton, FL', '7890 Parker Rd/Milton, FL', '8012 Parker Rd/Milton, FL', '7906 Parker Rd/Milton, FL - 2.96 acres', '7890 Parker Rd Milton FL/William Se', '33 acres Wooded', '2.96 acres - Keith Jones', '2.96 acres; Lot 35-Randall Calderon Paid', '205 acres Timber Land', '60 acres/Farm Land', '40 acre/Farm Land', '33 Acres Timberland', '21.5 acres Wooded', '80 acres (unimproved)', '25 acres unimproved', '7906 Parker Rd/Milton, FL', '7906 Parker Rd, Milton, FL, 2.96 acres, Keith Jone', '8012 Parker Rd., Milton, FL, Susan Hodges', '609 West B St Residential/Commercial Lot', '529C', '21 7th Street NE (Room)/Washington, DC', '3902 Rifle Creek', '1737 Ave D', '3902 Rifle Creek Trail/Billings, MT', '802 Meadowlark/Howell, MI', '5S LLC', '5S LLC/General Partner Shuster Family', '5S LLC General Partner of Shuster Family Limited P', '5604 & 5606 Parkville Road', '5596 & 5598 Parkville Road', '2210 & 2212 Tupsfield Road', '5596 & 5598 Parkville Rd (with father)', '5596 & 5598/Parkville Road', '5604 & 5606 Parkville Rd', '5596 & 5598 Parkville Rd', '2210 & 2212 Tupsfield Rd', '470 & 472 Radcliff Drive (with spouse)', '470 & 472 Radcliff Drive', '640 Sunset Blvd/West Columbia, SC', '1534 Sunset Blvd/West Columbia, SC', '101 Shuler Street/West Columbia, SC', '922 Sunset Blvd/West Columbia, SC', '515 E Main St/Lexington, SC', '2827 Wilton Road/Springdale, SC', '2823 Wilton Road/Springdale, SC', '99 Tally Ho Court/Sapphire, NC', '2827 Wilson Road/Springdale, SC', '220-A Justice Court NE/Washington, DC', '2827 Wilton Rd/Springdale, SC', '2823 Wilton Rd/Springdale, SC', '3600 LLC', '21e', '4 Undeveloped lots/Victoria, TX', '557.2 acres of ranch land/Victoria, TX', '12.5 acres land/Victoria, TX', '3.91 Acres of Land & Small Building', '36 acres land/Victoria, TX', '3600 Management LLC', '4 acres land/small building/Victoria, TX', '557.2 acres of ranch land northeast', '12.5 acres land - Assessed value for tax', '60.3 acres lan', '60 acres land', '60.3 acres bnd', '60.3 acres land', '90 Acres/Westminster, SC', '63 Acres/Westminster, SC', '45 Acres/Westminster, SC', '31.31 Acres/Westminster, SC', '23 Acres/Westminster, SC', '22 Acres/Westminster, SC', '63.5 Acres', '45.7 Acres', '23 Acres', '22 Acres', '10 acres/Westminster, SC', '31 Acres/Westminster, SC', '22 acres/Westminster, SC', '2,469 acres Timberland/Wilcox County, AL', '2-11 acre lots/Baldwin County, AL', '76 Acres Timberland/Wilcox County, AL', '2469 acres timberland/Wilcox County, AL', '76 acres timberland/Wilcox County, AL', '2-11 acre lots', '5500 SW 30th Avenue/Marion County, FL', '160 Trenton Boulevard/Tamuning, Guam', '5747 NE 61st Street/Marion County, FL', '3.75% Deutsche Bank 1997-2007', '3.125% Italien 1999-2010', '3.125% Bayerische Landesbank 1999-2009', '2% Compagnie de Financement Foncier 2009', '3.875% Schweden 2002-2009 Emtn', '2.25% Grossbritannien 2003-2008 Nts Reg', '5.25% Weltbank 1999-2009 Emtn', '5% BNG 2002-2007 Emtn', '3.25% Reseau Ferre de France 1998-2008', '2.5% Nederlandse Waterschapsbk 2007 Emtn', '3.25% Oesterreich 1998-2006', '3.875% Schweden 1999-2009 Emtn', '1.75% Depfa 2003-2008 Pfandbr.emtn', '4% Oesterreich 2005-2012 Nts', '2 Lots/Shallotte, NC', '1959 MG Collector Car', '826 L Street NE/Washington, DC', '4 Acres Timber Creek/Lewisville', '4637 Ivanhoe/Ft Worth, TX', '2.5 Acres Marlin Sc Ak', '5 Acres/Talkeetna, AK', '2509 Scriptuee LP', '4 Acres Timber Creek/Lewisville, TX', '2.5 Acres/Harbor South, AK', '1 Acre/Denton, TX', '25 Acres/Harbour South, AR', '1831 Crow Street/Denton, TX', '2.5 Acres/Harbor South, AR', '74.845 Acres/Lamar County TX', '1 Acre 1831 Crow St/Denton, TX', '74.845 Acres/Lamar County, TX', '4637 Ivanhoe Dr/Ft Worth, TX', '5 Acres Note Receivable/Talkeetna, AK', '2.5 Acres', '5 Acres, Note Receivable', '30 Acres', '30 Acres 2000 Blackjack', '26 Acres', '5 Acres/Note Receivable', '30 Acres 2000 Blackjack, Aubrey, TX', '26 Acres Glenwood, AR', '211-213 Pender Street', '109 Wayfarer Court', '325 E Nash Street/Funeral Home', '800 Hines Street', '536 Nash/BT Barnes', '603 Nash St', '1702 Martin Luther King Parkway', '548 Nash St/Rosemond', '5314 Ward Blvd', '106 Pender St', '528 Nash Street/Beauty Parlor', '109, 201, 203 S Pender St', '611-613 Nash St', '542 Nash St/Potts', '205 S Pender St', '115,117 Ash St', '111-113 Ash Street', '1614 Martin Luther King Parkway', '301 Pender St', '137 Wayfarer Court', '622 East Nash Street/Garris', '610-612 E Nash St/Funeral Home', '544 Nash/Tolson', '532 Nash/Tolson', '301 East Street', '203 East St', '534 Nash/Wingate', '550 Nash St', '217 Pender St', '1704 Martin Luther King Parkway', '215 S Pender St', '107 S Pender St', '325 E Nast Street', '113 S Pender', '608 E Nash', '622.5 East Nash', '105 S Pender', '1001 Vance Street North', '211-213 Pender St (connie)', '1001 Vance St', '800 Hines St', '137 Wayfarer Ct (connie)', '800 Hines Real Estate', '1001 Vance Real Estate', '603 Nash Real Estate', '5314 Ward Real Estate', '1702-1704 MLK Real Estate', '613 Nash Real Estate', '305 Pender Real Estate', '1614-1616 MLK Real Estate', '111 Ash Real Estate', '106 Pende Real Estate', '211 Pender Street', '1001 Vance Street', '603 Nash Street', '600 Nash Street', '1702-1704 MLK Parkway', '622 Nash Street', '613 Nash Street', '610 Nash Street', '215 Pender Street', '111 Ash Street', '107 Pender Street', '622.5 Nash Street', '205 Pender Street', '109-203 Pender Street', '706 Nash Street', '702 Nash Street', '5576 Zeiner Court/Atwater, CA', '10 Acres of land/Johnson County, OK', '10 Acres of land in Johnson County, Owned with Bro', '2317B Woodmont Blvd/Nashville TN', '2319 Woodmont Blvd/Nashville, TN', '2319 Woodmont Blvd/Nashville TN', '2319 Woodmont Blvd', '6030 Woodrun Court/Montgomery, AL', '16558 NE 26th Avenue/N Miami Beach, FL', '8333 Unite S&M NuTec LLC', '118.91 Acres/183rd St & Renner Rd', '3 Com Corp', '12063 Gray Birch Circle/Orlando, FL', '8600 Ridgewood Ave/Cape Canaveral, FL', '3426 S 9th Avenue/Tucson, AZ', '10003 E Country Shadows Drive/Tucson, AZ', '3426 S 9th Ave/Tucson, AZ', '3426 9th Ave/Tucson, AZ', '3426 9th Ave/ Tucson, AZ', '3426 9th Ave', '1540 Northgate Blvd/Sarasota, FL', '500 Miller Drive/Marshall, TX', '532 Southview Drive/Brookings, SD', '500 Miller Dr/Marshall, TX', '532 Southview Dr/Brookings, SD', '1759 Langston', '1742 Evans', '1500 Langston', '1060 Orlando', '125 acres Minerals/Wilkinson County, GA', '46.5 acres/Wilkinsons County', '46.5 acres in Wilkinsons County', '46 acres/Wilkinsons County', '111 Main Street/East Millinocket, ME', '6.5 acres of land/Midway, ME', '109 Main Street/East Millinocket, ME', '6.5 Acres of Land/Medway, ME', '6.5 Acres of Land', '6.5 acres of land, Medway, ME', '401K State of Michigan', '457 Macomb County', '401a Macomb County', '24867 3rd St/Galeton, CO', '5725 86th Street/Lubbock, TX', '2013-2019 S Loop 289/Lubbock TX', '1st Bank & Trust Accounts', '5717 88th Street/Lubbock, TX', '224 9th Street SE/Washington, DC', '4731 90th Street/Lubbock, TX', '5731 90th Street/Lubbock, TX', '2013-2019 S Loop 289/Lubbock, TX', '14 Lots In Cooper Ridge', '10 Lots In Cooper Ridge Various Lot', '18 Lots in Cooper Creek', '6 Lots in Cooper Ridge, Various Lots bet', '30 Lots/Tra', '17 Lots/Cooper Ridge', '6 Lots, Previously 30, in the Trails at', '8 Lots in Cooper Ridge, Previously 17', '3 Lots in Cooper Ridge, Various Lots Bet', '3 Lots in Cooper Creek, Various Lots Bet', '5 Lots In Cooper Ridge', '4 Lots/In The Trails', '1 Lot In Cooper Ridge', '1 Lot In Cooper Creek', '224 9th St SE, Washington, DC', '5731 90TH STREET, LUBBOCK, TEXaS, VaLUED aT CE', '5717 88th St/Lubbock, TX', '2013-2019 S Loop 289, Lubbock, TX', '779 San Remo Way/Boulder City, NV', '667 Avenue A/Boulder City, NV', '1312 A Capri Drive/Boulder City, NV', '1328 D Georgia Ave/Boulder City, NV', '1328 C Georgia Ave/Boulder City, NV', '1328 B Georgia Ave/Boulder City, NV', '1328 A Georgia Ave/Boulder City, NV', '1324 A Georgia LLC/Boulder City, NV', '779 San Remo LLC', '667 Avenue A LLC', '1328 D Georgia Avenue LLC', '1328 C Georgia LLC', '1328 B Georgia LLC', '1328 A Georgia LLC', '1324 A Georgia Avenue LLC', '1312 C Capri Drive LLC', '1312 A Capri Drive LLC', '779 San Remo/Boulder City, NV', '667 Ave A/Boulder City, NV', '527 Nevada Way/Boulder City, NV', '521 Nevada Way/Boulder City, NV', '509 Tara Court/Boulder City, NV', '1312 C Capri Drive/Boulder City, NV', '1311 D Darlene Way/Boulder City, NV', '1311 B Darlene Way/Boulder City, NV', '1309 D Darlene Way/Boulder City, NV', '1309 C Darlene Way/Boulder City, NV', '1309 A Darlene Way/Boulder City, NV', '1310 Wyoming Street/Boulder City, NV', '1324 Georgia LLC', '521-527 Nevada Way LLC', '1309 Darlene Way LLC', '667 Ave A LLC', '509 Tara Court LLC', '1312 Capri LLC', '1311 Darlene Way LLC', '1310 Wyoming Street LLC', '573 North Lower Elgin Road/Elgin, AZ', '12 Los Encinos/Sonoita, AZ', '1304 Quintord/Arriston', '12 McCullers Lane/Oxford', '1126 Snow St/Oxford', '1310 Quintord/Arriston', '123 East 13th St/Anniston', '1304 Quintard/Anniston', '12 McCulloss Lane/Oxford', '1310 Quintard/Anniston', '12 McCullors Lane/Oxford', '12 McCullars/Oxford', '1126 Snow St/Oxford, AL', '123 E 13th St/Amiston', '1304 Quintard Anniston', '12 McCullus, Oxford', '1310 Quintard Anniston', '123 E 13th St/Anniston', '1304 Quinford/Anniston', '1210 Guilford/Anniston', '123 E 17th/Anniston', '12 McCullars/Oxford, AL', '1310 Quinford/Anniston', '3325 Mannheim Ct', '990 Lavender Road/Athens, GA', '205 C Street SE/Washington, DC', '279 Meigs Street/Athens, GA', '1729 S Lumpkin Street/Athens, GA', '245 Milledge Heights/Athens GA', '158 Acres/Oglethorpe County, GA', '285 South Pope Street/Athens, GA', '1st Trust Nanotechnology', '255 Milledge Heights/Athens, GA', '706 East 49th Street/Savannah, GA', '158 Acres', '158 Acres/Oglethorpe Co GA', '18801 Beach Blvd/Huntington Beach, CA', '1380 Auto Mall Drive/Santa Ana, CA', '1330 Auto Mall Drive/Santa Ana, CA', '1300 Auto Mall Drive/Santa Ana, CA', '11528 Martens River Circle/Fountain Valley, CA', '3848 Mentone Partners', '28730 Marguerite Pkwy/Mission Viejo, CA', '1350 Auto Mall Drive/Santa Ana, CA', '1380 S Auto Center Dr/Anaheim, CA', '18801 Beach Blvd', '1380 S Auto Center Dr', '1350 Auto Mall Drive', '1330 Auto Mall Drive', '3032 Wilshire Blvd/Santa Monica, CA', '18801 Beach Blvd/Huntington Beach', '9581 Irvine Center Drive/Irvine, CA', '9581 Irvine Center Drive, Irvine', '1380 S Auto Center Drive, Anaheim', '1350 Auto Mall Drive, santa Ana', '1330 Auto Mall Drive, santa Ana', '1300 Auto Mall Drive, santa Ana', '11528 Martens River Circle, Fountain Valley', '408 5th Street SE/Washington, DC', '408 5th Street St SE/Washington DC', '408th 5th Street St SE/Washington, DC', '408 5th Street SE/Washington DC', '1750 S Chateau/Fresno, CA', '408 5th Street St SE/Washington, DC', '1520 Victoria/Laredo, TX', '1519 Washington/Laredo, TX', '401k State of Texas State Comptroller', '604 Reynolds/Laredo, TX', '602 Reynolds/Laredo, TX', '4700 Marcella/Laredo, TX', '4902 Marcella Ave/Laredo, TX', '602 Reynolds Rear St/Laredo, TX', '401k State of Texas Comptroller', '602 Reynolds (Rear)/St Laredo, TX', '602 Reynolds (Middle)/St Laredo, TX', '3014-3018 E Ocean View Ave', '9527-9531 11th Bay Street', '3004 E Ocean View Ave', '9635-9639 15th Bay Street', '9625 2nd Bay Street', '9549 7th Bay Street', '414 Fresh Meadow Road', '403 Westmont Ave', '2143 E Ocean View Ave', '8428 Tidewater Dr', '1204 Warwick Ave', '9635-9639 15th Bay', '9527-9531 11th Bay St', '9625 2nd Bay St', '9549 7th Bay St', '414 Freshmeadow', '2143 E Ocean View Av', '9635-9639 15th Bay St', '171 Rodman Rd', '401k account', '3 acres 11468 Hwy 105/Banner Elk, NC', '6 Acres Land Hwy 105/Banner Elk, NC', '50% Templeton Foreign Fund 50% Artisan T', '189 Crystal Dr/Banner Elk, NC (for sale)', '169 Crystal Dr/Banner Elk, NC (for sale)', '166 Crystal Dr/Banner Elk, NC (for sale)', '175 Crystal Dr/Banner Elk, NC (for sale)', '6 Acres Land/11468 Hwy 105', '3 Acres Land/11468 Hwy 105', '2 Acres Land, 240 Rhine Frost', '6 Acres Land, 11468 Hwy 105', '3 Acres Land,11468 Hwy 105', '7447 Cambridge 107/Houston, TX', '7447 Cambridge 105/Houston, TX', '7447 Cambridge 124/Houston, TX', '350 G Street SW/Washington, DC', '7447 Cambridge, #124/Houston, TX', '7447 Cambridge, #107/Houston, TX', '7447 Cambridge, #105/Houston, TX', '350 G Street SW #N208', '7447 Cambridge #124/Houston, TX', '7447 Cambridge #107/Houston, TX', '7447 Cambridge #105/Houston, TX', '7447 CAMBRIDGE #124', '7447 Cambridge #107', '7447 Cambridge #105', '33 Hollywood Avenue/Buffalo, NY', '10 Gansevoort Street/Bath, NY', '401K TRP Midcap', '401K March & McLennan Stock Fund', '401K VanGuard Prime Cap', '401K Summit Cash Reserve', '401K Fidelity Low Price Stock Fund', '401K Equity Index Trust', '401K Retirement Fund 2030', '401K/ Harbor Internationl Fund', '401K /Vanguard Institutional Index', '401K/Vanguard Institutional Index', '361 Managed Futures Strat', '401K S&P Midcap Index Fund', '401K Target Retirement 2035 Fund', '401K US Bond Index fund', '401K Stable Value Option', '401K Intl Developed Market Index Fund', '2nd Residence 3604 Oakland Dr/Alexandria', '2200 acres land/Lindsay, TX', '292 acres land/Montague County, TX', '12 acres/Dallas, TX', '167 acres/Valley View, TX', '500 Bank Insured Deposit', '222 Building Joint Venture', '2010 Linda McCaul Descendant Trust', \"2006 Mays Grandchildren's Trust\", '2010 McCaul Children Descendant Trusts', '215 Robinson Rd/Gastonia, NC', '4211 Pete Brown Road/Charlotte, NC', '621 W Garrison Road/Gastonia, NC', '5524 Union Road/Gastonia, NC', '109 W 8th Ave/Gastonia, NC', '621 W Garrison Blvd/Gastonia, NC', '5524 Union Rd/Gastonia, NC', '806 Requa Road/Cherryville NC', '5224 Union Rd/Gastonia, NC', '806 Requa Rd', '215 Robinson Rd', '5224 Union Rd', '109 W 8th ave', '806 Requa Road', '3057 Hunrichs Way/San Diego, CA', '1426 G St SE/Washington, DC', '1187 acres Farmland/Conejos & Costilla', '1236 Sr 28/Milford, OH', '30Yr Treas ETF Short', '1232 Sr 28/Milford, OH', '1236 SR 28/Milford, OH', '1232 SR 28 /Milford, OH', '3.15 Acre Lot/Newbury, NH', '401K Retirement Account', '401 Retirement Account', '529 Florida Prepaid College Plan', \"23rd St Properties c/o Collie's Intl\", \"23rd St Properties/Collier's Internat'l\", '401k State of Michigan Retirement A/C', '2182 Morris Ave/Union, NJ', '565 Acres/Harris County, GA', '434 Acres Hines Road/Troup County, GA', '97 Acres/Grantville, GA', '44 Lots/LaGrange, GA', '44 lots Hamilton Lakes Subdiv/LaGrange', '498 Acres/Russell County, AL', '165 Partners LLC', '1 Hopper Street/Utica, NY', '4 Wells Fargo Savings Accoung', '4 FL Prepaid College Tuition Not self directed', '3 Wells Fargo Savings Account', '3 FL Prepaid Colelge Tuition not self directed', '2 Wells Fargo Savings Account', '2 FL Prepaid College Tution not self directed', '16 lots/Bizbee, AZ', '600 LC', '1299 LC', '6430 Hollywood Blvd LLC', '998 Inc', '130 North Tamiami Trail LLC', '301 Oxford LLP', '10-2002 LLC', '996 Inc', '10-3003 LLC', '800 LC', '3460 Hollywood Blvd LLC', '10-2000 LLC', '10-3000 LLC', '600 LC/Cocoa, FL', '926 Inc', '600 Las Colinas', '130 N Ramiami Trail LLC', '130 Tamiami Trail Rental', '301 Oxford LLC', '1099 Management Co', '2 Rentals homes/Bradenton, FL', '600 LC auto dealer', '996 Inc rental property', '301 Oxford LLP real estate', '2 rental homes Bradenton, FL', '58 acres/New Site, MS', '52 Acres West Hills/Booneville MS', '4 Acres/Pickwick Lake Tishomingo County', '3.73 Acres & commercial building/Boonev', '2 lots Pickwick Lake/Tishomingo County', '154 Acres Timberland/Alcorn County, MS', '149 Acres Blackland Timberland', '161 Acres Timberland/Tishomingo, MS', '4 lots/JP Coleman State Park Tishoming', '30 Acres Pine Timberland', '2.41 Acres Hwy 145 S/Booneville MS', '2 residential lots South 2nd St/Boonevil', '2 Acres multi-family zoned property', '52 Acres/West Hills', '3.73 Acres/Booneville, MS', '2 lots/Tishomingo County, MS', '149 Acres Timberland', '58 Acres', '4 lots/Tishomingo County, MS', '304 West Church St/Booneville, MS', '2.41 Acres/Booneville, MS', '52 West Hills/Booneville', '4 Acres, Pickwick Lake', '3 Acres & Commercial Bldg', '2 Lots Pickwick Lake', '149 Acres Blackland', '161 Acres/Tishomingo County', '304 W Church Street', '241 Acres', '1/2 interest', '90Day Euro Dollar (Currency Future)', '1150 LLC', '1150 Hixson Pike, Chattanooga, TN', '403B ING TRowe Price Growth Equity Port', '403B Hartford Dividend Growth Fund', '1930 Lakeshore Drive/Michigan City, IN', '300 West 17th Street/Tucson, AZ', '117 West Armijo/Tucson, AZ', '2370 Calypso Lane/League City, TX', '300 West 17th St/Tucson, AZ', '12901 W Jefferson Blvd/Los Angeles, Ca', '1122 Elm Street/Honolulu, HI', '3109 Waialae Ave, Honolulu, HI 96816', '3109 Waialae Avenue LLC', '50 Acres/Lyme, NH', '4345 Lincoln Way/Massilon, OH', '2090 US 1 Partners', '1/4 Interest in farm', '401k Vanguard Target Retirement 2035', '401k Vanguard Prime Money Market', '25% interest in ZLDR partnership owning 95 acres +', '3622 Curits Park Drive/Sacremetno, CA', '1300-1302 W 94th St/Los Angeles', '3622 W Curtis Park Dr/Sacramento, CA', '717 East Vernon St/Long Beach, CA', '1300-1302 W 94th St/Long Angeles, CA', '529 Short Term Bond Fund of America', '529 Euro Pacific Growth Fund', '3 Year Compound', '10 Year Compound', '3D FX Interactive', '5 Small Cap Core Fund', '4 Cel-Sci', '529 Savings Plan for son', '714 North Wooster Ave/Dover, OH', '125-127 West High Ave/New Philadelphia', '714 N Wooster Avenue/Dover, OH', '123-127 West High Ave/New Philadelphia', '123-127 W High Ave/New Philadelphia, OH', '2nd Mortgage Receivable Ere & Tammy Diet', '730 Alhambra/Sacramento, CA', '4305 Auburn Blvd/Sacramento, CA', '620 Stonegate Drive S/San Francisco, CA', '33 Park Road/Burlingame, CA', '338 Baird St home/Barberton, OH', '455 Shore Road/Chatham, MA', '455 Shore Road/Chatham MA', '26 Auburn St/Charlestown, MA', '455 Shore Road', '131 Main Street/Burlington, VT', '10 Acres/Hartland, VT', '10 Acres Hartland', '131 Main/Burlington, VT', '131 Main St/Burlington, VT', '131 Main Street', '401A Cash Match Plan Commonwealth of Virginia 4', '457 Deferred Compensation Plan', '401a Cash Match Plan', '9716 Timbermill Ct/Montgomery, AL', '307 Whetstone Dr/Montgomery, AL', '141 Cox Street/Auburn, AL', '626 Ann St/Montgomery, AL', '529 Account', '5545 Riverbend/Baton Rouge LA', '4051 Broussard/Baton Rouge, LA', '8P PLC', '401k Utah State Retirement Systems', '529 Plan The Investment Co of America Fund', '401K/ Mid Cap Fund', '457 Small Cap Fund', '457 Large Cap Socially Responsible Fund', '457 Large Cap Index Fund', '457 Short Term Investment Fund', '457 Mid Cap Fund', '457 Large Cap Fund', '401K Small Cap Fund', '401K Short Term Investment Fund', '401K Mid Cap Fund', '401K Large Cap Fund', '457 Short Term Investment Fund- Cash', '457 Large Cap', '457 International Fund', '403B--Large Cap U.S. Stock-DWS Cap Growth VA', '401K Short Term Investment Fund- Cash', '401K Large Cap Socially Responsible Fund', '401K Large Cap Index Fund', '401K International Fund', '1 Subway LLC', '3646 Chelton Road/Shaker Heights, OH', '3436 Chelton Road/Shaker Heights, Ohio', '7344 Gwin St/Valley Springs CA', '7344 Gwin St/Valley Spring CA', '7400 Gwin St Valley/Springs, CA', '7344 Gwin St/Valley Springs, CA', '106 Acres land', '1280 West Peachtree/Atlanta, GA', '106 Acres/Craig Rd.', '455 Craig Road', '1280 West Peachtree St', '106 Acres/Craig Rd', '555-557 Craig Rd', '106 Acres Craig Rd', '38296 York Stock - book', '382% Yohan-book', '38296 book', '1994 Guthrie Family Irrevocable Trust', '401k Retirement Plan', '529 (3) C College Plan T Row Price Balan', '529 (3) C College Plan Northern Internat', '529 (3) C College Plan Northern Equity I', '529 (3) College Plan Neuberger Berman In', '529 (3) C College Plan Northern Mid-Cop', '529 (3) C College Plan Neuberger Berman', '529 (3) C College Plan Northern Small Co', '2015 Guthrie Family Irrevocable Trust', '1884 Family Partnership', '1405 Lathern Road/Greensboro, NC', '1405 Latham Road/Greensboro, NC', '1884 LLC (Family Partnership) BOA Tax Ex', '3 Country Place/Pearl, MS', '3 Country Place/Pearl, MS 39208', '400 Acre T', '3 Country Place', '400 Acre Tract', '400 Acre Tract-Bento', '50% of 1/4 undivided interest 400 Acre Tract- Bent', '529 ESA Learning Quest Total Growth', '529 ESA Learning Quest 500 Index', '1stBank De/CD', '1941 Cadillac', '798 9th Ave/New Smyrna Beach, FL', '50 Oak Tree/New Smyrna Beach, FL', '1302 257 MBW/New Smyrna Beach, FL', '17 Randolph/Lexington, VA', '1400 Edison St/Arlington, VA', '13 Whitmore/Lexington, VA', '50 Oak Tree/NSB, FL', '3640 S Atl Ave/NSB, FL', '50 Oak Tr/NSB, FL', '3640 S Atl Ave/NSB FL 32169', '198 9th Ave/NSB, FL', '1400 Edison/Arlington, VA', '7901 Atlantic Ave/Ocean City, MD', '2 Brothers Investment LLC', '1112 Dunn (Warehouse)/Cheyenne, WY', '1112 Dunn Ave', '3-year Compound', '1094 Hearthstone Drive/Boise, ID', '1108 N Hearthstone/Boise, ID', '1108 N Hearthstone/Boise Vacant Lot', '325 Main Street HF Inc', '1471 Girard Street NW/Washington, DC', '1471 Girard St NW/Washington, DC', '529 College Saving Plan for dependent child owned', '529 Excepted Trust', '10 Federal St/Portland, ME', '1827 Grant St/Denver, CO', '1301 Canyon Blvd/Boulder, CO', '1827 Grant Street Unit/Denver CO', '29th Street/Boulder, CO', '1827 Grant Street Unit/Denver, CO', '10Sheet Services Inc', '1B3Y LLC Convertible Promisory Note', '13th Floor PC Group LP', '806 Mystic Dr/Cape Canaveral, FL', '1824 South Fiske Blvd/Rockledge, FL', '1004 Barton Blvd/Rockledge, FL', '2368 Tink Drive/Tallahassee, FL', '1820 Huntington Lane/Rockledge, FL', '806 Mystic Dr/Cape Canaveral', '2368 Tina Drive/Tallahassee, FL', '1820 Huntington Ln/Rockledge, FL', '806 Mystic Dr #310/Cape Canaveral, FL', '1824 S Fiske Blvd/Rockledge, FL', '1803 Hensley Dr/Rockledge, FL', '806 Mystic Dr 310/Cape Canaveral, FL', '1803 Hinsley Dr/Rockledge, FL', '1004 Boston Blvd/Rockledge, FL', '606 Mystic Dr #310/Cape Canaveral, FL', '1803 Hensky Dr/Rockledge, FL', '1224 S Fiske Blvd /Rockledge, FL', '1220 Huntington Lane/Rockledge, FL', '806 Mystic Dr #310', '1824 S Fiske Blvd Roickledge, FL', '1803 Hensley Dr Rockledge, FL', '1820 Huntington Ln Rockledge, FL', '457b Deferred Compensation Plan', '40+ Acres-Land/Ada County, ID', '24+ Acres-Land/Canyon County, ID', '40 Acres Land/Canyon County, ID', '40 Acres Land/Ada County, ID', '20 Acres Land/Canyon County, ID', '180 Acres Land/Ada County, ID', '40+ Acres Land/Canyon County, Idaho', '40+ Acres Land/Ada County, Idaho', '24+ Acres Land/Canyon County, Idaho', '180+ Acres Land/Ada County, Idaho', '40 Acres Land/Canyon County', '40 Acres Land/Ada County', '24 Acres Land/Canyon County, ID', '160 Acres Land/Ada County', '160 Acres Land Ada County', '2414 W Augusta Drive/Peoria', '2414 W Augusta Dr/Peoria', '107 Storrs Street LLC', '903 Central Avenue', '903 Central Ave Assoc', '140 Washington Street/Dover, NH', '903 Central Ave/Dover NH', '115 W Main St/Conway NH', '107 Storrs Street/Concord, NH', '6-8 Atkinson Road', '140 Washington Street', '228 Route 108', '10 Railroad Avenue', '4 Railroad Ave', '107 Storrs Street Concord, NH', '174 Farmington Rd LLC', '2022 Enrollment Class Portfolio', '606 Walnut St/Howard, PA', '606 Walnut Street/Howard, PA', '107 Serge Street/Milesburg, PA', '403b Plan from Susquehanna Health', '606 Walnut Street Howard PA Rental Property', '351 Virginia Street Howard PA Rental Property', '1225 King Street Assoc', '3X-10 Capital Partners (QP) LP', '3Steel Partners II LP', '3Hound Partners 3c7 LP', '911 King Street Assoc', '3Hound Partners 3(c)7 LP Investment fun', '3RNR III', '911 King Street Assoc Investme', '1225 King Street Assoc LLC', '1-800-Pack-Rat', '1999 Trust JP Morgan Tax Free Money Market Premier', '681 S Richmond Ave', '322 Rocky Rd/Hazleton, PA', '11110 Ballweg Lane/Fort Myers, FL', '322 Rocky Road/Hazleton PA', '322 Rocky Road/Hazleton, PA', '1110 Balweg Lane/Ft Myers, FL', '322 Rocky Road', '3D Systems', '1110 Balwag Lane', '1520 Partners LLP', '714 Partners LLP', '714 Partners LLP/Airplane', '3451 Partners LLP', '714 Partners, LLP-Airplane', '515 Great Circle Road/Nashville, TN', '501 Great Circle Road/Nashville, TN', '365 Great Circle Road/ Nashville, TN 372', '555 Church St #2110/Nashville, TN', '540 Mainstream/Nashville, TN', '521 Great Circle Road/Nashville, TN', '345 Hill Avenue/Nashville, TN', '335 Hill Avenue/Nashville, TN', '10515 Front Bason Road #3-1106 Panama City Florida', '10515 Front Beach Road/Panama City, FL', '515 Great Circle Rd, Nashville, TN 37228', '501 Great Circle Rd, Nashville, TN 37228', '365 Great Circle Road/Nashville, TN 372', '555 Church Street #2110, Nashville, TN 37219', '545 Great Circle Rd, Nashville, TN 37219', '345 Hill Avenue, Nashville, TN 37210', '336 Hill Avenue, Nashvill, TN 37210', '100 Athens Way, Nashville, TN 37228', '540 Mainstream, Nashville, TN 37226', '521 Great Circle Rd, Nashville, TN 37228', '341 Hill Avenue Nashville, TN 37210', '10515 Front Beach Drive #3-1106', '60 East 42nd St Assoc', '1333 Broadway Assoc', \"3M's Partners\", '1400 Broadway Assoc', '1185 Swap Portfolio LP', '501 Seventh Avenue Assoc', '112 West 34th Street Assoc', '2006 Special Global Opportunities LLC', '500 Mamaroneck Avenue LP', '112 West 34th Street Co/New York, NY', '3G Special Situations Fund II LP', '1350 Broadway Assoc', '112 West 34th Street Co', '112 W 34th Street Co', '60 East 42nd Street Assoc', '112 W 34th Street Co/New York, NY', '250 W 57th Street Assoc', \"3M's Partners/JPMorgan Checking Account\", '681 Fifth Avenue/New York, NY', '220 Park Avenue South/New York, NY', '1185 Swap Portfolio II LP', '3Ms Partners', '3G Special Situations Fund III', '3G Special Situations Fund II', '777 LP/Uni-Penn', '681 Fifth Avenue Holdings', '220 PAS Mezz LLC', '156 Geary Grant Holdings LLC', '3 Ms Partners Malkin Holdings/Blue Ridge LP', '1201 Venture Investments LP', '19 Jackson Court/San Antonio, TX', '2012 Portfolio', '2015 Portfolio', '46 South Ridge Rd/Chilmark, MA', '387 Atwell Ave/Providence, RI', '1297 Caraboa Ln/Port Charlotte, FL', '387 Atwells Ave/Providence, RI', '46 South Ridge Rd/ Chilmark, MA', '401k Small Cap', '401k Large Cap', '401k International Equity', '2007 Bds Public Impt Ref Bonds', '2007 Bonds Public Impt Ref Bonds', '8point3 Energy Partners LP', '5307 Bighorn/Truckee, CA', '11580 Longview Ave/Atwater, CA', '414 Frontage Road/Northfield, IL', '2711 Douglas Avenue/Racine, Wisconsin', '414 Frontage Road', '2711 Douglas Ave', '20% of the outstanding units of Foundtainhead Part', '6464 McCarry Lake Rd/Iron River WI', '5 MC Commercial Prof', '25050 US Hwy 76 Commercial DWLEX', '1313 Charlottes Road/Clinton, SC', '129 Pine Street/Clinton, SC', '308 Cypress St/Clinton, SC', '2 Peachtree St/Clinton, SC', '196 Poplar St/Clinton, SC', '630 Elizabeth St/Clinton, SC', '829 Towne Street/Greenwood, SC', '104 Hawkins Circle/Joanna, SC', '130 Pine Street/Clinton, SC', '2 Peachtree Street/Clinton, SC', '1313 Charottes Road', '308 Cypress Street/Clinton, SC 29325', '196 Poplar Street/Clinton, SC', \"1313 Charlotte's Road/Clinton, SC\", '2 acres (1/3 Interest Land Contract)', '829 Towne Street Duplex Apt', '2 Peachtree Street', '196 Poplar Street/Rental House', \"1313 Charlotte's Road Mobile Home & Lot under in\", '129 Pine Street Rent/Mortgage Payments', '130 Pine Street Rental Lot', '5 acres Commercial Property/Fleming street', '25050 Us Hwy 76', '305 W main', '829 Towne street', '2 Peachtree street', '196 Poplar street', \"1313 Charlotte's Road\", '129 Pine street', '108 E Public square', '2 acres on Henderson Church Rd', '130 Pine street', '5 acres Commercial Property, Fleming street', '104 Hawkins Circle', '1990 Morgan Ann Farenthold Trust/Cash', '1990 Morgan Ann Farenthold Trust', '1987 Morgan Trust/Blake', '1987 Morgan Trust-Blake Note Receivable', '192 Shares', '13769 Tr 473/Lakeville, OH', '89 Crinfield Dr/Nelsonville, OH', '4930 Cty Rd 51/Big Prairie, OH', '50 Borman Ave (2 Family)/SI, NY', '50 Borman Avenue/Staten Island, NY', '221 Crestview Rd/Manchester, NH', '172 Youville St/Manchester, NH', '172 Youville Rd/Manchester NH', '603 Advisors - Consulting', '221 Crestview Rd Manch NH', '172 Youville/Manchester NH', '85-910 Bayview St/Waianae, HI', '92-414 Farrington Highway/Kapolei, HI', '529 Plans Maryland Prepaid College Svgs', '529 Maryland Prepaid College Trust', '529 College Savings Plan of Maryland', '529 College Savings Plan of MD, Portfol', '403B TIAA Tradtional', '457 MD State Investment Contract Pool', '529 Portfolio for College', \"29515 S Hartzler Rd/H'ville MO\", \"28004 S West Outer Rd/H'ville MO\", '26005 E 283rd St/Harrisonville, MO', '29700 S Hartzler Road', '30218 S Pleasant Rdg Rd', '29615 S Hartzler Road', '34 S Bedford Road Assoc', '441 William Court Rental Real Estate', '10 North Main Street/Chatham, VA', '10 N Main St/Chatham, VA', '1st Citizens Checking Account', '10 N Maive', '1st Citizens Checking', '10 Briarwood Lane/Bourne, MA', '271 Canton St/Stoughton, MA', '10 Briarwood Lane/Bourne, Ma', '111 Bay Rd/Sharon, MA', '271 Canton St/Stougton MA', '271 Canton Steet MA', '401(k) investments Vanguard LT Inv Grade', '165 acres/Galena', '529 MOST Accounts', '32 Martin Lane/Dallas County, TX', '32 Martin Lane, Acreage/Dallas County', '32 Martin Lane/Dallas County, MO', '133-207446 Fidelity Municipal Money Mar', '529 College Savings Account 54580020', '400B Retirement Vang Growth Index Fund', '403(b) Retirement Vngrd Gr Inc Inv', '403b Plan Vanguard Institutional Index', '1513 QRW LLC/Rental Property', '1513 QRW LLC', '519 Marvin Road Property', '1030 Highway 98 East/Destin, FL', '861 Castle Heights/Bowling Green, KY', '4466 Lynhaven Avenue/Louisville, OH', '744 Broad Street/Wadsworth, OH', '4455 Lynhaven Ave/Louisville, OH', '4320 Lesh Avenue/Canton, OH', '30th Street/Canton, OH', '744 Broad Street/Wadsworth, Ohio', '515 Properties LLC', '515 Properties LLC Washington, DC residential prop', '4455 Lynhaven Ave, Louisville, OH', '4320 Lash Ave, Canton, OH', '30th St, Canton, OH', '150 Smokerise Dr, Wadsworth OH', '744 Broad St, Wadsworth, OH', '1400 College Avenue Commercial Rental', '4809 Eastview Dr/New Orleans, LA', '78 acres of land', '78 acres of land/Jeff Davis, MS', '50% of 78 Acres of land in Jeff Davis, MS', '7869 Lake Forest Bank - C/D', '1385 GE Capital Bank - CD', '1385 ALLY Bank CD', '7869 BMW North Amer - CD (15)', '7869 Lake Forest Bank - CD', '7869 BMW North Amer - CD', '3308 Cleveland Heights/Lakeland, FL', '3308 Cleveland Heights Blvd', '4 Year University Tuition Plan Florida Prepaid', '4 Year University Tuition PlanInstitution: Florida', '5326 Larigin/Houston TX', '532 Darling/Houston TX', '5321 Darlink St/Houston, TX', '5236 Larkin St/Houston, TX', '5236 Larkin St/Houston TX', '11011 N 92nd St #1057/Scottsdale, AZ', '92nd Street', '27 Oakmont Drive/Tifton, GA', '621 McLendon Street/Ashburn, GA', '1/2 interest in condo B-Branch 10', '3F Properties Loan', '3F Properties Loan Albany GA', '1403-1409 Ashley River Road/Charleston', '118 Two Hitch Road/Summerville, SC', '528 W Baldwin Road/Panama City, Florida', '528 W Baldwin Road/Panama City, FL', '528 West Baldwin Road/Panama City, FL', '1st American Treasury', '4 Way Construction', '702 Arbor Street/Cortez, CO', '702 Arbor Street', '701 3rd Street', '27601 Highway 160', '110 Whistlepig Way Site 87', '3400 Old Winter Garden Rd/Orlando, FL', '3400 Old Winter Garden Rd/Orlando', '3400 Old Winter Garden Road/ Orlando, FL', '3400 Old Winter Garden Road', '529', '529 College Investment Fund', '13131 NW 13th Street', '1386 NW 38th Street', '401(a) Bencor Transamerica Financial Life Insuranc', '13131 NW 26th Court', '452 Fee Simple Interest', '401k Hilliard Lyons Money Market', '401K/ JPMorgan Emerging Mkts Fund', '401K/ Ivy Asset Strategy Fund', '401K/ Hillard Lyons Money', '401K/ Growth Fund Of America', '401K/ Fundamental Invest', '401K/ Franklin High Fund', '401k American Funds', '401K /BlackRock Equity Dividend Fund', '229-241 S High St/Col, OH', '1620 E Broad St/Col, OH', '493 Parkwood Av/Col, OH', '229-241 S High St/Columbus, OH', '1620 E Broad St/Columbus OH', '493 Parkwood Ave/Columbus, OH', '4226 Edison/Dayton, OH', '229-243 S High Street', '803 Wager Street', '493 Parkwood Avenue', '4601 V St/Sacramento, CA', '2717 P Street/Sacramento, CA', '6749 Ashington Way/Elk Grove, Ca', '6337 Rampart/Carmichael, CA', '6211 Broadway/Sacramento, CA', '4640 U Street/Sacramento, CA', '2642 43rd St/Sacramento, CA', '2536 39th St/Sacramento, CA', '2231 36th St/Sacramento, CA', '2101 39th St/Sacramento, CA', '1524 32nd St/Sacramento, CA', '6337 Rampart/Sacramento, CA', '4640 U S/Sacramento, CA', '2231 36th St/Sacramento CA', '6749 Ashington Way/ Elle Gac, CA', '4640 O St/Sac CA', '4601 V Street/Sacramento, CA', '2231 36th Street/Sacramento, CA', '2101 39th Street/Sacramento, CA', '1524 32nd Street/Sacramento, CA', '2642 43rd Street/Sacramento, CA', '2536 39th Street/Sacramento, CA', '6211 Broadway, Sacramento, CA', '10 Acres/Kern County', '10 acres in Kern County', '4646 N Beacon LLC', '4-Plexes', '1997 Family Trust Loan/John K Delaney', '1997 Family Trust Bank of America', '612 Haish Blvd/De Kalb, IL', '612 Haish Blvd', '711 S 16th Street/Belleville, IL', '132 West Main Street/Belleville, IL', '12 South Second Street/Belleville, IL', '704 E D Street/Belleville, IL', '903 E Overton/Tuscola, IL', '711 South 16th Street', '132 W Main Street', '12 South 2nd Street', '800 Plaza Assoc', '8400 Plaza Assoc', '3331 Valley Drive/Alexandria, VA', '1510 NW Ferris Avenue/Lawton, OK', '3331 Valley Dr/Alexandria, VA', '1570 NW Ferris Ave/Lawton, OK', '117 N 6th/Alpine', '1110 E Holland/Alpine', '115 N 6th/Alpine', '115 & 117 N 6th St Alpine, TX', '1110 E Holland/Alpine, TX', '1110 E Holland Ave', '227 E Palace, Ste F/Santa Fe, NM', '1st Eagle Mutual Fund', '2 Mineral Acres/Williams County, ND', '2 Mineral Acres', '2 Mineral Acres in Williams County', '60 Month 5% Note', '60 Month 5% ints note', '60 Month El Note', '116 Jackson Highlands/Jackson, NH', '1/3 interest with Siblings', '116 Jackson High - Jackson, NH', '283 E Hill Road/Jeffersonville, NY', '1441 Lincoln Road, #202/Miami Beach, FL', '1214 10th Ave/Neptune, NJ', '1441 Lincoln Road/Miami Beach, FL', '5091 - 5095 Wingsley/Montclair, CA', '3042 8th Avenue/Sacramento, CA', '450 N 4th Street/Highlands, NC', '450 N 4th Street', '36-02 212 St/Bayside, NY', '211-18 34th Ave/Bayside NY', '41-40 Union St, #14P/Flushing, NY', '10% Wealth Management LLC', '147 34th Ave Realty LLC', '36-02 212 Street/Bayside, NY', '211-18 34 Avenue/Bayside, NY', '41-40 Union Street #14P/Flushing, NY', '36-02 212 Street', '211-18 34 Avenue Property', '41-40 Union Street Property', '147-14 34th Avenue Realty', '1000 New Jersey Avenue SE', '211-18 34 Avenue', '345 W Broadway Street', '119 S Vine Street', '2025 Enrollment Portfolio', '2022 Enrollment Portfolio', '2125-23rd St/Kenosha, WI', '9 Lots', '600 Lake Shore Dr/Belgravia', '1296 Hwy 68/Salem, MO', '45943 Hwy 72/Salem, MO', '200 Whlhut Hill/Salem, MO', '1414 Millwood dr/Brenson, MO', '906 E 1st/Salem, MO', '803 S Sligo/Salem, MO', '702 Ethird/Salem, MO', '402 CR 4180/Salem, MO', '401 E Roosevelt/Salem, MO', '304 E Center/Salem, MO', '301 S Jackson/Salem, MO', '220 N Main/Salem, MO', '204 S Jackson/Salem, MO', '200 S Henderson/Salem, MO', '17680 Bobwhite Rd/Crolker, MO', '1510 S Gertrle DE/Salem, MO', '15 CR 4180/Salem, MO', '1304 E 1st/Salem, MO', '1119 CR 5090/Salem, MO', '1107 W Coffman/Salem, MO', '103 E 10th/Salem, MO', '102 S Henderson/Salem, MO', '1003 S Hickory/Salem, MO', '604 S Jackson/Salem, MO', '10 N Iron/Salem, MO', '164 Cr 4190', '403b Mainstay VP Moderate Allocation Fund', '401k Liberty Mutual Retirement Incentive', '403B City National Bank Fidelity Advisor', '14 Greenway Plaza # 24th Houston Condo', '275 Calle Scaramta Brownsville, TX', '5377 Morgan Oak Residential rent property', '3221 Wheatridge Residential rental property', '5377 Morgan Oak', '3221 Wheatridge', '361 Managed Futures Strategy Fund', '500 Main/Williams Ltd', '500 Main/Williams GP LLC', '1015 Broad Street LLC Commercial Rental Property 1', '1015 Broad Street LLC', '1242-1244 Borad Street Rental Propert', '401K & IRA Principal Financial Group', '401K & IRA Pioneer Core Equity Fund', '401K & IRA Morgan Stanley Smith Barney IRA', '105 S Morris Street Oxford, MD', '719 E 11th St/Ocean City, NJ', '602 Avon Rd', '2250 Pileggi Rd/Washington PA', '75 E Phil Eilen/Philadelphia, PA', '709 Prince St/Harrisburg, PA', '4609 Fernhill Rd', '256 Montana St/Philadelphia, PA', '1731 Colonial St/Philadelphia, PA', '6309 Lambert St/Philadelphia, PA', '6254 Beechwood St/Philadelphia, PA', '5631 Crowson St/Philadelphia, PA', '4506 N 15th St/Philadelphia, PA', '3159 N 28 St/Philadelphia, PA', '607 Avon Road/Philadelphia, PA', '9524 N Myrtlewood/Philadelphia, PA', '4609 Fernher St/Philadelphia, PA', '4552 Mole St/Philadelphia, PA', '719 E 11th St', '2250 Pileggi Rd', '75 E Phil Ellena St', '709 Prince St', '256 Montana St', '1731 W Colonial St', '5631 Crowson St', '4552 mole St', '4506 15th St', '3159 28th St', '1524 N Myrtlewood St', '599 N Church St/Moorsetown, NJ', '186 Upland Ave/Ewing, NJ', '185 Claflin Ave/Ewing, NJ', '599 N Church St', '529 & College Prepaid Plans DC1 Florida Prepaid', '529 College Savings Plan DC2 NH Portfolio 2030', '529 & College Prepaid Plans DC1 NH Portfolio 202', '7th St Rental Property', '17th Avenue Rental Property', '210 11th St. SE/Washington, DC', '6741 Hwy 59/Gulf Shores, AL', '3-D Systems', '550354 Cresent Hardy IRA IRA - SEI Trust', '551270 Cresent Hardy ROTH IRA Roth IRA - SEI Trust', '25th Cottage', '1 Local Time Shore Sewatch Int Club', '2769 Hwy 145 Rental House', '23668 Lasher', '3159 / Equity Index Fund', '18 acres of land/Elgin, AZ', '18 acres of land', '1-800-Flowers.com', '1-800 FLOWERS.COM', '2 Acres Land', '2 Acres/St Simons Island, GA', '37455 3rd St Bay Vista, DE', '37455 3rd Street', '201 LLC', '15% interest in Legal Press, LLC', '10% interest in Trott-ATA LLC', '3024 Oakhill St/Sierra Vista, AZ', '3024 Oakhill St', '415 W 2nd/Whitefish MT', '409 W 2nd/Whitefish MT', '410 W 3rd/Whitefish MT', '1201 2nd/Kalispell MT']\n"
     ]
    }
   ],
   "source": [
    "# results = list(filter(None.__ne__, results))\n",
    "res = [i for i in range(len(results)) if not results[i] is None]\n",
    "print([congOrgs[res[i]] for i in range(len(res))])"
   ]
  },
  {
   "cell_type": "markdown",
   "metadata": {},
   "source": [
    "#### Change the entries in congOrgs[res[i]] with '% '[1] to company names on a case by case basis and insert back where ever they're used in the actual dataframe"
   ]
  },
  {
   "cell_type": "code",
   "execution_count": null,
   "metadata": {},
   "outputs": [],
   "source": []
  }
 ],
 "metadata": {
  "kernelspec": {
   "display_name": "Python 3",
   "language": "python",
   "name": "python3"
  },
  "language_info": {
   "codemirror_mode": {
    "name": "ipython",
    "version": 3
   },
   "file_extension": ".py",
   "mimetype": "text/x-python",
   "name": "python",
   "nbconvert_exporter": "python",
   "pygments_lexer": "ipython3",
   "version": "3.7.3"
  }
 },
 "nbformat": 4,
 "nbformat_minor": 2
}
