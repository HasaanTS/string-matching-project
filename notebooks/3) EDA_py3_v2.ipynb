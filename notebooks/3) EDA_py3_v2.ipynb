{
 "cells": [
  {
   "cell_type": "code",
   "execution_count": 1,
   "metadata": {},
   "outputs": [],
   "source": [
    "import numpy as np\n",
    "import pandas as pd"
   ]
  },
  {
   "cell_type": "code",
   "execution_count": 2,
   "metadata": {},
   "outputs": [],
   "source": [
    "congFile = '/home/hassaan/Data/TUM/2nd Year/4th Semester/IDP/Project/data/intermediate/consolidated_end116.csv'\n",
    "firmFile = '/home/hassaan/Data/TUM/2nd Year/4th Semester/IDP/Project/data/intermediate/comp_firms.csv'\n"
   ]
  },
  {
   "cell_type": "code",
   "execution_count": 3,
   "metadata": {},
   "outputs": [
    {
     "data": {
      "text/html": [
       "<div>\n",
       "<style scoped>\n",
       "    .dataframe tbody tr th:only-of-type {\n",
       "        vertical-align: middle;\n",
       "    }\n",
       "\n",
       "    .dataframe tbody tr th {\n",
       "        vertical-align: top;\n",
       "    }\n",
       "\n",
       "    .dataframe thead th {\n",
       "        text-align: right;\n",
       "    }\n",
       "</style>\n",
       "<table border=\"1\" class=\"dataframe\">\n",
       "  <thead>\n",
       "    <tr style=\"text-align: right;\">\n",
       "      <th></th>\n",
       "      <th>cid</th>\n",
       "      <th>personName</th>\n",
       "      <th>year</th>\n",
       "      <th>orgid</th>\n",
       "      <th>orgname</th>\n",
       "      <th>industry</th>\n",
       "      <th>asset_type</th>\n",
       "      <th>min</th>\n",
       "      <th>max</th>\n",
       "      <th>hidemax</th>\n",
       "      <th>type</th>\n",
       "      <th>lobbies</th>\n",
       "      <th>contributes</th>\n",
       "      <th>folderOfOrigin</th>\n",
       "    </tr>\n",
       "  </thead>\n",
       "  <tbody>\n",
       "    <tr>\n",
       "      <th>0</th>\n",
       "      <td>N00000939</td>\n",
       "      <td>Nadler-Jerrold</td>\n",
       "      <td>2014</td>\n",
       "      <td>D000000103</td>\n",
       "      <td>JPMorgan Chase &amp; Co</td>\n",
       "      <td>Commercial Banks</td>\n",
       "      <td>NaN</td>\n",
       "      <td>15001</td>\n",
       "      <td>50000</td>\n",
       "      <td>0</td>\n",
       "      <td>Y</td>\n",
       "      <td>Y</td>\n",
       "      <td>NaN</td>\n",
       "      <td>cong111</td>\n",
       "    </tr>\n",
       "    <tr>\n",
       "      <th>1</th>\n",
       "      <td>N00000939</td>\n",
       "      <td>Nadler-Jerrold</td>\n",
       "      <td>2014</td>\n",
       "      <td>D000021792</td>\n",
       "      <td>HSBC Bank</td>\n",
       "      <td>Commercial Banks</td>\n",
       "      <td>Cash/Money Market/Savings/Checking</td>\n",
       "      <td>1001</td>\n",
       "      <td>15000</td>\n",
       "      <td>0</td>\n",
       "      <td>Y</td>\n",
       "      <td>NaN</td>\n",
       "      <td>NaN</td>\n",
       "      <td>cong111</td>\n",
       "    </tr>\n",
       "    <tr>\n",
       "      <th>2</th>\n",
       "      <td>N00000939</td>\n",
       "      <td>Nadler-Jerrold</td>\n",
       "      <td>2014</td>\n",
       "      <td>NaN</td>\n",
       "      <td>Congressional Federal Credit Union Account</td>\n",
       "      <td>Unknown</td>\n",
       "      <td>Cash/Money Market/Savings/Checking</td>\n",
       "      <td>1001</td>\n",
       "      <td>15000</td>\n",
       "      <td>0</td>\n",
       "      <td>Y</td>\n",
       "      <td>NaN</td>\n",
       "      <td>NaN</td>\n",
       "      <td>cong111</td>\n",
       "    </tr>\n",
       "    <tr>\n",
       "      <th>3</th>\n",
       "      <td>N00000939</td>\n",
       "      <td>Nadler-Jerrold</td>\n",
       "      <td>2011</td>\n",
       "      <td>D000021792</td>\n",
       "      <td>HSBC Bank</td>\n",
       "      <td>Commercial Banks</td>\n",
       "      <td>Cash/Money Market/Savings/Checking</td>\n",
       "      <td>15001</td>\n",
       "      <td>50000</td>\n",
       "      <td>0</td>\n",
       "      <td>Y</td>\n",
       "      <td>NaN</td>\n",
       "      <td>NaN</td>\n",
       "      <td>cong111</td>\n",
       "    </tr>\n",
       "    <tr>\n",
       "      <th>4</th>\n",
       "      <td>N00000939</td>\n",
       "      <td>Nadler-Jerrold</td>\n",
       "      <td>2011</td>\n",
       "      <td>D000000103</td>\n",
       "      <td>JPMorgan Chase &amp; Co</td>\n",
       "      <td>Commercial Banks</td>\n",
       "      <td>NaN</td>\n",
       "      <td>1001</td>\n",
       "      <td>15000</td>\n",
       "      <td>0</td>\n",
       "      <td>Y</td>\n",
       "      <td>Y</td>\n",
       "      <td>NaN</td>\n",
       "      <td>cong111</td>\n",
       "    </tr>\n",
       "  </tbody>\n",
       "</table>\n",
       "</div>"
      ],
      "text/plain": [
       "         cid      personName  year       orgid  \\\n",
       "0  N00000939  Nadler-Jerrold  2014  D000000103   \n",
       "1  N00000939  Nadler-Jerrold  2014  D000021792   \n",
       "2  N00000939  Nadler-Jerrold  2014         NaN   \n",
       "3  N00000939  Nadler-Jerrold  2011  D000021792   \n",
       "4  N00000939  Nadler-Jerrold  2011  D000000103   \n",
       "\n",
       "                                      orgname          industry  \\\n",
       "0                         JPMorgan Chase & Co  Commercial Banks   \n",
       "1                                   HSBC Bank  Commercial Banks   \n",
       "2  Congressional Federal Credit Union Account           Unknown   \n",
       "3                                   HSBC Bank  Commercial Banks   \n",
       "4                         JPMorgan Chase & Co  Commercial Banks   \n",
       "\n",
       "                           asset_type    min    max  hidemax type lobbies  \\\n",
       "0                                 NaN  15001  50000        0    Y       Y   \n",
       "1  Cash/Money Market/Savings/Checking   1001  15000        0    Y     NaN   \n",
       "2  Cash/Money Market/Savings/Checking   1001  15000        0    Y     NaN   \n",
       "3  Cash/Money Market/Savings/Checking  15001  50000        0    Y     NaN   \n",
       "4                                 NaN   1001  15000        0    Y       Y   \n",
       "\n",
       "  contributes folderOfOrigin  \n",
       "0         NaN        cong111  \n",
       "1         NaN        cong111  \n",
       "2         NaN        cong111  \n",
       "3         NaN        cong111  \n",
       "4         NaN        cong111  "
      ]
     },
     "execution_count": 3,
     "metadata": {},
     "output_type": "execute_result"
    }
   ],
   "source": [
    "congDF = pd.read_csv(congFile)\n",
    "congDF = congDF.drop(['Unnamed: 0'], axis=1)\n",
    "congDF.head()"
   ]
  },
  {
   "cell_type": "code",
   "execution_count": 4,
   "metadata": {},
   "outputs": [
    {
     "data": {
      "text/html": [
       "<div>\n",
       "<style scoped>\n",
       "    .dataframe tbody tr th:only-of-type {\n",
       "        vertical-align: middle;\n",
       "    }\n",
       "\n",
       "    .dataframe tbody tr th {\n",
       "        vertical-align: top;\n",
       "    }\n",
       "\n",
       "    .dataframe thead th {\n",
       "        text-align: right;\n",
       "    }\n",
       "</style>\n",
       "<table border=\"1\" class=\"dataframe\">\n",
       "  <thead>\n",
       "    <tr style=\"text-align: right;\">\n",
       "      <th></th>\n",
       "      <th>gvkey</th>\n",
       "      <th>conm</th>\n",
       "      <th>conml</th>\n",
       "      <th>state</th>\n",
       "    </tr>\n",
       "  </thead>\n",
       "  <tbody>\n",
       "    <tr>\n",
       "      <th>0</th>\n",
       "      <td>1000</td>\n",
       "      <td>A &amp; E PLASTIK PAK INC</td>\n",
       "      <td>A &amp; E Plastik Pak Inc</td>\n",
       "      <td>NaN</td>\n",
       "    </tr>\n",
       "    <tr>\n",
       "      <th>1</th>\n",
       "      <td>1001</td>\n",
       "      <td>A &amp; M FOOD SERVICES INC</td>\n",
       "      <td>A &amp; M Food Services Inc</td>\n",
       "      <td>OK</td>\n",
       "    </tr>\n",
       "    <tr>\n",
       "      <th>2</th>\n",
       "      <td>1002</td>\n",
       "      <td>AAI CORP</td>\n",
       "      <td>AAI Corp</td>\n",
       "      <td>MD</td>\n",
       "    </tr>\n",
       "    <tr>\n",
       "      <th>3</th>\n",
       "      <td>1003</td>\n",
       "      <td>A.A. IMPORTING CO INC</td>\n",
       "      <td>A.A. Importing Co Inc</td>\n",
       "      <td>MO</td>\n",
       "    </tr>\n",
       "    <tr>\n",
       "      <th>4</th>\n",
       "      <td>1004</td>\n",
       "      <td>AAR CORP</td>\n",
       "      <td>AAR Corp</td>\n",
       "      <td>IL</td>\n",
       "    </tr>\n",
       "  </tbody>\n",
       "</table>\n",
       "</div>"
      ],
      "text/plain": [
       "   gvkey                     conm                    conml state\n",
       "0   1000    A & E PLASTIK PAK INC    A & E Plastik Pak Inc   NaN\n",
       "1   1001  A & M FOOD SERVICES INC  A & M Food Services Inc    OK\n",
       "2   1002                 AAI CORP                 AAI Corp    MD\n",
       "3   1003    A.A. IMPORTING CO INC    A.A. Importing Co Inc    MO\n",
       "4   1004                 AAR CORP                 AAR Corp    IL"
      ]
     },
     "execution_count": 4,
     "metadata": {},
     "output_type": "execute_result"
    }
   ],
   "source": [
    "firmDF = pd.read_csv(firmFile)\n",
    "firmDF.head()"
   ]
  },
  {
   "cell_type": "code",
   "execution_count": 5,
   "metadata": {},
   "outputs": [
    {
     "name": "stdout",
     "output_type": "stream",
     "text": [
      "32813\n",
      "32810\n",
      "count           32813\n",
      "unique          32810\n",
      "top       LUMENIS LTD\n",
      "freq                2\n",
      "Name: conm, dtype: object\n",
      "32813\n"
     ]
    },
    {
     "data": {
      "text/html": [
       "<div>\n",
       "<style scoped>\n",
       "    .dataframe tbody tr th:only-of-type {\n",
       "        vertical-align: middle;\n",
       "    }\n",
       "\n",
       "    .dataframe tbody tr th {\n",
       "        vertical-align: top;\n",
       "    }\n",
       "\n",
       "    .dataframe thead th {\n",
       "        text-align: right;\n",
       "    }\n",
       "</style>\n",
       "<table border=\"1\" class=\"dataframe\">\n",
       "  <thead>\n",
       "    <tr style=\"text-align: right;\">\n",
       "      <th></th>\n",
       "      <th>gvkey</th>\n",
       "    </tr>\n",
       "  </thead>\n",
       "  <tbody>\n",
       "    <tr>\n",
       "      <th>count</th>\n",
       "      <td>32813.000000</td>\n",
       "    </tr>\n",
       "    <tr>\n",
       "      <th>mean</th>\n",
       "      <td>58914.747783</td>\n",
       "    </tr>\n",
       "    <tr>\n",
       "      <th>std</th>\n",
       "      <td>66792.343541</td>\n",
       "    </tr>\n",
       "    <tr>\n",
       "      <th>min</th>\n",
       "      <td>1000.000000</td>\n",
       "    </tr>\n",
       "    <tr>\n",
       "      <th>25%</th>\n",
       "      <td>9787.000000</td>\n",
       "    </tr>\n",
       "    <tr>\n",
       "      <th>50%</th>\n",
       "      <td>23959.000000</td>\n",
       "    </tr>\n",
       "    <tr>\n",
       "      <th>75%</th>\n",
       "      <td>115960.000000</td>\n",
       "    </tr>\n",
       "    <tr>\n",
       "      <th>max</th>\n",
       "      <td>319507.000000</td>\n",
       "    </tr>\n",
       "  </tbody>\n",
       "</table>\n",
       "</div>"
      ],
      "text/plain": [
       "               gvkey\n",
       "count   32813.000000\n",
       "mean    58914.747783\n",
       "std     66792.343541\n",
       "min      1000.000000\n",
       "25%      9787.000000\n",
       "50%     23959.000000\n",
       "75%    115960.000000\n",
       "max    319507.000000"
      ]
     },
     "execution_count": 5,
     "metadata": {},
     "output_type": "execute_result"
    }
   ],
   "source": [
    "print(len(firmDF['gvkey'].unique()))\n",
    "print(len(firmDF['conm'].unique()))\n",
    "print(firmDF['conm'].describe())\n",
    "print(len(firmDF))\n",
    "firmDF.describe()"
   ]
  },
  {
   "cell_type": "code",
   "execution_count": 6,
   "metadata": {},
   "outputs": [
    {
     "data": {
      "text/html": [
       "<div>\n",
       "<style scoped>\n",
       "    .dataframe tbody tr th:only-of-type {\n",
       "        vertical-align: middle;\n",
       "    }\n",
       "\n",
       "    .dataframe tbody tr th {\n",
       "        vertical-align: top;\n",
       "    }\n",
       "\n",
       "    .dataframe thead th {\n",
       "        text-align: right;\n",
       "    }\n",
       "</style>\n",
       "<table border=\"1\" class=\"dataframe\">\n",
       "  <thead>\n",
       "    <tr style=\"text-align: right;\">\n",
       "      <th></th>\n",
       "      <th>gvkey</th>\n",
       "      <th>conm</th>\n",
       "      <th>conml</th>\n",
       "      <th>state</th>\n",
       "    </tr>\n",
       "  </thead>\n",
       "  <tbody>\n",
       "    <tr>\n",
       "      <th>14777</th>\n",
       "      <td>19845</td>\n",
       "      <td>LUMENIS LTD</td>\n",
       "      <td>Lumenis Ltd</td>\n",
       "      <td>NaN</td>\n",
       "    </tr>\n",
       "    <tr>\n",
       "      <th>21697</th>\n",
       "      <td>62471</td>\n",
       "      <td>LUMENIS LTD</td>\n",
       "      <td>Lumenis Ltd</td>\n",
       "      <td>NaN</td>\n",
       "    </tr>\n",
       "  </tbody>\n",
       "</table>\n",
       "</div>"
      ],
      "text/plain": [
       "       gvkey         conm        conml state\n",
       "14777  19845  LUMENIS LTD  Lumenis Ltd   NaN\n",
       "21697  62471  LUMENIS LTD  Lumenis Ltd   NaN"
      ]
     },
     "execution_count": 6,
     "metadata": {},
     "output_type": "execute_result"
    }
   ],
   "source": [
    "firmDF[firmDF['conm']=='LUMENIS LTD']"
   ]
  },
  {
   "cell_type": "code",
   "execution_count": 7,
   "metadata": {},
   "outputs": [
    {
     "name": "stdout",
     "output_type": "stream",
     "text": [
      "['N00000939' 'N00004227' 'N00005178' ... 'N00030418' 'N99999922'\n",
      " 'N00000286']\n",
      "1012\n",
      "12\n"
     ]
    }
   ],
   "source": [
    "print(congDF['cid'].unique())\n",
    "print(len(congDF['cid'].unique()))\n",
    "print(len(congDF['folderOfOrigin'].unique()))"
   ]
  },
  {
   "cell_type": "code",
   "execution_count": 8,
   "metadata": {},
   "outputs": [
    {
     "name": "stdout",
     "output_type": "stream",
     "text": [
      "count         245582\n",
      "unique          1012\n",
      "top       Kerry-John\n",
      "freq            4873\n",
      "Name: personName, dtype: object\n"
     ]
    }
   ],
   "source": [
    "print(congDF['personName'].describe())"
   ]
  },
  {
   "cell_type": "code",
   "execution_count": 9,
   "metadata": {},
   "outputs": [
    {
     "data": {
      "text/html": [
       "<div>\n",
       "<style scoped>\n",
       "    .dataframe tbody tr th:only-of-type {\n",
       "        vertical-align: middle;\n",
       "    }\n",
       "\n",
       "    .dataframe tbody tr th {\n",
       "        vertical-align: top;\n",
       "    }\n",
       "\n",
       "    .dataframe thead th {\n",
       "        text-align: right;\n",
       "    }\n",
       "</style>\n",
       "<table border=\"1\" class=\"dataframe\">\n",
       "  <thead>\n",
       "    <tr style=\"text-align: right;\">\n",
       "      <th></th>\n",
       "      <th>year</th>\n",
       "      <th>min</th>\n",
       "      <th>max</th>\n",
       "      <th>hidemax</th>\n",
       "    </tr>\n",
       "  </thead>\n",
       "  <tbody>\n",
       "    <tr>\n",
       "      <th>count</th>\n",
       "      <td>245582.000000</td>\n",
       "      <td>2.455820e+05</td>\n",
       "      <td>2.455820e+05</td>\n",
       "      <td>245582.000000</td>\n",
       "    </tr>\n",
       "    <tr>\n",
       "      <th>mean</th>\n",
       "      <td>2009.709201</td>\n",
       "      <td>1.423359e+05</td>\n",
       "      <td>3.642206e+05</td>\n",
       "      <td>0.010819</td>\n",
       "    </tr>\n",
       "    <tr>\n",
       "      <th>std</th>\n",
       "      <td>3.367244</td>\n",
       "      <td>2.100153e+06</td>\n",
       "      <td>2.941882e+06</td>\n",
       "      <td>0.103451</td>\n",
       "    </tr>\n",
       "    <tr>\n",
       "      <th>min</th>\n",
       "      <td>2004.000000</td>\n",
       "      <td>-3.547540e+05</td>\n",
       "      <td>-3.547540e+05</td>\n",
       "      <td>0.000000</td>\n",
       "    </tr>\n",
       "    <tr>\n",
       "      <th>25%</th>\n",
       "      <td>2007.000000</td>\n",
       "      <td>1.001000e+03</td>\n",
       "      <td>1.500000e+04</td>\n",
       "      <td>0.000000</td>\n",
       "    </tr>\n",
       "    <tr>\n",
       "      <th>50%</th>\n",
       "      <td>2010.000000</td>\n",
       "      <td>1.500100e+04</td>\n",
       "      <td>3.986150e+04</td>\n",
       "      <td>0.000000</td>\n",
       "    </tr>\n",
       "    <tr>\n",
       "      <th>75%</th>\n",
       "      <td>2013.000000</td>\n",
       "      <td>5.000100e+04</td>\n",
       "      <td>1.000000e+05</td>\n",
       "      <td>0.000000</td>\n",
       "    </tr>\n",
       "    <tr>\n",
       "      <th>max</th>\n",
       "      <td>2015.000000</td>\n",
       "      <td>3.120000e+08</td>\n",
       "      <td>3.120000e+08</td>\n",
       "      <td>1.000000</td>\n",
       "    </tr>\n",
       "  </tbody>\n",
       "</table>\n",
       "</div>"
      ],
      "text/plain": [
       "                year           min           max        hidemax\n",
       "count  245582.000000  2.455820e+05  2.455820e+05  245582.000000\n",
       "mean     2009.709201  1.423359e+05  3.642206e+05       0.010819\n",
       "std         3.367244  2.100153e+06  2.941882e+06       0.103451\n",
       "min      2004.000000 -3.547540e+05 -3.547540e+05       0.000000\n",
       "25%      2007.000000  1.001000e+03  1.500000e+04       0.000000\n",
       "50%      2010.000000  1.500100e+04  3.986150e+04       0.000000\n",
       "75%      2013.000000  5.000100e+04  1.000000e+05       0.000000\n",
       "max      2015.000000  3.120000e+08  3.120000e+08       1.000000"
      ]
     },
     "execution_count": 9,
     "metadata": {},
     "output_type": "execute_result"
    }
   ],
   "source": [
    "congDF.describe()"
   ]
  },
  {
   "cell_type": "markdown",
   "metadata": {},
   "source": [
    "### Testing string matches\n",
    "\n",
    "#### OBSERVATIONS:\n",
    "- Do the process.extract() & then run a fuzzy match on ratio and partial ratio(this checks for substring)\n",
    "  for added netting"
   ]
  },
  {
   "cell_type": "code",
   "execution_count": 10,
   "metadata": {},
   "outputs": [],
   "source": [
    "congOrgs = congDF['orgname'].unique()\n",
    "firmOrgs = firmDF['conm'].unique()\n",
    "firmOrgsLC = firmDF['conml'].unique()"
   ]
  },
  {
   "cell_type": "code",
   "execution_count": 11,
   "metadata": {},
   "outputs": [
    {
     "name": "stdout",
     "output_type": "stream",
     "text": [
      "unique cong orgs: 70512\n",
      "unique firm orgs: 32810\n",
      "unique firm orgs lower case: 32682\n"
     ]
    }
   ],
   "source": [
    "print('unique cong orgs:', len(congOrgs))\n",
    "print('unique firm orgs:', len(firmOrgs))\n",
    "print('unique firm orgs lower case:', len(firmOrgsLC))"
   ]
  },
  {
   "cell_type": "code",
   "execution_count": 12,
   "metadata": {},
   "outputs": [],
   "source": [
    "from fuzzywuzzy import fuzz\n",
    "from fuzzywuzzy import process\n",
    "from fuzzywuzzy import utils\n",
    "from fuzzywuzzy.string_processing import StringProcessor"
   ]
  },
  {
   "cell_type": "code",
   "execution_count": 13,
   "metadata": {},
   "outputs": [
    {
     "name": "stdout",
     "output_type": "stream",
     "text": [
      "university of new mexico rev bond\n",
      "\n",
      "\n",
      "[('ALLTEL NEW YORK INC', 86), ('INVESCO BOND FUND', 86), ('DIVERSICARE CP OF AMER', 86), ('GALLERY OF HISTORY INC', 86), ('NEW AMERICAN SHOE CO', 86)]\n",
      "\n",
      "\n",
      "[('Alltel New York Inc', 86), ('Invesco Bond Fund', 86), ('VanEck Vectors Emerging Markets High Yield Bond ETF', 86), ('Gallery of History Inc', 86), ('New American Shoe Co', 86)]\n"
     ]
    }
   ],
   "source": [
    "searchSTR = congOrgs[5000]\n",
    "print(searchSTR.lower())\n",
    "print('\\n')\n",
    "print(process.extract(searchSTR.lower(), firmOrgs, limit=5))\n",
    "print('\\n')\n",
    "print(process.extract(searchSTR.lower(), firmOrgsLC, limit=5))"
   ]
  },
  {
   "cell_type": "code",
   "execution_count": 14,
   "metadata": {},
   "outputs": [
    {
     "name": "stdout",
     "output_type": "stream",
     "text": [
      "University of New Mexico Rev Bond ALLTEL NEW YORK INC 19\n",
      "University of New Mexico Rev Bond Alltel New York Inc 35\n"
     ]
    }
   ],
   "source": [
    "orgMatch, per = process.extractOne(searchSTR, firmOrgs)\n",
    "orgMatchLC, per = process.extractOne(searchSTR, firmOrgsLC)\n",
    "print(searchSTR, orgMatch ,fuzz.ratio(searchSTR, orgMatch))\n",
    "print(searchSTR, orgMatchLC ,fuzz.ratio(searchSTR, orgMatchLC))"
   ]
  },
  {
   "cell_type": "code",
   "execution_count": 15,
   "metadata": {},
   "outputs": [
    {
     "data": {
      "text/html": [
       "<div>\n",
       "<style scoped>\n",
       "    .dataframe tbody tr th:only-of-type {\n",
       "        vertical-align: middle;\n",
       "    }\n",
       "\n",
       "    .dataframe tbody tr th {\n",
       "        vertical-align: top;\n",
       "    }\n",
       "\n",
       "    .dataframe thead th {\n",
       "        text-align: right;\n",
       "    }\n",
       "</style>\n",
       "<table border=\"1\" class=\"dataframe\">\n",
       "  <thead>\n",
       "    <tr style=\"text-align: right;\">\n",
       "      <th></th>\n",
       "      <th>gvkey</th>\n",
       "      <th>conm</th>\n",
       "      <th>conml</th>\n",
       "      <th>state</th>\n",
       "    </tr>\n",
       "  </thead>\n",
       "  <tbody>\n",
       "    <tr>\n",
       "      <th>1491</th>\n",
       "      <td>2596</td>\n",
       "      <td>CACI INTL INC  -CL A</td>\n",
       "      <td>CACI International Inc.</td>\n",
       "      <td>VA</td>\n",
       "    </tr>\n",
       "  </tbody>\n",
       "</table>\n",
       "</div>"
      ],
      "text/plain": [
       "      gvkey                  conm                    conml state\n",
       "1491   2596  CACI INTL INC  -CL A  CACI International Inc.    VA"
      ]
     },
     "execution_count": 15,
     "metadata": {},
     "output_type": "execute_result"
    }
   ],
   "source": [
    "firmDF[firmDF['conml']=='CACI International Inc.']# firmDF[firmDF['conm']=='ABVIVA INC']"
   ]
  },
  {
   "cell_type": "code",
   "execution_count": 16,
   "metadata": {},
   "outputs": [
    {
     "data": {
      "text/plain": [
       "100"
      ]
     },
     "execution_count": 16,
     "metadata": {},
     "output_type": "execute_result"
    }
   ],
   "source": [
    "fuzz.partial_ratio('CACI International', 'CACI International Inc.') # fuzz.partial_ratio('Citibank Cash Reserves Account 27', 'CityBank')"
   ]
  },
  {
   "cell_type": "code",
   "execution_count": 17,
   "metadata": {},
   "outputs": [],
   "source": [
    "def levenshteinDistance(s1, s2):\n",
    "    if len(s1) > len(s2):\n",
    "        s1, s2 = s2, s1\n",
    "\n",
    "    distances = range(len(s1) + 1)\n",
    "    for i2, c2 in enumerate(s2):\n",
    "        distances_ = [i2+1]\n",
    "        for i1, c1 in enumerate(s1):\n",
    "            if c1 == c2:\n",
    "                distances_.append(distances[i1])\n",
    "            else:\n",
    "                distances_.append(1 + min((distances[i1], distances[i1 + 1], distances_[-1])))\n",
    "        distances = distances_\n",
    "    return distances[-1]\n",
    "\n",
    "def levRatio(s1, s2):\n",
    "    l = levenshteinDistance(s1, s2)\n",
    "    m = max(len(s1), len(s2))\n",
    "    return (1 - (float(l)/float(m))) * 100"
   ]
  },
  {
   "cell_type": "code",
   "execution_count": 18,
   "metadata": {},
   "outputs": [
    {
     "name": "stdout",
     "output_type": "stream",
     "text": [
      "15.151515151515149\n",
      "27.27272727272727\n"
     ]
    }
   ],
   "source": [
    "print(levRatio(searchSTR, orgMatch))\n",
    "\n",
    "print(levRatio(searchSTR, orgMatchLC))"
   ]
  },
  {
   "cell_type": "code",
   "execution_count": 19,
   "metadata": {},
   "outputs": [
    {
     "name": "stdout",
     "output_type": "stream",
     "text": [
      "19\n",
      "35\n"
     ]
    }
   ],
   "source": [
    "print(fuzz.ratio(searchSTR, orgMatch))\n",
    "print(fuzz.ratio(searchSTR, orgMatchLC))"
   ]
  },
  {
   "cell_type": "markdown",
   "metadata": {},
   "source": [
    "### Fuzzy Wuzzy explanations\n",
    "- fuzz.ratio() -> edit distance simply (levenshtein)\n",
    "- fuzz.partial_ratio() -> checks for search str to be substr \n",
    "- fuzz.token_sort_ratio() -> alphabetically sort both string tokens and then match ratio\n",
    "- fuzz.token_set_ratio() -> make set(intersect) from both strings and create combinations with both & match ratio"
   ]
  },
  {
   "cell_type": "code",
   "execution_count": 20,
   "metadata": {},
   "outputs": [],
   "source": [
    "import re"
   ]
  },
  {
   "cell_type": "code",
   "execution_count": 21,
   "metadata": {},
   "outputs": [],
   "source": [
    "# congOrgs = sorted(congOrgs)"
   ]
  },
  {
   "cell_type": "code",
   "execution_count": 22,
   "metadata": {},
   "outputs": [
    {
     "name": "stdout",
     "output_type": "stream",
     "text": [
      "['JPMorgan Chase & Co' 'HSBC Bank'\n",
      " 'Congressional Federal Credit Union Account' ...\n",
      " 'Goldman Sachs/Canadian Dollars' 'Goldman Sachs/Australian Dollars'\n",
      " 'BCIP Assoc III B']\n"
     ]
    }
   ],
   "source": [
    "print(congOrgs)"
   ]
  },
  {
   "cell_type": "code",
   "execution_count": 23,
   "metadata": {},
   "outputs": [
    {
     "name": "stdout",
     "output_type": "stream",
     "text": [
      "70512\n"
     ]
    }
   ],
   "source": [
    "results = [re.search(\"^[0-9]\", l, flags=re.IGNORECASE) for l in congOrgs]\n",
    "\n",
    "print(len(results))\n",
    "# for i in range(len(congOrgs)): \n",
    "#     print(re.search('^a', congOrgs[i], flags=re.IGNORECASE))"
   ]
  },
  {
   "cell_type": "code",
   "execution_count": 24,
   "metadata": {},
   "outputs": [],
   "source": [
    "# print(results)"
   ]
  },
  {
   "cell_type": "code",
   "execution_count": 25,
   "metadata": {
    "scrolled": true
   },
   "outputs": [
    {
     "name": "stdout",
     "output_type": "stream",
     "text": [
      "['401k Pension Plan American Funds', '401K /Pension Plan American Funds', '7344 Gwin St/Valley Springs CA', '7344 Gwin St/Valley Spring CA', '7400 Gwin St Valley/Springs, CA', '7344 Gwin St/Valley Springs, CA', '2200 acres land/Lindsay, TX', '292 acres land/Montague County, TX', '12 acres/Dallas, TX', '167 acres/Valley View, TX', '3M Co', '500 Bank Insured Deposit', '10 oz Gold Bar', '1290 Business DEV COM OPPTYS', '1303 TACT INC Closed-End', '1272 International High 30 DVD', '535 Marina Street/Rio Grande, PR', '615 Vistamar Street/Rio Grande, PR', '535 Marina St/Rio Grande, Puerto Rico', '615 Vistamar St/Rio Grande, Puerto Rico', '2025 W St Paul/Chicago, IL', '1003 W Fulton/Chicago, IL', '2146 W Churchill/Chicago, IL', '1 Lot/Columbia, SC', '1/3 Lot/Sumter, SC', '1/2 interest in two lots', '1/3 interest in unimproved land', '1 Lot', '1/3 Lot Gift/Sumter, SC', '529C', '113 Inherited Interest of Apartment in U', '6030 Woodrun Court/Montgomery, AL', '35 Bluff Drive LLC', '18th St/Tybee, GA/Rental Property', '35 Bluff Drive LLC/Extended Family Residence', '5 Island Drive/Savannah, GA', '111 Jacquelyn Drive/Savannah, GA', '105 18th Street/Tybee Island, GA', '5 Island Dr/Savannah GA', '2351 Rocky Ridge Road/Birmingham, AL', '4821 12th Avenue/North Birmingham, AL', '3939 29th Place/North Birmingham, AL', '2025 16th Avenue/North Birmingham, AL', '3622 Curits Park Drive/Sacremetno, CA', '1300-1302 W 94th St/Los Angeles', '717 East Vernon St/Long Beach, CA', '1300-1302 W 94th St/Long Angeles, CA', '3622 W Curtis Park Dr/Sacramento, CA', '7-Eleven', '42nd & 10th', '301 Howard Street', '230 Park Ave', '100 K Street', '60.3 acres land', '60 acres land', '60.3 acres bnd', '60.3 acres lan', '532 Southview Dr/Brookings, SD', '500 Miller Drive/Marshall, TX', '532 Southview Drive/Brookings, SD', '500 Miller Dr/Marshall, TX', '929 Alta Oaks Drive/Henderson, NV', '1148 South 1470 East/Provo, UT', '913 Adobe Flat Drive/Henderson, NV', '511 Chandler Street/Henderson, NV', '20 Residential rental property', '42 MFS Utilities Svc', '929 Alta Oaks Drive/Henderson NV', '4 Plex Rental Units', '4-Plex Rental Units/San Antonio, TX', '4 Plex Rental Unit San Antonio, TX', '4 Plex Rental Unit/San Antonio, TX', '1304 Quintard Anniston', '12 McCullus, Oxford', '1126 Snow St/Oxford, AL', '1310 Quintard Anniston', '123 E 13th St/Anniston', '1304 Quintard/Anniston', '12 McCulloss Lane/Oxford', '1126 Snow St/Oxford', '1310 Quintard/Anniston', '123 East 13th St/Anniston', '12 McCullars/Oxford', '1304 Quintord/Arriston', '12 McCullers Lane/Oxford', '1310 Quintord/Arriston', '123 E 13th St/Amiston', '1304 Quinford/Anniston', '12 McCullars/Oxford, AL', '1310 Quinford/Anniston', '123 E 17th/Anniston', '1210 Guilford/Anniston', '12 McCullors Lane/Oxford', '96 acres/Southampton County, VA', '96 acres', '25% Interest Inherited from the Settlement of the', '96 Acres, Route 64', '842 Middle Island Lot/Bald Head Island', '60 G Street SW/Washington, DC', '15 Horsemint Trail/Bald Head Island, NC', '60 G St SW/Washington, DC', '725 Mt Vernon Avenue/Fairmont, WV', '6 Peppervine Trail/Bald Head Island, NC', '949/951/953 Middle Island Lots/Bald Head', '521 Middle Island Lot/Bald Head Island', '25010 Property Ownership: Mgt Remington', '43 Property Ownership', '45 Int Coal, Oil, Gas/6.5 Ac. Winn Lick', '215 Robinson Rd/Gastonia, NC', '5224 Union Rd/Gastonia, NC', '109 W 8th Ave/Gastonia, NC', '806 Requa Road/Cherryville NC', '5524 Union Rd/Gastonia, NC', '4211 Pete Brown Road/Charlotte, NC', '621 W Garrison Road/Gastonia, NC', '5524 Union Road/Gastonia, NC', '621 W Garrison Blvd/Gastonia, NC', '806 Requa Road', '806 Requa Rd', '215 Robinson Rd', '5224 Union Rd', '109 W 8th ave', '20 Acres Undev Land/Utah County, UT', '20 acres of undeveloped', '20 acres of Undeveloped land', '1 Hopper Street/Utica, NY', '549 S Lucerne', '701 W Barstow', '2201 Kirk St, Houston, TX', '549 So Lucerne Blvd LA', '701 W Barstow/Palm Springs, CA', '2201 Kirk Street/Houston, TX', '549 So Lucerne Blvd/LA', '549 S Lucerne Blvd/Los Angeles, CA', '549 So Lucerne Blvd/Los Angeles, CA', '2201 Kirk St/Houston, TX', '549 S Lucerne/LA, California', '701 W Barstow/California', '2201 Kirk St/Houston', '18801 Beach Blvd', '1380 S Auto Center Dr', '1350 Auto Mall Drive', '1330 Auto Mall Drive', '1300 Auto Mall Drive/Santa Ana, CA', '3032 Wilshire Blvd/Santa Monica, CA', '11528 Martens River Circle/Fountain Valley, CA', '3848 Mentone Partners', '18801 Beach Blvd/Huntington Beach', '1380 S Auto Center Dr/Anaheim, CA', '1350 Auto Mall Drive/Santa Ana, CA', '1330 Auto Mall Drive/Santa Ana, CA', '28730 Marguerite Pkwy/Mission Viejo, CA', '18801 Beach Blvd/Huntington Beach, CA', '1380 Auto Mall Drive/Santa Ana, CA', '9581 Irvine Center Drive/Irvine, CA', '9581 Irvine Center Drive, Irvine', '1380 S Auto Center Drive, Anaheim', '1350 Auto Mall Drive, santa Ana', '1330 Auto Mall Drive, santa Ana', '1300 Auto Mall Drive, santa Ana', '11528 Martens River Circle, Fountain Valley', '1 Farley Drive/Rensselaer, NY', '4 Farley Drive/Albany, NY', '1005 Mooney Drive/Monterey Park, CA', '529 Investment', '1633 Hill Drive/Los Angeles, CA', '1005 Mooney Drive Monterey Park, CA', '101 North Carolina Place SE Apt H Washington', '529 Small Cap World Fund', '101 North Carolina Pl SE/Washington, DC', '101 North Carolina Place, SE/Washington, DC', '101 North Carolina Place SE Apt H/Washington', '529 College Savings Plan', '101 North Carolina Place SE Apt H/Wash', '1112 Dunn (Warehouse)/Cheyenne, WY', '1112 Dunn Ave', '2025 Freedom Fund', '529 Savings Plan for son', '5 Small Cap Core Fund', '4 Cel-Sci', '2 lots (3.31 acres) & 1 lot (2.68 acres)', '1854 Harlan Road/Toledo, OH', '1846 Rivard Road/Toledo, OH', '1837 Dority Road/Toledo, OH', '5151 Fleet Rd/Toledo, OH', '1854 Harlan Rd/Toledo, OH', '1848 Rivard Rd/Toledo, OH', '806 Mystic Dr/Cape Canaveral, FL', '1824 South Fiske Blvd/Rockledge, FL', '1004 Barton Blvd/Rockledge, FL', '2368 Tink Drive/Tallahassee, FL', '1820 Huntington Lane/Rockledge, FL', '806 Mystic Dr/Cape Canaveral', '1824 S Fiske Blvd/Rockledge, FL', '1820 Huntington Ln/Rockledge, FL', '2368 Tina Drive/Tallahassee, FL', '806 Mystic Dr 310/Cape Canaveral, FL', '1803 Hinsley Dr/Rockledge, FL', '1004 Boston Blvd/Rockledge, FL', '606 Mystic Dr #310/Cape Canaveral, FL', '1803 Hensky Dr/Rockledge, FL', '1224 S Fiske Blvd /Rockledge, FL', '1220 Huntington Lane/Rockledge, FL', '806 Mystic Dr #310', '1824 S Fiske Blvd Roickledge, FL', '1803 Hensley Dr Rockledge, FL', '1820 Huntington Ln Rockledge, FL', '1803 Hensley Dr/Rockledge, FL', '806 Mystic Dr #310/Cape Canaveral, FL', '12901 W Jefferson Blvd/Los Angeles, Ca', '455 Shore Road/Chatham MA', '26 Auburn St/Charlestown, MA', '455 Shore Road/Chatham, MA', '455 Shore Road', '529 College Saving Plan for dependent child owned', '529 Excepted Trust', '163 D Street SE/Washington, DC', '408 E 3rd St SE/Washington DC', '408 E 3rd SE/Washington, DC', '140 Main Street/Gillett, AR', '408 E 3rd Street SE/Washington, DC', '1916 Monongahela Avenue/Pittsburgh, PA', '1916 Monongahela Avenue', '325 E Nash Street/Funeral Home', '211-213 Pender Street', '109 Wayfarer Court', '137 Wayfarer Court', '1704 Martin Luther King Parkway', '211 Pender Street', '603 Nash Street', '1001 Vance Street', '5314 Ward Blvd', '215 Pender Street', '1702-1704 MLK Parkway', '622 Nash Street', '613 Nash Street', '610 Nash Street', '205 Pender Street', '111 Ash Street', '107 Pender Street', '706 Nash Street', '702 Nash Street', '622.5 Nash Street', '109-203 Pender Street', '800 Hines Street', '600 Nash Street', '800 Hines Real Estate', '1001 Vance Real Estate', '603 Nash Real Estate', '5314 Ward Real Estate', '1702-1704 MLK Real Estate', '613 Nash Real Estate', '305 Pender Real Estate', '1614-1616 MLK Real Estate', '111 Ash Real Estate', '106 Pende Real Estate', '211-213 Pender St (connie)', '1001 Vance St', '800 Hines St', '1702 Martin Luther King Parkway', '137 Wayfarer Ct (connie)', '1614 Martin Luther King Parkway', '325 E Nast Street', '113 S Pender', '608 E Nash', '205 S Pender St', '622.5 East Nash', '622 East Nash Street/Garris', '105 S Pender', '1001 Vance Street North', '536 Nash/BT Barnes', '603 Nash St', '548 Nash St/Rosemond', '106 Pender St', '528 Nash Street/Beauty Parlor', '109, 201, 203 S Pender St', '611-613 Nash St', '542 Nash St/Potts', '115,117 Ash St', '111-113 Ash Street', '301 Pender St', '610-612 E Nash St/Funeral Home', '544 Nash/Tolson', '532 Nash/Tolson', '301 East Street', '203 East St', '534 Nash/Wingate', '550 Nash St', '217 Pender St', '215 S Pender St', '107 S Pender St', '222 International Drive LP', '175 Purchase Street LLC', '185 Beacon Street LLC', '395 Marlborough LLC', '222 International LLC', '180 International LLC', '500 Index Fund Inv', '320 acres of Farmland/Roger Mills Co', '480 acres Farmland/Roger Mills, Co', '63-34 acres  Mineral Rights/Roger Mill', '320 acres - Farmland/Cheyenne/Roger Mills, OK', '480 acres - Farmland/Cheyenne/Roger Mills, OK', '63 acres Mineral Rights/Roger Mills, OK', '480 acr-Farmland-House-Cattle/Cheyenne', '480 acres Farmland, House, Equip, Cattle', '103 acres Mineral Rights/Roger Mills, OK', '480 acres - Farmland', '320 acres - Farmland/Roger Mills Co OK', '10 Federal St/Portland, ME', \"23rd St Properties c/o Collie's Intl\", \"23rd St Properties/Collier's Internat'l\", '5th Avenue Tech Growth Fund', '3Com Corp', '3252 Winchester Road/Delaplane, VA', '3rd Avenue Focus Credit Investment Fund', '1st Eagle Global Fund', '3rd Avenue Real Estate Value Inv Fund', '470 & 472 Radcliff Drive', '470 & 472 Radcliff Drive (with spouse)', '5604 & 5606 Parkville Rd', '5596 & 5598 Parkville Rd', '2210 & 2212 Tupsfield Rd', '5604 & 5606 Parkville Road', '5596 & 5598 Parkville Road', '2210 & 2212 Tupsfield Road', '5596 & 5598/Parkville Road', '5596 & 5598 Parkville Rd (with father)', '3-Bed Condo/Questa Verde, VI', '197 Acres 40ED/La Grange, VI', '25% interest in ZLDR partnership owning 95 acres +', '645-47 W Liberty Street/Sumter, SC', '645-47 West Liberty Street/Sumter, SC', '645-47 W Liberty St', '645-47 West Liberty St/Sumter, SC', '645-47 W Liberty St/Sumter, SC', '1187 acres Farmland/Conejos & Costilla', '401k Retirement', '457b Deferred Compensation Plan', '21 7th Street NE (Room)/Washington, DC', '401K/ Mid Cap Fund', '457 Small Cap Fund', '457 Large Cap Socially Responsible Fund', '457 Large Cap Index Fund', '457 Short Term Investment Fund', '457 Mid Cap Fund', '457 Large Cap Fund', '401K Small Cap Fund', '401K Short Term Investment Fund', '401K Mid Cap Fund', '401K Large Cap Fund', '457 Short Term Investment Fund- Cash', '457 Large Cap', '457 International Fund', '403B--Large Cap U.S. Stock-DWS Cap Growth VA', '401K Short Term Investment Fund- Cash', '401K Large Cap Socially Responsible Fund', '401K Large Cap Index Fund', '401K International Fund', '1435/1439 Kearny St, St Helena', '2140 Finley Road East/Finley, CA', '1435/1439 Kearney Street/St Helena', '1435/1439 Kearney Street/St Helena, CA', '20% Interest Travis Webb', '6 Acres Land/11468 Hwy 105', '3 Acres Land/11468 Hwy 105', '169 Crystal Dr/Banner Elk, NC (for sale)', '6 Acres Land Hwy 105/Banner Elk, NC', '3 acres 11468 Hwy 105/Banner Elk, NC', '2 Acres Land, 240 Rhine Frost', '6 Acres Land, 11468 Hwy 105', '3 Acres Land,11468 Hwy 105', '175 Crystal Dr/Banner Elk, NC (for sale)', '50% Templeton Foreign Fund 50% Artisan T', '189 Crystal Dr/Banner Elk, NC (for sale)', '166 Crystal Dr/Banner Elk, NC (for sale)', '100 Plaza Investment Real Estate', '600 LC', '1299 LC', '6430 Hollywood Blvd LLC', '998 Inc', '130 North Tamiami Trail LLC', '301 Oxford LLP', '10-2002 LLC', '996 Inc', '10-3003 LLC', '130 Tamiami Trail Rental', '301 Oxford LLC', '2 Rentals homes/Bradenton, FL', '1099 Management Co', '600 Las Colinas', '130 N Ramiami Trail LLC', '600 LC auto dealer', '996 Inc rental property', '301 Oxford LLP real estate', '2 rental homes Bradenton, FL', '800 LC', '3460 Hollywood Blvd LLC', '10-2000 LLC', '10-3000 LLC', '600 LC/Cocoa, FL', '926 Inc', '3 Tracts/Salemburg, NC', '10 Acres Real Estate/Castle Hayne, NC', '76.57, 82 & 2.2 Acre Tracts/Sampson Co', '76.57 82 & 2.2 Acre Tracts/Sampson Co', '10 Acres Real Estate', '2% Interest Cambridge Heights Apts Partnership', '690 9th Street SW/Washington, DC', '440 Spring Street/Collinsville Madison, IL', '440 Spring Street/Collinsville, IL', '690 9th Street, SW/Washington, DC', '690 9th Street SW/Washington, DC, US', '820 Sir Francis Drake Blvd/San Anselmo', '723 Mule Ears Court/Norden, CA', '45 Belden Place/San Francisco, CA', '25 Point Lobos/San Francisco, CA', '1600 Atlas Peak Road/Napa, CA', '235 Twelve Inc', '25 Point Lobos - Commercial Property', '11 Zinfandel Lane - Home & Vineyard', '723 Mule Ears Court - Townhome', '45 Belden Place - Four Story Commercial Building', '1600 Atlas Peak Road - Real Estate Investment', '99 Tally Ho Court/Sapphire, NC', '2827 Wilson Road/Springdale, SC', '2823 Wilton Road/Springdale, SC', '220-A Justice Court NE/Washington, DC', '2827 Wilton Rd/Springdale, SC', '2823 Wilton Rd/Springdale, SC', '640 Sunset Blvd/West Columbia, SC', '1534 Sunset Blvd/West Columbia, SC', '101 Shuler Street/West Columbia, SC', '922 Sunset Blvd/West Columbia, SC', '515 E Main St/Lexington, SC', '2827 Wilton Road/Springdale, SC', '7720 Building Corp', '1806 West Street/Union City, NJ', '3231 & 3233 West Capitol St/Jackson, MS', '2 acres unimproved property/Bolton, MS', '2 acres unimproved property', '12 acres unimproved property', '5 acres unimproved property', '2 acres of Unimproved Property', '2 acres Northside Drive/Bolton, MS', '1 acre/Old Fairground Road Edwards, MS', '1 acre/Mount Olive Road Bolton, MS', '1101 S Arlington Ridge Rd/Arlington, VA', '11 Acres/Strafford, MO', '11 Undeveloped Acres/Strafford, MO', '11 Undeveloped Acres in Strafford, MO', '401-K Mondelez Int Inc', '116 & Melbourne Branson', '1602 SE Flavel Street/Portland, OR', '6 Whole-Life Insurance policies', '125 acres Minerals/Wilkinson County, GA', '46.5 acres/Wilkinsons County', '46.5 acres in Wilkinsons County', '46 acres/Wilkinsons County', '3627 W 104th St LLC', '3627 W 104th Street LLC', '3627 West 104th St LLC', '524 Johnstown Rd/Chesapeake, VA', '536 Johnstown (Residence)/Chespk, VA', '524 Johnstown Rd, Chesapeake VA - Office Building', '536 Johnstown Rd, Chesapeake, VA - Rental Home', '524 Johnstown Rd, Chesapeake, VA Office Building', '536 Johnstown Rd Rental/Chesapeake, VA', '524 Johnstown Rd/Cheasapeake, VA', '524 Johnstown (Office)/Chesapeake, VA', '1391 Duck Rd/Dare Co NC', '160 acres/Bullhead City, AZ', '2 Parcels/Iron County, UT', '1/4 acre vacant lot in Section 5, T 7S', '55.10 Acre Parcel', '75 Acres Patented Mining Claims', '55.1 Acres/Searchlight, NV', '1/4 Acre Vacant Lot In Section 5 T 7s', '1.4 acre vacant lot in Sec. 5, T7S, R61E', '2 parcels/Iron Ct UT', '160 acres', '2 parcels/Iron Ct, UT', '55.10 acres/Pat Sur 2605/Searchlight, NV', '160 acres/Bullhead County, AZ', '50% Interest In Lot 9/Searchlight, NV', '50% interest in part of Parcel III, Lot', '90+acres/Wright Township, PA', '20+acres/Dallas Township, PA', '126 S Franklin Street/Wilkes-Barre, PA', '2001 Ford Truck', '2001 Chrysler', '1995 Saturn', '1996 Ford Truck', '2012 Ford Fusion', '1996 Ranger Truck', '2010 Ford Fusion', '1996 Ford Ranger', '500 Index', '350 G Street SW #N208', '7447 Cambridge #124/Houston, TX', '7447 Cambridge #107/Houston, TX', '7447 Cambridge #105/Houston, TX', '350 G Street SW/Washington, DC', '7447 Cambridge 124/Houston, TX', '7447 Cambridge 107/Houston, TX', '7447 Cambridge 105/Houston, TX', '7447 CAMBRIDGE #124', '7447 Cambridge #107', '7447 Cambridge #105', '7447 Cambridge, #124/Houston, TX', '7447 Cambridge, #107/Houston, TX', '7447 Cambridge, #105/Houston, TX', '802 Meadowlark/Howell, MI', '720 Caesar Rd/Picayune, MS', '720 Caesar Road/Picayune, MS', '266 Daisy Ave/Imperial Beach, CA', '230 Ebony Ave/Imperial Beach, CA', '192 & 194 Ebony Ave/Imperial Beach CA', '829-831 10th Ave/Imperial Beach, CA', '257 Ebony Ave/Imperial Beach, CA', '499 8th St/Imperial Beach, CA', '3473 Cactus Valley Lane/Laughlin, NV', '266 Daisy Aven/Imperial Beach, Ca', '2466 Unicornio St/Carlsbad, Ca', '230 Ebony Ave/Imperial Beach, Ca', '192-194 Ebony Ave/Imperial Beach, Ca', '257 Ebony Ave/Imperial Beach, Ca', '449 8th Street/Imperial Beach, Ca', '3473 Cactus Valley Lane/Laughlin, Nv', '829-831 10th St/Imperial Beach, Ca', '720 Cesar Rd/Picayune, MS', '19 Raleigh St/Helena, MT', '129 & 194 Ebony Ave/Imperial Beach', '289-831 10th St/Imperial Beach, CA', '760 Caesar Road/Picayune, MS', '701/801 LLC', '50 Acres/Lyme, NH', '1976 Jaguar personal car', '1925 Squaw Run Road/Pittsburgh, PA', '3-D Systems Corp', '338 Baird St home/Barberton, OH', '2 Brothers Investment LLC', '359 Acre Ranchland/Framont, ID', '3325 Mannheim Ct', '529 C Fund Capital Income Builder', '300 West 17th Street/Tucson, AZ', '2370 Calypso Lane/League City, TX', '117 West Armijo/Tucson, AZ', '300 West 17th St/Tucson, AZ', '20 ft Pontoon boat & 40 hp Mercury motor', '17 ft Boston Whaler boat/70 hp Jhnsn mtr', '1994 Cadillac Deville', '1996 Buick Regal', '1989 Cadillac Fleetwood', '1991 Buick Century automobile', '17ft Boston Whaler boat/70hp Johnson mtr', '2013 Ford Taurus', '20 ft Pontoon Boat', '2009 Ford Taurus', '17 ft Boston Whaler boat', '20 Ft Pontoon Boat & 40 Hp Mercury Outb', '17 Ft Boston Whaler Boat & 70 Hp Johnso', '1994 Cadillac Deville-retail Value', '1996 Buick Regal-retail Value', '1989 Cadillac Fleetwood-retail Value', '150 D Street SE/Washington, DC', '3466 Legendary LV NV', '208 D Street SE/Washington, DC', '7032 Azure Beach/Las Vegas, NV', '546 Poplar Leaf/Las Vegas, NV', '489 Melrose Heights/Henderson, NV', '3964 Bella Palermo Way/Las Vegas, NV', '11932 Orense Dr/Las Vegas, NV', '11829 Ampucia/Las Vegas, NV', '11628 Aruba Beach/Las Vegas, NV', '11234 Revelry Lane/Las Vegas, NV', '11012 Meadow Leaf/Las Vegas, NV', '3466 Legendary/Las Vegas, NV', '2630 East Harris Farm Rd/Pahrump, NV', '2400 Tech Center LLC', '1241 Pascoe/Pahrump, NV', '1660 Honeysuckle/Pahrump, NV', '1281 Laura/Pahrump, NV', '208 D St SE/Washington, DC', '150 D St SE/Washington, DC', '2630 E Harris Farm Rd/Pahrump, NV', '8 Sparqs Into Deil by MS 8% Qtrly Sep du', '314th & Osborn Road/Buckeye, AZ', '4154 Via Dana/Las Vegas, NV', '11234 Revelry Ln/Las Vegas, NV', '208 D St SE/Washington DC', '2nd Residence 3604 Oakland Dr/Alexandria', '3-year Compound', '3 Year Compound', '10 Year Compound', '444 Realty Co', '600 Broadway Assoc', '40 Worth Assoc', '360 Park South Assoc', '132 W 125 Co/Us Treasury Notes', '132 W 125 Co', '444 Realty Co/Hsbc Cash In Bank', '132 West 125 Co/Cash Hsbc Bank', '525 Properties Llc', '132 West 125 St/NY, NY', '132 W 125 St LLC/Cash', '910 Park Avenue Residential Real Estate', '40 Worth St Assoc', '360 Park Ave South/NY', '584 Broadway/New York, NY', '299 Broadway/NY', '525 Seventh Ave/New York, NY', '360 Park Ave S Assoc', '132 W 125 St LLC', '132 West 125 St Office Building/NY, NY', '132 W 125 St LLC/Cash in Bank HSBC', '712 West Assoc LLC', '682 Inwood Assoc LLC', '360 Park Ave Invest Ptsp', '7510 LLC /Cash in Bank HSBC', '444 Real Estate Co', '360 Park Ave S Assoc/Cash in Bank HSBC', '584 Broadway Assoc Office Building', '299 Broadway Assoc Office Building', '525 Seventh Ave Assoc Office Building', '132 W 125 St LLC/US Treasury Bills', '7510 Assoc', '360 Park Ave S Assoc/US Treasury Bills', '299 Broadway Assoc', '132 West 125 St Office Bldg/New York, NY', '525 Seventh Ave Assoc', '444 Realty Co/Commercial RE NY, NY', '360 Park South LLC', '360 Park South Assoc/US Treasury Bond', '444 Realty Co/US Treasury Bonds', '444 Realty Co/HSBC Cash', '360 Park South Assoc/HSBC Cash', '2S Crossover LP', '2S Co', '132 W 125 Co/US Treasury Bonds', '3D Systems Corp', '21st Century Fox', '10 Acres of land/Johnson County, OK', '10 Acres of land in Johnson County, Owned with Bro', '219 Pearl Street/La Crosse, WI', '5 Buckhotz Road/Ettrick, WI', '213 Pearl Street/LaCrosse, WI', '219 Pearl Street/LaCrosse, WI', '219 Pearl St/La Crosse, WI', '3057 Hunrichs Way/San Diego, CA', '1426 G St SE/Washington, DC', '40+ Acres Land/Canyon County, Idaho', '40+ Acres Land/Ada County, Idaho', '24+ Acres Land/Canyon County, Idaho', '180+ Acres Land/Ada County, Idaho', '40 Acres Land/Canyon County', '40 Acres Land/Ada County', '24 Acres Land/Canyon County, ID', '160 Acres Land/Ada County', '160 Acres Land Ada County', '40+ Acres-Land/Ada County, ID', '24+ Acres-Land/Canyon County, ID', '40 Acres Land/Canyon County, ID', '40 Acres Land/Ada County, ID', '20 Acres Land/Canyon County, ID', '180 Acres Land/Ada County, ID', '1827 Grant St/Denver, CO', '29th Street/Boulder, CO', '10Sheet Services Inc', '13th Floor PC Group LP', '1301 Canyon Blvd/Boulder, CO', '1827 Grant Street Unit/Denver, CO', '1827 Grant Street Unit/Denver CO', '1B3Y LLC Convertible Promisory Note', '450 New Jersey Ave SE/Washington, DC', '84 Woodhull Street/Brooklyn, NY', '20th Century Roth IRA', '20th Century Growth Fund', '993 KM 1.0 Los Chivos', '993 KM 1 Los Chivos', '20th Century ROTH IRA Growth Fund', '1471 Girard St NW/Washington, DC', '1471 Girard Street NW/Washington, DC', '40 acres Timberland/Choctaw County, AL', '500 acres of farmland/Wilcox County, AL', '10 Acres Timberland/Choctaw County, AL', '10 acres of timberland/Bladon Springs', '3426 S 9th Avenue/Tucson, AZ', '3426 S 9th Ave/Tucson, AZ', '3426 9th Ave/Tucson, AZ', '10003 E Country Shadows Drive/Tucson, AZ', '3426 9th Ave/ Tucson, AZ', '3426 9th Ave', '1 Subway LLC', '714 North Wooster Ave/Dover, OH', '123-127 West High Ave/New Philadelphia', '714 N Wooster Avenue/Dover, OH', '123-127 W High Ave/New Philadelphia, OH', '2nd Mortgage Receivable Ere & Tammy Diet', '125-127 West High Ave/New Philadelphia', '609 West B St Residential/Commercial Lot', '400 Wash Street/Oragon, IL', '6207 30th Street/North Arlington, VA', '65 Acres Land - Greenbrier Farms/McDonal', '60 Acres Land - Hoggleridge', '6207 30th St/North Arlington, VA', '65 Acres Land Greenbrier Farms/McDonald', '60 Acres Land/Hoggleridge', '6207 30th Street North', '65 Acres Land - Greenbrier Farms/McDonald Farms', '65 Acres Land - Greenbrier Farms/McDonald Farms Pa', '65 Acres Land Greenbrier Farms/McDonal', '529 Capital World Bond Fund', '529 Short Term Bond Fund of America', '529 Euro Pacific Growth Fund', '12 acres/Rabun County, GA', \"4 I's LLC\", '12 acres', '5074 Hampton Farms Dr/Marietta, GA', '54 acres/Douglas County, GA', '3832 Brandon Mill Road/Rabun Cty, GA', '5074 Hampton Farms Drive/Marietta, GA', '201 Mass Avenue/condo Washington, DC', '807 University Towers', '54 acres', '4 acres/Cherokee County', '2 acres Highway 140/Cherokee County', '201 Mass Avenue/condo - Washington, DC', '1/12th interest in 54 acres', '12 acres Brandon Mill Rd/Rabun Cty, G', \"4 l's LLC 8\", \"41's LLC\", '807 University Towers condo Athens GA', '901 E 3rd St Commercial Rental', '624 E Grand Commercial Rental', '330 Sherman Way Commercial Rental', '103 N Lincoln', '63 W Grand Commercial Rental', '501 & 503 E 6th', '22622 S Gilbert Road', '122 E 6th Street', '103 N Lincoln Commercial Rental', '501 & 503 E 6th Commercial Rental', '624 East Grand Boulevard/Corona, CA', '501 & 503 E 6th Street/Corona, CA', '1154 E 6th Street/Corona, CA', '408/410 S Main Street/Corona, CA', '408 & 410 S Main St/Corona, CA', '401k Vanguard Target Retirement 2035', '401k Vanguard Prime Money Market', '3 Country Place/Pearl, MS', '3 Country Place', '50% of 1/4 undivided interest 400 Acre Tract- Bent', '3 Country Place/Pearl, MS 39208', '400 Acre T', '400 Acre Tract', '400 Acre Tract-Bento', '3% Interest In LP', '305 C Street/Washington, DC', '4 Wells Fargo Savings Accoung', '4 FL Prepaid College Tuition Not self directed', '3 Wells Fargo Savings Account', '3 FL Prepaid Colelge Tuition not self directed', '2 Wells Fargo Savings Account', '2 FL Prepaid College Tution not self directed', '408 5th Street SE/Washington DC', '1750 S Chateau/Fresno, CA', '408 5th Street St SE/Washington, DC', '408 5th Street SE/Washington, DC', '408th 5th Street St SE/Washington, DC', '408 5th Street St SE/Washington DC', '434 Acres Hines Road/Troup County, GA', '44 lots Hamilton Lakes Subdiv/LaGrange', '565 Acres/Harris County, GA', '97 Acres/Grantville, GA', '44 Lots/LaGrange, GA', '165 Partners LLC', '498 Acres/Russell County, AL', '79 acres/Livingston County, MI', '18 acres/Livingston County', '18 acres/Livingston County, MI', '79 acres', '10 acres', '10 acres, Livingston County, MI/Livin', '4345 Lincoln Way/Massilon, OH', '2090 US 1 Partners', '800 Balboa Road/Rancho Viejo, TX', '2104 Lago Viejo South/Rancho Viejo, TX', '1011 Ennis Joslin/Corpus Christi, TX', '4601 Carmen Unit 2104/Rancho Viejo, TX', '649 McClendon St/Corpus Christi, TX', '1150 LLC', '1150 Hixson Pike, Chattanooga, TN', '90Day Euro Dollar (Currency Future)', '4708 Washburn/Fort Worth, TX', '4706 Washburn/Fort Worth, TX', '4704 Washburn/Fort Worth, TX', '4702 Washburn/Fort Worth, TX', '1616 Kenley/Forth Worth, TX', '4702,4704,4706, & 4708 Washburn & 16', '4702 Washburn/Fort Worth, Texas', '1616 Kenley/Fort Worth, Texas', '4702 Washburn/Ft Worth, TX', '401a Macomb County', '401K State of Michigan', '457 Macomb County', '5931 Priestly Dr LP', '3186 Vista Way LP', '2067 W Vista Way LP', '12400 Stowe Dr LP', '2585 Business Park LP', '2280 Faraday Ave LP', '212 Main Street LP', '1800 Carillon LP', '1200 Harbor Dr LP', '1800 Carillon Blvd LP', '1709 La Costa Meadows LP', '212 S Main Street LP', '12400 Stowe Drive LP', '212 Main LP', '1800 Carrillon LP', '529 Washington Mutual Inv Fund', '529 Putnam College Adr Fund', '3411 Woodley Road Property Description: Residence', '2010 McCaul Children Descendant Trusts', '2010 Linda McCaul Descendant Trust', '222 Building Joint Venture', \"2006 Mays Grandchildren's Trust\", '224 9th Street SE/Washington, DC', '30 Lots/Tra', '5731 90th Street/Lubbock, TX', '2013-2019 S Loop 289/Lubbock, TX', '17 Lots/Cooper Ridge', '5725 86th Street/Lubbock, TX', '2013-2019 S Loop 289/Lubbock TX', '1st Bank & Trust Accounts', '5717 88th Street/Lubbock, TX', '6 Lots, Previously 30, in the Trails at', '8 Lots in Cooper Ridge, Previously 17', '3 Lots in Cooper Ridge, Various Lots Bet', '3 Lots in Cooper Creek, Various Lots Bet', '14 Lots In Cooper Ridge', '18 Lots in Cooper Creek', '6 Lots in Cooper Ridge, Various Lots bet', '4731 90th Street/Lubbock, TX', '5 Lots In Cooper Ridge', '4 Lots/In The Trails', '1 Lot In Cooper Ridge', '1 Lot In Cooper Creek', '224 9th St SE, Washington, DC', '5731 90TH STREET, LUBBOCK, TEXaS, VaLUED aT CE', '5717 88th St/Lubbock, TX', '2013-2019 S Loop 289, Lubbock, TX', '10 Lots In Cooper Ridge Various Lot', '205 Acres Hwy 89/Milton, FL', '80 acres Molino Bridge Rd/Milton, FL', '7890 Parker Rd/Milton, FL', '7906 Parker Road/Milton, FL', '8012 Parker Rd/Milton, FL', '9.4 acres/6628 Roeville Road/Milton', '9.4 acres/6628 Roeville Road', '6 Acres-Mark Wolverton/Milton', '4 unimproved acres Parker Rd/Milton', '2.6 acres/Parker Road/Milton, CA', '2.5 acres unimproved/Highway 182', '2.5 acres unimproved/Highway 191', '80 acres/Santa Rosa County', '9.4 Acres/Luther Peaden/Milton', '8012 Parker Road/Milton, FL', '7953 Malone Road/Milton, FL', '2.96 Acres/Richard Jones/Milton, CA', '7989 Malone Rd 1 Acres/Milton', '2.4 Acres/Parker Rd Lot 35/Milton, CA', '7906 Parker Rd/Milton, FL', '33 acres Wooded', '2.96 acres - Keith Jones', '2.96 acres; Lot 35-Randall Calderon Paid', '7906 Parker Rd/Milton, FL - 2.96 acres', '7890 Parker Rd Milton FL/William Se', '7890 Parker Rd., Milton, FL', '7954 Parker Road/Milton, FL', '8012 Parker Rd., Milton, FL', '151 E Hathaway Avenue/Bronson, FL', '205 acres Timber Land', '60 acres/Farm Land', '40 acre/Farm Land', '33 Acres Timberland', '21.5 acres Wooded', '80 acres (unimproved)', '25 acres unimproved', '80 acres/Malino Bridge Road/Santa Rosa', '7973 Malone Road/Milton', '2.5 acres umimproved/Chumuckla', '2.5 acres unimproved/Hwy 191/Milton, FL', '7906 Parker Rd, Milton, FL, 2.96 acres, Keith Jone', '8012 Parker Rd., Milton, FL, Susan Hodges', '90 Acres/Westminster, SC', '63 Acres/Westminster, SC', '45 Acres/Westminster, SC', '31 Acres/Westminster, SC', '23 Acres/Westminster, SC', '22 acres/Westminster, SC', '10 acres/Westminster, SC', '31.31 Acres/Westminster, SC', '22 Acres/Westminster, SC', '63.5 Acres', '45.7 Acres', '23 Acres', '22 Acres', '1401 17th Street NW/Washington, DC', '57 West 70th Development LLC', '649 C Street SE Apt 209', '649 C Street SE/Apt 209', '1941 Cadillac', '305 E Capitol St SE/Rental Unit', '1305 S Atlantic Ave Unit 130', '2195 Via Tuscany/Winter Park FL', '15 3rd Street NE/Washington, DC', '305 E Capitol St SE/Washington, DC', '1305 S Atlantic Ave/Cocoa Beach, FL', '2195 Via Tuscany/Winter Park, FL', '305 E Capitol Street SE/Washington, DC', '305 E Capitol Street SE/Rental Unit', '4th Avenue/Rio Oso, CA', '19 Bock Avenue/Newark, NJ', '1stBank De/CD', '351 Virginia Street Howard PA Rental Property', '606 Walnut Street Howard PA Rental Property', '606 Walnut Street/Howard, PA', '107 Serge Street/Milesburg, PA', '403b Plan from Susquehanna Health', '606 Walnut St/Howard, PA', '1999 Trust JP Morgan Tax Free Money Market Premier', '1225 King Street Assoc', '911 King Street Assoc', '3X-10 Capital Partners (QP) LP', '3Steel Partners II LP', '3Hound Partners 3c7 LP', '3Hound Partners 3(c)7 LP Investment fun', '3RNR III', '911 King Street Assoc Investme', '1225 King Street Assoc LLC', '1-800-Pack-Rat', '529 Account', '3D FX Interactive', '1st Mid-Illinois Bank & Trust Certificat', '1 acre of undeveloped land/Monroe, LA', '1.048 Acres Undeveloped Land', '38296 York Stock - book', '38296 book', '382% Yohan-book', '1994 Guthrie Family Irrevocable Trust', '401k Retirement Plan', '529 (3) C College Plan T Row Price Balan', '529 (3) C College Plan Northern Internat', '529 (3) C College Plan Northern Equity I', '529 (3) College Plan Neuberger Berman In', '529 (3) C College Plan Northern Mid-Cop', '529 (3) C College Plan Neuberger Berman', '529 (3) C College Plan Northern Small Co', '2015 Guthrie Family Irrevocable Trust', '131 Main Street', '10 Acres/Hartland, VT', '131 Main St/Burlington, VT', '131 Main/Burlington, VT', '131 Main Street/Burlington, VT', '10 Acres Hartland', '1108 Mamers-Summerville Rd/Lillington NC', '1108 Summerville-Mamers Road/Lillington, NC', '914 Shore Drive, Newport News, VA 23607', '243 Padgetts Ordinary, Kingsmill Condo', '7901 Atlantic Ave/Ocean City, MD', '3109 Waialae Ave, Honolulu, HI 96816', '3109 Waialae Avenue LLC', '1122 Elm Street/Honolulu, HI', '1936 Trust Joseph P Kennedy', '2319 Woodmont Blvd/Nashville, TN', '2317B Woodmont Blvd/Nashville TN', '2319 Woodmont Blvd/Nashville TN', '2319 Woodmont Blvd', '30 Acres', '4637 Ivanhoe Dr/Ft Worth, TX', '2.5 Acres', '5 Acres, Note Receivable', '30 Acres 2000 Blackjack, Aubrey, TX', '26 Acres Glenwood, AR', '74.845 Acres/Lamar County TX', '5 Acres Note Receivable/Talkeetna, AK', '2.5 Acres/Harbor South, AR', '1 Acre/Denton, TX', '4637 Ivanhoe/Ft Worth, TX', '25 Acres/Harbour South, AR', '1831 Crow Street/Denton, TX', '5 Acres/Talkeetna, AK', '4 Acres Timber Creek/Lewisville', '2.5 Acres Marlin Sc Ak', '2509 Scriptuee LP', '4 Acres Timber Creek/Lewisville, TX', '2.5 Acres/Harbor South, AK', '30 Acres 2000 Blackjack', '26 Acres', '5 Acres/Note Receivable', '1 Acre 1831 Crow St/Denton, TX', '74.845 Acres/Lamar County, TX', '4113-15 Arbor Vitae/San Diego, CA', '4113-15 Arbor Vitae, San Diego, CA', '250 West 57th St Assoc', '250 West 57th Street Assoc', \"1/3 of mother's estate\", '3390 Ben Hur Road/Mariposa, CA', '21 Settlers Way/Salem, MA', '1025 First St SE 414/Washington, DC', '21 Settlers Way Salem, MA', '1025 First St SE/Washington, DC', '4018 Charleston (lot) Houston, TX 77021', '1414 Wheeler/Houston, TX', '1914 Wheeler Houston, TX', '2182 Morris Ave/Union, NJ', '4 Your Soul Inc', '162 acres farm land/Linn County, KS', '33 Hollywood Avenue/Buffalo, NY', '1250 4th Street SW/Washington, DC', '2022 Enrollment Class Portfolio', '301 174th Street/Sunny Isles, FL', '53880 Pine Grove Lapine', '1/2 ownership', '53880 Pine Grove Rd/Lapine, OR', '53880 Pine Grove/Lapine Or', '1/2 Oregon', '36 Hempleman Dr/Akaroa, NZ', '53880 Pine Grove/Lapine OR', '516 Multi-tenant Warehouse/Littlefield D', '20th Century Gift Trust Mutual Fund', '530 First Street SE/Washington, DC', '371 W Harding/San Antonio TX', '371 W Harding/San Antonio, TX', '530 1st Street SE/Washington, DC', '830 1st Street SE/Washington, DC', '1930 Lakeshore Drive/Michigan City, IN', '325 Main Street HF Inc', '23 acres farmland/Johnson County, IN', '45 acres undeveloped land/Flat Creek, KY', '23.7 acres/Johnson County, IN', '2177-2181 Galaxy/Laurel County, KY', '2176-2180 Galaxy/Laurel County, KY', '11.84 Acres/Johnson County, IN', '3292 Mt Vernon Ave/Alexandria, VA', '7908 Cincinnati-Dayton Road/Ohio', '529 ESA Learning Quest Total Growth', '529 ESA Learning Quest 500 Index', '5500 SW 30th Avenue/Marion County, FL', '160 Trenton Boulevard/Tamuning, Guam', '5747 NE 61st Street/Marion County, FL', '172 Central State/Somerville, MA', '17.9 acres unimp land/Frelinghuysen, NJ', '17 acres of Unimproved land', '235.8 Acres of Unimproved Land', '17.923 Acres Unimproved Land/Frelinghuysen Twp', '235.8 Acres Of Unimproved land', '17.923 Acres unimproved land', '17.923 Acres unimproved land Frelinghuysen Twp, NJ', '1/5 interest in Rattlesnake Mountain', '15th undivided interest in 235.8 acres', '342 S Texas Ave/Mercedes, TX', '1404 S Illinois Street, Rent Residence', '1519 Washington/Laredo, TX', '1520 Victoria/Laredo, TX', '4700 Marcella/Laredo, TX', '602 Reynolds/Laredo, TX', '401k State of Texas State Comptroller', '604 Reynolds/Laredo, TX', '4902 Marcella Ave/Laredo, TX', '401k State of Texas Comptroller', '602 Reynolds (Rear)/St Laredo, TX', '602 Reynolds (Middle)/St Laredo, TX', '602 Reynolds Rear St/Laredo, TX', '5S LLC General Partner of Shuster Family Limited P', '5S LLC', '5S LLC/General Partner Shuster Family', '361 Managed Futures Strat', '401K/ Harbor Internationl Fund', '401K /Vanguard Institutional Index', '401K TRP Midcap', '401K March & McLennan Stock Fund', '401K VanGuard Prime Cap', '401K Summit Cash Reserve', '401K Fidelity Low Price Stock Fund', '401K Equity Index Trust', '401K S&P Midcap Index Fund', '401K Target Retirement 2035 Fund', '401K US Bond Index fund', '401K Stable Value Option', '401K Intl Developed Market Index Fund', '401K/Vanguard Institutional Index', '401K Retirement Fund 2030', '55 G Street/South Boston, MA', '3 Jason Terrace/South Boston, MA', '55 G Street', '3 Jason Terrace, South Boston, MA', '158 Acres/Oglethorpe County, GA', '279 Meigs Street/Athens, GA', '255 Milledge Heights/Athens, GA', '205 C Street SE/Washington, DC', '706 East 49th Street/Savannah, GA', '158 Acres', '158 Acres/Oglethorpe Co GA', '990 Lavender Road/Athens, GA', '1729 S Lumpkin Street/Athens, GA', '245 Milledge Heights/Athens GA', '285 South Pope Street/Athens, GA', '1st Trust Nanotechnology', '401k', '401k Account', '13.231 Acres/Weatherford,TX', '13.231 Acres Weatherford, Parker Co', '2414 W Augusta Dr/Peoria', '2414 W Augusta Drive/Peoria', '550 Huyler Street/South Hackensack, NJ', '125 Louis Street/South Hackensack, NJ', '80 Wesley Street/South Hackensack, NJ', '4E Forest Avenue/Englewood, NJ', '425 Victoria Terrace/Ridgefield, NJ', '40 Ruta Court/South Hackensack, NJ', '30 Ruta Court/South Hackensack, NJ', '250 North Street/Teterboro, NJ', '17793 Southwick Way/Boca Raton, FL', '175 Louis Street/Hackensack, NJ', '150 Louis Street/South Hackensack, NJ', '600 Hollister Road/Teterboro, NJ', '45 Ruta Court/South Hackensack, NJ', '538-540 Huyler St/South Hackensack, NJ', '80 Wesley Street RNN Llc', '250 North Street/Englewood, NJ', '175 Louis Street Sustar LLC', '538-540 Huyler Street/South Hackensack', '550 Huyler St/South Hackensack, NJ', '250 North Street/Teterboro NJ', '175 Louis Street/Hackensack NJ', '1065 Frenchtown Road/East Greenwich, RI', '83 Elmdale Ave/Warwick, RI', '65 Chesterfield/Warwick, RI', '340 Shawmut Ave/Warwick, RI', '25 Scott Avenue/Warwick, RI', '170 Shannon Drive/Warwick, RI', '17 Scott Avenue/Warwick, RI', '15 Jefferson Street/Warwick, RI', '14901 Park Lane Drive/Ft Meyers, FL', '1300 13th Street NW/Washington, DC', '9 Jefferson Street/Warwick, RI', '65 Chesterfield St/Warwick, RI', '340 Shawmut Avenue/Warwick, RI', '65 Chesterfield Street/Warwick RI', '340 Shawmut Avenue/ Warwick, RI', '17 Scott Avenue/Warwick RI', '14901 Park Lane Drive #101/Ft Meyers, FL', '9 Jefferson St/Warwick, Ri', '65 Chesterfield St/Warwick RI', '340 Shawmut', '9 Jefferson', '25 Scott', '17 Scott', '15 Jefferson', '14901 Park Lane Dr', '25 Scott/Warwick, RI', '15 Jefferson St/Warwick, RI', '14901 Park Lane Dr/Ft Meyers, FL', '9 Jefferson St/Warwick, RI', '1-3 Years to College Portfolio', '1624 Via Arriba/Palos Verdes Home', '2105 N Townek SA/Personal Home', '1st Century Bancshares', '50% 3/5 interest in 21.06 Acres Description: 13/4/', '21.06 Acres', '21st Century Insurance Group', '13/4/3 Parcel 200', '50% 3/5 interest in 21.06 Acres', '2/5 Interest in 21.06 Acres', '2/5 Interest in 21.06 Acre', '107 Storrs Street LLC', '903 Central Avenue', '903 Central Ave Assoc', '140 Washington Street', '228 Route 108', '10 Railroad Avenue', '4 Railroad Ave', '903 Central Ave/Dover NH', '6-8 Atkinson Road', '115 W Main St/Conway NH', '107 Storrs Street Concord, NH', '174 Farmington Rd LLC', '107 Storrs Street/Concord, NH', '140 Washington Street/Dover, NH', '1791 Erringer Road/Simi Valley, CA', '1491 Duarte Circle/Simi Valley, CA', '1351 Cherry/Simi Valley, CA', '1791 Erringer Road/Simi Valley CA', '12 Via Santanella/Rancho Mirage, CA', '1791 Erringer Rd/Simi Valley, CA', '2422 Bluewater Highway/Surfside, TX', '9 BT Archer/Oyster Creek, TX', '58 Flag Lake Plaza/Lake Jackson TX', '58 Flag Lake Plaza/LJ, TX', '58 Flag Lake Plaza/Lake Jackson, TX', '1/2 life interest in surface & mineral', '1211 Summit Rd/McLean, VA', '315 Cleveland Court/San Antonio, TX', '12 Stoneholm/Boston, MA', '1/3 interest/Town of Barstable, MA', '6800 Fleetwood Rd Unit 513/McLean, VA', '425 Soledad Ltd', '340 Rio Drive/New Braunfels, TX', '315 Cleveland Ct/San Antonio, TX', '1/3 Interest in 19 Warren Street/Town of Barnstab', '19 Warren Street/Town of Barnstab', '403(B)(9) Retirement Savings Plan', '19 Warren Street/Barnstable, MA', '19 Warren St/Barnstable, MA', '425 Soledad/San Antonio, TX', '19 Warren Street', '1/2 Life Use Interest', '1/3 interest', '19 Warren St/Barnstable', '6734 Spicewood Springs/Travis County, TX', '3800 Kennelwood/Austin, TX', '1200 Baylor 401/Austin, TX', '1157 San Bernard St/Austin, TX', \"8 acres Lohman's Ford/Travis County, TX\", '1200 Baylor/Austin, TX', '1157 San Bernard St/Austin TX', '220 North Mesa/El Paso, Texas', '711 N Piedras/El Paso, TX', '21.12 Acres/Northern Dona Ana City, NM', '6734 Spicewood Springs', '3800 Kennelwood', '1200 Baylor #401', '1157 San Bernard St', \"8.16 acres/Lohman's Ford Crossing Rd, TX\", '80 acres & home/Onaway, MI', '4317 Buckeystown Pike/Frederick, MD', '3518 Mountain Rd/S Knoxville, MD', '122 Silopanna/Annapolis, MD', '4219 Lime Kiln Rd/Frederick, MD', '3517 Mountain Rd/S Knoxville, MD', '256 Knoxville Rd/Knoxville, MD', '112 Spruce Knob Lake Forest Service Rd', '2 lots/228 Knoxville Rd', '1115 Providence Court/Frederick, MD', '2 Spruce Knob Lake Forrest Service Rd Po', '153 Acres & 2 houses/Pocahontas Cnty, WY', '3518 Mountain Rd S/Knoxville, MD', '3517 Mountain Rd S/Knoxville, MD', '112 Spruce Knob Lake Service Rd/Pocahon', '2 lots', '1115 Providence Ct/Frederick, MD', '2 lots/228 Knoxville Rd/Kn', '4 Parcels/382 Acre Vacant Land/Cucamonga', '4 parcels/382 acres/Rancho Cucamonga, CA', '4 Parcels/382 Acr Vacant Land/Cucamonga', '201 021 22, 201 032 01, 200 051 42 & 200', '4 of 4 Parcels that make up 385 Acre Project calle', '1 of the 3 Parcels that makes up the 385 Acres of', '2014 Madison Avenue/Baltimore, MD', '5809 Leithwalk/Baltimore, MD', '1830 11th St NW Ste 1/Washington, DC', '2225 St Paul Street/Baltimore, MD', '1830 11th St NW #1/Washington, DC', '2014 Madison Ave/Baltimore MD', '132 Randolph Place NW/Washington, DC', '2221 St Paul St/Baltimore, MD', '2014 Madison Ave/Baltimore, MD', '132 Randolph Place, NW', '2221 Street Paul Street/Baltimore, MD', '2014 Madison Ave, Baltimore, MD 21217', '1830-11th St NW/Washington, DC', '3902 Rifle Creek', '1737 Ave D', '3902 Rifle Creek Trail/Billings, MT', '100% Treasury Money Market Fund', '401K/ Wells Fargo ESOP Fund', '457 Deferred Compensation Plan', '401a Cash Match Plan', '401A Cash Match Plan Commonwealth of Virginia 4', '2393 SW Park Place/Portland, OR', '3600 LLC', '21e', '4 Undeveloped lots/Victoria, TX', '557.2 acres of ranch land/Victoria, TX', '12.5 acres land/Victoria, TX', '3.91 Acres of Land & Small Building', '3600 Management LLC', '36 acres land/Victoria, TX', '12.5 acres land - Assessed value for tax', '557.2 acres of ranch land northeast', '4 acres land/small building/Victoria, TX', '529 Plan The Investment Co of America Fund', '401k Utah State Retirement Systems', '1/4 Interest in farm', '58 acres/New Site, MS', '52 Acres West Hills/Booneville MS', '4 Acres/Pickwick Lake Tishomingo County', '3.73 Acres & commercial building/Boonev', '2 lots Pickwick Lake/Tishomingo County', '154 Acres Timberland/Alcorn County, MS', '149 Acres Blackland Timberland', '161 Acres Timberland/Tishomingo, MS', '4 lots/JP Coleman State Park Tishoming', '30 Acres Pine Timberland', '2.41 Acres Hwy 145 S/Booneville MS', '2 residential lots South 2nd St/Boonevil', '2 Acres multi-family zoned property', '52 Acres/West Hills', '4 Acres', '3.73 Acres/Booneville, MS', '2 lots/Tishomingo County, MS', '149 Acres Timberland', '58 Acres', '4 lots/Tishomingo County, MS', '304 West Church St/Booneville, MS', '2.41 Acres/Booneville, MS', '52 West Hills/Booneville', '4 Acres, Pickwick Lake', '3 Acres & Commercial Bldg', '2 Lots Pickwick Lake', '149 Acres Blackland', '161 Acres/Tishomingo County', '304 W Church Street', '241 Acres', '1/2 interest', '798 9th Ave/New Smyrna Beach, FL', '50 Oak Tree/NSB, FL', '3640 S Atl Ave/NSB, FL', '17 Randolph/Lexington, VA', '1400 Edison St/Arlington, VA', '1302 257 MBW/New Smyrna Beach, FL', '13 Whitmore/Lexington, VA', '50 Oak Tr/NSB, FL', '3640 S Atl Ave/NSB FL 32169', '198 9th Ave/NSB, FL', '1400 Edison/Arlington, VA', '50 Oak Tree/New Smyrna Beach, FL', '710 North Gloster/Tupelo, MS', '1001 Valley Road/Tupelo, MS', '511-1 Bashford Lane/Alexandria, VA', '1 Bashford Lane/Alexandria, VA', '511 Bashford Lane/Alexandria, VA', '511-3 Bashford Lane/Alexandria, VA', '1884 Family Partnership', '1405 Lathern Road/Greensboro, NC', '1884 LLC (Family Partnership) BOA Tax Ex', '1405 Latham Road/Greensboro, NC', '21st Cent Fox', '5th 3rd Bank Money Market', '5th 3rd Savings Bank Accounts', '1108 N Hearthstone/Boise, ID', '1108 N Hearthstone/Boise Vacant Lot', '1094 Hearthstone Drive/Boise, ID', '1225 Massachusetts Ave SE/Washington, DC', '310 E Capital Street NW/Washington, DC', '50% Interest 4 Acres/Rockwall, TX', '50% Interest 152 Acres/Hunt County, TX', '50% Interest 4 Acres 1500 Sunset Hill, TX', '50% Interest 152 Acre Heart County, TX - Farm', '4 Acres, 1500 Sunset Hill/Rockwall, TX', '50% Interest 4 Acres', '50% Interest 152 Acre Farm', '826 L Street NE/Washington, DC', '1959 MG Collector Car', '2 Lots/Shallotte, NC', '33 Myrtle Street/Boston, MA', '25 acres unimproved land/Berlin Township', '45 acres of unimproved land/Pelham, MA', '27 acres of unimproved land/Pelham, MA', '27 acres of Unimproved land', '25 acres of unimproved land/Beachlake', '120 acres of unimproved land', '45 acres of Unimproved land', '120 acres unimproved land/Plainfield, MA', '3436 Chelton Road/Shaker Heights, Ohio', '3646 Chelton Road/Shaker Heights, OH', '305 Conway Hill Rd/St Louis', '13380 Pointe Conway Dr/St Louis', '508 Seward Square Apartment/Wash, DC', '82 Salmon Beach/Tacoma, WA', '78 acre farm/Henry County, VA', '78 acre farm', '316 G Street, SE home', '326 West 4620/North Provo, UT', '3352 N Alpine Vista Way/Lehi, UT', '326 West 4620/North, Provo, UT', '529 Savings Plans Noa Abramson', '529 Savings Plans Maya Abramson', '529 Savings Plans Ari Abramson', '1 Bond', '403B ING TRowe Price Growth Equity Port', '403B Hartford Dividend Growth Fund', '20-year Contract-Sale/2 Acre Farmstead', '20 year Contract-Sale of 2 Acre Farmstea', '20-year Contract Sale of 2 acre Farm', '1st National Bank of the South/CD', '730 Alhambra/Sacramento, CA', '4305 Auburn Blvd/Sacramento, CA', '620 Stonegate Drive S/San Francisco, CA', '33 Park Road/Burlingame, CA', '78 acres/Tyrone Township, MI', '18 acres/Tyrone Township, MI', '78 acres', '18 acres', '78 Acres/Michigan', '18 Acres/Michigan', '18 acres/Tyrone County, MI', '78 acres/Tyrone Townshi', '18 Acres/Tyrone Township, MI', '111 Main Street/East Millinocket, ME', '6.5 acres of land/Midway, ME', '109 Main Street/East Millinocket, ME', '6.5 Acres of Land/Medway, ME', '6.5 Acres of Land', '6.5 acres of land, Medway, ME', '500 Index Fund', '1/3 Remainder Interest in Excepted Trust', '4051 Broussard/Baton Rouge, LA', '8P PLC', '5545 Riverbend/Baton Rouge LA', '401K Ek Co SIP', '401K Eastman Kodak SIP', '106 Acres land', '1280 West Peachtree/Atlanta, GA', '106 Acres Craig Rd', '555-557 Craig Rd', '455 Craig Road', '1280 West Peachtree St', '106 Acres/Craig Rd', '106 Acres/Craig Rd.', '3.15 Acre Lot/Newbury, NH', '401K Retirement Account', '529 Florida Prepaid College Plan', '401 Retirement Account', '2469 acres timberland/Wilcox County, AL', '76 acres timberland/Wilcox County, AL', '2-11 acre lots/Baldwin County, AL', '2,469 acres Timberland/Wilcox County, AL', '76 Acres Timberland/Wilcox County, AL', '2-11 acre lots', '5576 Zeiner Court/Atwater, CA', '9716 Timbermill Ct/Montgomery, AL', '307 Whetstone Dr/Montgomery, AL', '141 Cox Street/Auburn, AL', '626 Ann St/Montgomery, AL', '1236 SR 28/Milford, OH', '1232 SR 28 /Milford, OH', '1232 Sr 28/Milford, OH', '1236 Sr 28/Milford, OH', '30Yr Treas ETF Short', '16558 NE 26th Avenue/N Miami Beach, FL', '52 Mayfair/Riverside County, CA', '127 D Street SE/Washington, DC', '127 D St, SE/Washington, DC', '800 acres timber, crop & pasture land', '233 Kings Mountain Street/York, SC', '19 N Congress Street/York, SC', '800 acres timber hay pasture & cro', '800 acres/Farmland-Timber-Fenced pasture', '14 George Street/Dewey Beach, DE', '4566 Parkside Drive/Kiawah Island, SC', '224A Justice Court/Washington, DC', '1201 Venture Investments LP', '452 Fee Simple Interest', '15% interest in Legal Press, LLC', '10% interest in Trott-ATA LLC', '18 acres of land/Elgin, AZ', '18 acres of land', '2 Acres Land', '2 Acres/St Simons Island, GA', '275 Calle Scaramta Brownsville, TX', '14 Greenway Plaza # 24th Houston Condo', '25th Cottage', '403B TIAA Tradtional', '529 College Savings Plan of Maryland', '529 Maryland Prepaid College Trust', '529 Plans Maryland Prepaid College Svgs', '457 MD State Investment Contract Pool', '529 Portfolio for College', '529 College Savings Plan of MD, Portfol', '829 Towne Street Duplex Apt', '2 Peachtree Street', '196 Poplar Street/Rental House', \"1313 Charlotte's Road Mobile Home & Lot under in\", '129 Pine Street Rent/Mortgage Payments', '104 Hawkins Circle/Joanna, SC', '130 Pine Street Rental Lot', '5 acres Commercial Property, Fleming street', '25050 Us Hwy 76', '305 W main', '829 Towne street', '2 Peachtree street', '196 Poplar street', \"1313 Charlotte's Road\", '129 Pine street', '108 E Public square', '104 Hawkins Circle', '2 acres on Henderson Church Rd', '130 Pine street', '829 Towne Street/Greenwood, SC', '308 Cypress St/Clinton, SC', '2 Peachtree St/Clinton, SC', '196 Poplar St/Clinton, SC', '1313 Charlottes Road/Clinton, SC', '129 Pine Street/Clinton, SC', '130 Pine Street/Clinton, SC', '2 Peachtree Street/Clinton, SC', '2 Acres', '1313 Charottes Road', '308 Cypress Street/Clinton, SC 29325', '196 Poplar Street/Clinton, SC', \"1313 Charlotte's Road/Clinton, SC\", '2 acres (1/3 Interest Land Contract)', '5 acres Commercial Property/Fleming street', '5 MC Commercial Prof', '25050 US Hwy 76 Commercial DWLEX', '630 Elizabeth St/Clinton, SC', '13769 Tr 473/Lakeville, OH', '89 Crinfield Dr/Nelsonville, OH', '4930 Cty Rd 51/Big Prairie, OH', '322 Rocky Road', '322 Rocky Road/Hazleton, PA', '1110 Balweg Lane/Ft Myers, FL', '11110 Ballweg Lane/Fort Myers, FL', '322 Rocky Rd/Hazleton, PA', '3D Systems', '1110 Balwag Lane', '322 Rocky Road/Hazleton PA', '4-Plexes', '12-14 Bright Start College Savings Plan', '401k account', '4646 N Beacon LLC', '4601 V St/Sacramento, CA', '2717 P Street/Sacramento, CA', '6749 Ashington Way/Elk Grove, Ca', '6337 Rampart/Carmichael, CA', '6211 Broadway/Sacramento, CA', '4640 U Street/Sacramento, CA', '2642 43rd St/Sacramento, CA', '2536 39th St/Sacramento, CA', '2231 36th St/Sacramento, CA', '2101 39th St/Sacramento, CA', '1524 32nd St/Sacramento, CA', '6337 Rampart/Sacramento, CA', '4601 V Street/Sacramento, CA', '2642 43rd Street/Sacramento, CA', '2536 39th Street/Sacramento, CA', '2231 36th Street/Sacramento, CA', '2101 39th Street/Sacramento, CA', '1524 32nd Street/Sacramento, CA', '6211 Broadway, Sacramento, CA', '4640 O St/Sac CA', '4640 U S/Sacramento, CA', '2231 36th St/Sacramento CA', '6749 Ashington Way/ Elle Gac, CA', '1-800-Flowers.com', '1-800 FLOWERS.COM', '515 Great Circle Rd, Nashville, TN 37228', '501 Great Circle Rd, Nashville, TN 37228', '365 Great Circle Road/Nashville, TN 372', '555 Church Street #2110, Nashville, TN 37219', '545 Great Circle Rd, Nashville, TN 37219', '345 Hill Avenue, Nashville, TN 37210', '336 Hill Avenue, Nashvill, TN 37210', '100 Athens Way, Nashville, TN 37228', '540 Mainstream, Nashville, TN 37226', '521 Great Circle Rd, Nashville, TN 37228', '341 Hill Avenue Nashville, TN 37210', '10515 Front Beach Drive #3-1106', '10515 Front Beach Road/Panama City, FL', '515 Great Circle Road/Nashville, TN', '501 Great Circle Road/Nashville, TN', '365 Great Circle Road/ Nashville, TN 372', '555 Church St #2110/Nashville, TN', '540 Mainstream/Nashville, TN', '521 Great Circle Road/Nashville, TN', '345 Hill Avenue/Nashville, TN', '335 Hill Avenue/Nashville, TN', '10515 Front Bason Road #3-1106 Panama City Florida', '11580 Longview Ave/Atwater, CA', '5307 Bighorn/Truckee, CA', '7th St Rental Property', '17th Avenue Rental Property', '3F Properties Loan', '27 Oakmont Drive/Tifton, GA', '621 McLendon Street/Ashburn, GA', '1/2 interest in condo B-Branch 10', '3F Properties Loan Albany GA', '5377 Morgan Oak', '3221 Wheatridge', '5377 Morgan Oak Residential rent property', '3221 Wheatridge Residential rental property', '210 11th St. SE/Washington, DC', '6741 Hwy 59/Gulf Shores, AL', '3-D Systems', '681 S Richmond Ave', '92nd Street', '11011 N 92nd St #1057/Scottsdale, AZ', '10 acres in Kern County', '10 Acres/Kern County', '116 Jackson Highlands/Jackson, NH', '1/3 interest with Siblings', '116 Jackson High - Jackson, NH', '1 Local Time Shore Sewatch Int Club', '13131 NW 13th Street', '1386 NW 38th Street', '401(a) Bencor Transamerica Financial Life Insuranc', '13131 NW 26th Court', '1015 Broad Street LLC', '1242-1244 Borad Street Rental Propert', '1015 Broad Street LLC Commercial Rental Property 1', '2015 Portfolio', '2012 Portfolio', '3400 Old Winter Garden Road/ Orlando, FL', '3400 Old Winter Garden Road', '3400 Old Winter Garden Rd/Orlando, FL', '3400 Old Winter Garden Rd/Orlando', '401(k) investments Vanguard LT Inv Grade', '3331 Valley Dr/Alexandria, VA', '1570 NW Ferris Ave/Lawton, OK', '3331 Valley Drive/Alexandria, VA', '1510 NW Ferris Avenue/Lawton, OK', '529 & College Prepaid Plans DC1 Florida Prepaid', '529 College Savings Plan DC2 NH Portfolio 2030', '529 & College Prepaid Plans DC1 NH Portfolio 202', '10 Briarwood Lane/Bourne, MA', '271 Canton St/Stoughton, MA', '271 Canton St/Stougton MA', '111 Bay Rd/Sharon, MA', '10 Briarwood Lane/Bourne, Ma', '271 Canton Steet MA', '3159 / Equity Index Fund', '1513 QRW LLC', '519 Marvin Road Property', '1513 QRW LLC/Rental Property', '2 Mineral Acres/Williams County, ND', '2 Mineral Acres', '2 Mineral Acres in Williams County', '229-243 S High Street', '229-241 S High St/Columbus, OH', '1620 E Broad St/Columbus OH', '493 Parkwood Ave/Columbus, OH', '4226 Edison/Dayton, OH', '229-241 S High St/Col, OH', '1620 E Broad St/Col, OH', '493 Parkwood Av/Col, OH', '803 Wager Street', '493 Parkwood Avenue', '46 South Ridge Rd/Chilmark, MA', '387 Atwell Ave/Providence, RI', '1297 Caraboa Ln/Port Charlotte, FL', '46 South Ridge Rd/ Chilmark, MA', '387 Atwells Ave/Providence, RI', '23668 Lasher', '441 William Court Rental Real Estate', '201 LLC', '509 King Street Residence', '84M Pre-2010', '307 Sea Island Parkway', '301 Sea Island Parkway', '84M Post 2009', '311B Sea Island Parkway', '2304 Pine Ct #75', '2304 Pine #10', '217 Rivers Street', '1813 Lovejoy Street', '18 Tailwind Trail', '14 Tailwind Trail', '82 Barnaby Bluff, Lot 160', '509 King Street apartment', '311a Sea Island Parkway', '311 Middle Street', '273 Keans Neck', '8.5 ac Keans Neck Road', '450 N 4th Street', '450 N 4th Street/Highlands, NC', '29700 S Hartzler Road', '30218 S Pleasant Rdg Rd', \"29515 S Hartzler Rd/H'ville MO\", \"28004 S West Outer Rd/H'ville MO\", '26005 E 283rd St/Harrisonville, MO', '29615 S Hartzler Road', '401k Hilliard Lyons Money Market', '401K/ JPMorgan Emerging Mkts Fund', '401K/ Ivy Asset Strategy Fund', '401K/ Hillard Lyons Money', '401K/ Growth Fund Of America', '401K/ Fundamental Invest', '401K/ Franklin High Fund', '401k American Funds', '401K /BlackRock Equity Dividend Fund', '283 E Hill Road/Jeffersonville, NY', '1441 Lincoln Road/Miami Beach, FL', '1441 Lincoln Road, #202/Miami Beach, FL', '1214 10th Ave/Neptune, NJ', '6464 McCarry Lake Rd/Iron River WI', '1030 Highway 98 East/Destin, FL', '861 Castle Heights/Bowling Green, KY', '4 Year University Tuition PlanInstitution: Florida', '4 Year University Tuition Plan Florida Prepaid', '2769 Hwy 145 Rental House', '9 Lots', '37455 3rd St Bay Vista, DE', '37455 3rd Street', '8400 Plaza Assoc', '800 Plaza Assoc', '221 Crestview Rd/Manchester, NH', '172 Youville St/Manchester, NH', '221 Crestview Rd Manch NH', '172 Youville/Manchester NH', '172 Youville Rd/Manchester NH', '603 Advisors - Consulting', '3308 Cleveland Heights Blvd', '3308 Cleveland Heights/Lakeland, FL', '500 Main/Williams Ltd', '500 Main/Williams GP LLC', '599 N Church St/Moorsetown, NJ', '186 Upland Ave/Ewing, NJ', '185 Claflin Ave/Ewing, NJ', '599 N Church St', '401k Liberty Mutual Retirement Incentive', '403B City National Bank Fidelity Advisor', '1st American Treasury', '415 W 2nd/Whitefish MT', '409 W 2nd/Whitefish MT', '410 W 3rd/Whitefish MT', '1201 2nd/Kalispell MT', '550354 Cresent Hardy IRA IRA - SEI Trust', '551270 Cresent Hardy ROTH IRA Roth IRA - SEI Trust', '1st Eagle Mutual Fund', '1400 College Avenue Commercial Rental', '4809 Eastview Dr/New Orleans, LA', '78 acres of land/Jeff Davis, MS', '50% of 78 Acres of land in Jeff Davis, MS', '78 acres of land', '403b Mainstay VP Moderate Allocation Fund', '401K & IRA Principal Financial Group', '401K & IRA Pioneer Core Equity Fund', '401K & IRA Morgan Stanley Smith Barney IRA', '105 S Morris Street Oxford, MD', '211-18 34 Avenue', '1000 New Jersey Avenue SE', '211-18 34 Avenue Property', '36-02 212 Street', '41-40 Union Street Property', '147-14 34th Avenue Realty', '36-02 212 St/Bayside, NY', '211-18 34th Ave/Bayside NY', '41-40 Union St, #14P/Flushing, NY', '10% Wealth Management LLC', '147 34th Ave Realty LLC', '36-02 212 Street/Bayside, NY', '211-18 34 Avenue/Bayside, NY', '41-40 Union Street #14P/Flushing, NY', '92-414 Farrington Highway/Kapolei, HI', '85-910 Bayview St/Waianae, HI', '60 Month 5% ints note', '60 Month El Note', '60 Month 5% Note', '2007 Bonds Public Impt Ref Bonds', '2007 Bds Public Impt Ref Bonds', '8point3 Energy Partners LP', '719 E 11th St/Ocean City, NJ', '607 Avon Road/Philadelphia, PA', '2250 Pileggi Rd/Washington PA', '9524 N Myrtlewood/Philadelphia, PA', '75 E Phil Eilen/Philadelphia, PA', '709 Prince St/Harrisburg, PA', '6309 Lambert St/Philadelphia, PA', '6254 Beechwood St/Philadelphia, PA', '5631 Crowson St/Philadelphia, PA', '4609 Fernher St/Philadelphia, PA', '4506 N 15th St/Philadelphia, PA', '3159 N 28 St/Philadelphia, PA', '256 Montana St/Philadelphia, PA', '1731 Colonial St/Philadelphia, PA', '4552 Mole St/Philadelphia, PA', '602 Avon Rd', '4609 Fernhill Rd', '719 E 11th St', '2250 Pileggi Rd', '75 E Phil Ellena St', '709 Prince St', '256 Montana St', '1731 W Colonial St', '5631 Crowson St', '4552 mole St', '4506 15th St', '3159 28th St', '1524 N Myrtlewood St', '10 N Main St/Chatham, VA', '1st Citizens Checking Account', '10 North Main Street/Chatham, VA', '10 N Maive', '1st Citizens Checking', '414 Frontage Road', '2711 Douglas Ave', '20% of the outstanding units of Foundtainhead Part', '414 Frontage Road/Northfield, IL', '2711 Douglas Avenue/Racine, Wisconsin', '1403-1409 Ashley River Road/Charleston', '118 Two Hitch Road/Summerville, SC', '361 Managed Futures Strategy Fund', '4455 Lynhaven Ave/Louisville, OH', '4320 Lesh Avenue/Canton, OH', '30th Street/Canton, OH', '744 Broad Street/Wadsworth, OH', '744 Broad Street/Wadsworth, Ohio', '515 Properties LLC', '515 Properties LLC Washington, DC residential prop', '4455 Lynhaven Ave, Louisville, OH', '4320 Lash Ave, Canton, OH', '30th St, Canton, OH', '150 Smokerise Dr, Wadsworth OH', '744 Broad St, Wadsworth, OH', '4466 Lynhaven Avenue/Louisville, OH', '1997 Family Trust Bank of America', '1997 Family Trust Loan/John K Delaney', '1296 Hwy 68/Salem, MO', '45943 Hwy 72/Salem, MO', '200 Whlhut Hill/Salem, MO', '1414 Millwood dr/Brenson, MO', '906 E 1st/Salem, MO', '803 S Sligo/Salem, MO', '702 Ethird/Salem, MO', '402 CR 4180/Salem, MO', '401 E Roosevelt/Salem, MO', '304 E Center/Salem, MO', '301 S Jackson/Salem, MO', '220 N Main/Salem, MO', '204 S Jackson/Salem, MO', '200 S Henderson/Salem, MO', '17680 Bobwhite Rd/Crolker, MO', '1510 S Gertrle DE/Salem, MO', '15 CR 4180/Salem, MO', '1304 E 1st/Salem, MO', '1119 CR 5090/Salem, MO', '1107 W Coffman/Salem, MO', '103 E 10th/Salem, MO', '102 S Henderson/Salem, MO', '1003 S Hickory/Salem, MO', '604 S Jackson/Salem, MO', '10 N Iron/Salem, MO', '164 Cr 4190', '112 West 34th Street Assoc', '1185 Swap Portfolio II LP', '1400 Broadway Assoc', '3Ms Partners', '3 Ms Partners Malkin Holdings/Blue Ridge LP', '3G Special Situations Fund III', '3G Special Situations Fund II', '1185 Swap Portfolio LP', '2006 Special Global Opportunities LLC', '777 LP/Uni-Penn', '60 East 42nd Street Assoc', '500 Mamaroneck Avenue LP', '1333 Broadway Assoc', '501 Seventh Avenue Assoc', '1350 Broadway Assoc', \"3M's Partners\", '60 East 42nd St Assoc', '112 West 34th Street Co/New York, NY', '3G Special Situations Fund II LP', '112 W 34th Street Co/New York, NY', '250 W 57th Street Assoc', \"3M's Partners/JPMorgan Checking Account\", '681 Fifth Avenue/New York, NY', '220 Park Avenue South/New York, NY', '112 West 34th Street Co', '112 W 34th Street Co', '681 Fifth Avenue Holdings', '220 PAS Mezz LLC', '156 Geary Grant Holdings LLC', '400B Retirement Vang Growth Index Fund', '403b Plan Vanguard Institutional Index', '403(b) Retirement Vngrd Gr Inc Inv', '3024 Oakhill St', '3024 Oakhill St/Sierra Vista, AZ', '702 Arbor Street', '701 3rd Street', '27601 Highway 160', '110 Whistlepig Way Site 87', '4 Way Construction', '702 Arbor Street/Cortez, CO', '7869 Lake Forest Bank - C/D', '1385 GE Capital Bank - CD', '1385 ALLY Bank CD', '7869 BMW North Amer - CD (15)', '7869 Lake Forest Bank - CD', '7869 BMW North Amer - CD', '612 Haish Blvd', '612 Haish Blvd/De Kalb, IL', '345 W Broadway Street', '119 S Vine Street', '2025 Enrollment Portfolio', '2022 Enrollment Portfolio', '1990 Morgan Ann Farenthold Trust', '1987 Morgan Trust/Blake', '1990 Morgan Ann Farenthold Trust/Cash', '1987 Morgan Trust-Blake Note Receivable', '192 Shares', '133-207446 Fidelity Municipal Money Mar', '529 College Savings Account 54580020', '32 Martin Lane/Dallas County, TX', '32 Martin Lane/Dallas County, MO', '165 acres/Galena', '529 MOST Accounts', '32 Martin Lane, Acreage/Dallas County', '2125-23rd St/Kenosha, WI', '227 E Palace, Ste F/Santa Fe, NM', '1224 Hwy 90/Crowley, LA', '819 Northern/Crowley, LA', '1220 Hwy 90/Crowley, LA', '1108 11th Street/Crowley, LA', '207 High Street/Mt Holly, NJ', '524 Skyline Shores/Scottsboro, AL', '3209 Cove Lake Road/Hampton Cove, AL', '527 East Beach Blvd/Gulf Shore, AL', '527 East Beach Blvd/Gulf Shores, AL', '2 Acres with office', '3 lots Koehler Rt 1/Fieldale, VA', '50 acres Rt 3/Ferrum, VA', '2 Acres with office/Rocky Mount, VA', '7.78 A in BRD/Franklin County, VA', '2 acres/Henry, VA', '2 Acres with office Hwy 220/Rocky Mount', '200 acres & house/Rt 2/Rocky Mt, VA', '2 acres with old office Rt 2/Rocky Mount', '28 acres Rt 1/Henry, VA', '2 Acres at H', '1038 Park Meadow Drive/Beaumont, TX', '7090 Prutzman 25/Beaumont, TX', '7090 Prutzman 24/Beaumont, TX', '7090 Prutzman/Beaumont, TX', '500 Independence LLC', '1998 John Deere Cotton Stripper 7455', '840 Acres Rent/Jones County, TX', '8300 John Deere Tractor', '160 Acres/Jones County, TX', '840 Acres CCC Payments/Jones County, TX', '75 Acres/Wheeler County, TX', '1-Four Partnership', '1304 Blossomwood NW', '6 unimproved lots/Valencia County, NM', '931 Player Loop/Rio Rancho, NM', '6 Unimproved Lots/Valencia County, NM', '1 unimproved lot', '245 Goddard Ave/Ignacio, CO', '556 2nd Avenue/Durango, CO', '541 CR 541/Ignacio, CO', '520 2nd Street/Durango, CO', '506-510 2nd Ave/Durango, CO', '161 Acres Unimproved Land/Carrol County', '2nd Home/Thessaliniki, Greece', '430 M Street/Washington, DC', '245 Commercial Street/Portland, ME', '601 Pennsylvania Ave NW 202', '601 Pennsylvania Ave NW/Washington, DC', '8 Kingsley Avenue/Rutland, VT', '2 Lots in Poinciana/Kissimee, FL', '60 Brays Island Drive/Sheldon, SC', '5 Acres & House 1975 Hwy 73/Concord, NC', '40 Acres & 2 Cabins/Lake County, MN', '90 Maple Ave/Mt Kisco', '87 Bedford Rd/Katonah', '8 Waterview Court/South Salem', '101 N Morgan/Mt Kisco', '36 Anderson Road/Katonah', '105 Bedford Road/Katonah', '10 Winterview Court/South Salem', \"714 St Mary's St LLC\", '76-78 East Market Street/Corning, NY', '3Com Corp/Palm', '1010 Beaver Terrace/State College, PA', '610 Beaver Terrace/State College, PA', '604 Beaver Terrace/State College, PA', '603 Beaver Terrace/State College, PA', '306 Beaver Plaza/State College, PA', '304 Beaver Plaza/State College, PA', '70 Acres Clear Cut Pines/Latta, SC', '2535 Wedglea/Dallas, TX', '100 Acres of Clear Cut Pines/Latta, SC', '385 Acres/Houston, TX', '301 Acres/Houston, TX', '3.7 Acres Masters Survey/Houston, TX', '14 Sh A', '104 North Liberty Street/Asheville, NC', '6200 South Park Avenue/Hamburg, NY', '6200 South Park Ave/Hamburg, NY', '1765 R Street NW/Washington, DC', '1629 21st Street NW/Washington, DC', '6113 Inland/Warr Acres, OK', '304 NE 23nd/Norman, OK', '2nd Mortgage on 6113 Inland', '5 acres on Log Cabin Road/Demorest, GA', '33 acres on Riverbend Road/Demorest, GA', '314 11th Street NE/Washington, DC', '15 Acres Log Cabin Road/Habersham County', '1 Acre Lot/Habersham County, GA', '28 Acres Inherited from Mother Estate', '3 acres Flint Ridge Road/Gainesville, GA', '15 acres on Log Cabin Road/Demorest, GA', '5 Acres', '1.3 Acres/Gainesville', '1711 King Street Assoc', '2 Notes receivable on personal residence', '400 Acre Farm', '400 Acre Farm/Houston County, AL', '130 N 2nd Street/Pleasantville, PA', '3765 Sierra Dr/Merritt Island, FL', '406 S Capitol Street SE/Washington, DC', '1st Federal Savings (deferred income)', '8361 Mineral Springs Drive/Manassas, VA', '125.96 Acres/Kendall County, IL', '69 Acres/Plano, IL', '1250 Andrea Court/Morris, IL', '1335 S Prairie Avenue/Chicago, IL', '1309 A Union St', '19806 South Wolf Road/Mokena, IL', '408-410 Stevens Street/Green Bay, WI', '1790 7th St/Green Bay, WI', '1 Acre with Cabin/Hunter Division, VA', '18 Acres with cabin/Virginia', '1/4 Acre Lot/Utah', '35 Acres W/3 Houses', '50 Acres W/2 Houses/Warren City, VA', '1/4 Acre Lot/Bear Lake, VT', '803 North Grandee Rental/Compton, CA', '1236 W 64th Street/Los Angeles, CA', '850-856 W 129th Street/Gardena, CA', '225B C Street/Washingtohn, DC', '2nd Baptist Credit Union/Accounts', '1101 Marshall Place/Long Beach, CA', '7745 Greymont Street/Hyattsville, MD', '1936 Trusts FBO Edward M Kennedy', '1926 Trusts FBO Rose M Kennedy', '1926 Trusts FBO Edward M Kennedy', '1926 Trusts FBO Kathleen K Hartington', '1926 Trusts FBO Joseph P Kennedy Jr', '1936 Trust FBO Edward M Kennedy', '529 CSP Aggressive Growth', '529 College Savings Program Market', '529 College Savings Program Advisor', '300 Acres of Land/Sanolta, AZ', '4596 Perry Street/Denver, CO', '35 River Walk Way/Lowell, MA', '1st Tennesse Bank IRA', '1st Tennesse Bank/Savings', '1st Tennesse Bank/Checking', '1st Tennessee National Corp', '6 Acres Land On Clinch River', '2250 University Ave/Sacramento, CA', '4 Sylvan Lp', '12063 Gray Birch Circle/Orlando, FL', '8600 Ridgewood Ave/Cape Canaveral, FL', '13 The Arbors Murray Hill/New Providence', '24867 3rd St/Galeton, CO', '118.91 Acres/183rd St & Renner Rd', '3 Com Corp', '8333 Unite S&M NuTec LLC', '573 North Lower Elgin Road/Elgin, AZ', '12 Los Encinos/Sonoita, AZ', '10 Gansevoort Street/Bath, NY', '3014-3018 E Ocean View Ave', '9635-9639 15th Bay', '9527-9531 11th Bay St', '3004 E Ocean View Ave', '9625 2nd Bay St', '9549 7th Bay St', '8428 Tidewater Dr', '414 Freshmeadow', '403 Westmont Ave', '2143 E Ocean View Av', '9527-9531 11th Bay Street', '9635-9639 15th Bay Street', '9625 2nd Bay Street', '9549 7th Bay Street', '414 Fresh Meadow Road', '2143 E Ocean View Ave', '1204 Warwick Ave', '9635-9639 15th Bay St', '171 Rodman Rd', '16 lots/Bizbee, AZ', '779 San Remo LLC', '667 Avenue A LLC', '1328 D Georgia Avenue LLC', '1328 C Georgia LLC', '1328 B Georgia LLC', '1328 A Georgia LLC', '1324 A Georgia Avenue LLC', '1312 C Capri Drive LLC', '1312 A Capri Drive LLC', '779 San Remo/Boulder City, NV', '667 Ave A/Boulder City, NV', '527 Nevada Way/Boulder City, NV', '521 Nevada Way/Boulder City, NV', '509 Tara Court/Boulder City, NV', '1328 D Georgia Ave/Boulder City, NV', '1328 C Georgia Ave/Boulder City, NV', '1328 B Georgia Ave/Boulder City, NV', '1328 A Georgia Ave/Boulder City, NV', '1324 A Georgia LLC/Boulder City, NV', '1312 C Capri Drive/Boulder City, NV', '1312 A Capri Drive/Boulder City, NV', '1311 D Darlene Way/Boulder City, NV', '1311 B Darlene Way/Boulder City, NV', '1309 D Darlene Way/Boulder City, NV', '1309 C Darlene Way/Boulder City, NV', '1309 A Darlene Way/Boulder City, NV', '1310 Wyoming Street/Boulder City, NV', '779 San Remo Way/Boulder City, NV', '667 Avenue A/Boulder City, NV', '1324 Georgia LLC', '521-527 Nevada Way LLC', '1309 Darlene Way LLC', '667 Ave A LLC', '509 Tara Court LLC', '1312 Capri LLC', '1311 Darlene Way LLC', '1310 Wyoming Street LLC', '7 Red Cedar Way/Newport News, VA', '102 Haverstraw Court/Yorktown, VA', '56 Bedford Road/Newport News, VA', '304-B Maple Avenue/Newport News, VA', '386 Susan Constant/Newport News, VA', '98.52 Acres undeveloped/Breckenridge, MN', '2 Lots Undeveloped/Massanutten, VA', '529 College Investment Fund', '529', '401k Small Cap', '401k Large Cap', '401k International Equity', '34 S Bedford Road Assoc', '50 Borman Ave (2 Family)/SI, NY', '50 Borman Avenue/Staten Island, NY', '5321 Darlink St/Houston, TX', '5236 Larkin St/Houston, TX', '5326 Larigin/Houston TX', '532 Darling/Houston TX', '5236 Larkin St/Houston TX', '1520 Partners LLP', '714 Partners LLP/Airplane', '714 Partners LLP', '3451 Partners LLP', '714 Partners, LLP-Airplane', '528 W Baldwin Road/Panama City, FL', '528 W Baldwin Road/Panama City, Florida', '528 West Baldwin Road/Panama City, FL', '19 Jackson Court/San Antonio, TX', '1110 E Holland Ave', '117 N 6th/Alpine', '1110 E Holland/Alpine', '115 N 6th/Alpine', '115 & 117 N 6th St Alpine, TX', '1110 E Holland/Alpine, TX', '600 Lake Shore Dr/Belgravia', '711 S 16th Street/Belleville, IL', '132 West Main Street/Belleville, IL', '12 South Second Street/Belleville, IL', '704 E D Street/Belleville, IL', '903 E Overton/Tuscola, IL', '711 South 16th Street', '132 W Main Street', '12 South 2nd Street', '5091 - 5095 Wingsley/Montclair, CA', '3042 8th Avenue/Sacramento, CA', '1540 Northgate Blvd/Sarasota, FL', '3.75% Deutsche Bank 1997-2007', '3.125% Italien 1999-2010', '3.125% Bayerische Landesbank 1999-2009', '2% Compagnie de Financement Foncier 2009', '3.875% Schweden 2002-2009 Emtn', '2.25% Grossbritannien 2003-2008 Nts Reg', '5.25% Weltbank 1999-2009 Emtn', '5% BNG 2002-2007 Emtn', '3.25% Reseau Ferre de France 1998-2008', '2.5% Nederlandse Waterschapsbk 2007 Emtn', '3.25% Oesterreich 1998-2006', '3.875% Schweden 1999-2009 Emtn', '1.75% Depfa 2003-2008 Pfandbr.emtn', '4% Oesterreich 2005-2012 Nts', '1759 Langston', '1742 Evans', '1500 Langston', '1060 Orlando', '401k State of Michigan Retirement A/C', '529 Plans - VA Educ Savings Trust (Age Based)', '529 Plans - College Invest Savings Plan', '40 Wall Street', '555 California Street', '401 North Wabash Venture LLC', '1290 Avenue of the Americas', '809 North Canon LLC', '845 United Nations Plaza', '721 33h LLC', '40 Wall Development Assoc', '401 Mezz Venture LLC', '4 Shadow Tree Lane LLC', '1/8 Int. Cottage, Knocklong, Co. Limerick, Ireland', '111 Capital']\n"
     ]
    }
   ],
   "source": [
    "# results = list(filter(None.__ne__, results))\n",
    "res = [i for i in range(len(results)) if not results[i] is None]\n",
    "print([congOrgs[res[i]] for i in range(len(res))])"
   ]
  },
  {
   "cell_type": "markdown",
   "metadata": {},
   "source": [
    "#### Change the entries in congOrgs[res[i]] with '% '[1] to company names on a case by case basis and insert back where ever they're used in the actual dataframe"
   ]
  },
  {
   "cell_type": "code",
   "execution_count": 26,
   "metadata": {},
   "outputs": [
    {
     "data": {
      "text/html": [
       "<div>\n",
       "<style scoped>\n",
       "    .dataframe tbody tr th:only-of-type {\n",
       "        vertical-align: middle;\n",
       "    }\n",
       "\n",
       "    .dataframe tbody tr th {\n",
       "        vertical-align: top;\n",
       "    }\n",
       "\n",
       "    .dataframe thead th {\n",
       "        text-align: right;\n",
       "    }\n",
       "</style>\n",
       "<table border=\"1\" class=\"dataframe\">\n",
       "  <thead>\n",
       "    <tr style=\"text-align: right;\">\n",
       "      <th></th>\n",
       "      <th>cid</th>\n",
       "      <th>personName</th>\n",
       "      <th>year</th>\n",
       "      <th>orgid</th>\n",
       "      <th>orgname</th>\n",
       "      <th>industry</th>\n",
       "      <th>asset_type</th>\n",
       "      <th>min</th>\n",
       "      <th>max</th>\n",
       "      <th>hidemax</th>\n",
       "      <th>type</th>\n",
       "      <th>lobbies</th>\n",
       "      <th>contributes</th>\n",
       "      <th>folderOfOrigin</th>\n",
       "    </tr>\n",
       "  </thead>\n",
       "  <tbody>\n",
       "    <tr>\n",
       "      <th>177341</th>\n",
       "      <td>N00035607</td>\n",
       "      <td>Trott-Dave</td>\n",
       "      <td>2015</td>\n",
       "      <td>NaN</td>\n",
       "      <td>15% interest in Legal Press, LLC</td>\n",
       "      <td>NaN</td>\n",
       "      <td>Cash/Money Market/Savings/Checking</td>\n",
       "      <td>1001</td>\n",
       "      <td>15000</td>\n",
       "      <td>0</td>\n",
       "      <td>Y</td>\n",
       "      <td>NaN</td>\n",
       "      <td>NaN</td>\n",
       "      <td>cong114</td>\n",
       "    </tr>\n",
       "  </tbody>\n",
       "</table>\n",
       "</div>"
      ],
      "text/plain": [
       "              cid  personName  year orgid                           orgname  \\\n",
       "177341  N00035607  Trott-Dave  2015   NaN  15% interest in Legal Press, LLC   \n",
       "\n",
       "       industry                          asset_type   min    max  hidemax  \\\n",
       "177341      NaN  Cash/Money Market/Savings/Checking  1001  15000        0   \n",
       "\n",
       "       type lobbies contributes folderOfOrigin  \n",
       "177341    Y     NaN         NaN        cong114  "
      ]
     },
     "execution_count": 26,
     "metadata": {},
     "output_type": "execute_result"
    }
   ],
   "source": [
    "congDF[congDF['orgname'] == '15% interest in Legal Press, LLC']"
   ]
  },
  {
   "cell_type": "code",
   "execution_count": 27,
   "metadata": {},
   "outputs": [
    {
     "name": "stdout",
     "output_type": "stream",
     "text": [
      "9\n"
     ]
    },
    {
     "data": {
      "text/plain": [
       "array([nan, 'Cash/Money Market/Savings/Checking', 'Brokerage, IRA, 401k',\n",
       "       'Government Bond', 'Unknown',\n",
       "       '\"Account\" or Combination of other types (I.e.Stocks & Bonds)',\n",
       "       'Insurance policies & Annuities', 'Mutual Fund',\n",
       "       'Note/Note Receivable'], dtype=object)"
      ]
     },
     "execution_count": 27,
     "metadata": {},
     "output_type": "execute_result"
    }
   ],
   "source": [
    "print(len(congDF['asset_type'].unique()))\n",
    "congDF['asset_type'].unique()"
   ]
  },
  {
   "cell_type": "code",
   "execution_count": 76,
   "metadata": {},
   "outputs": [],
   "source": [
    "# REGEX patterns (https://help.libreoffice.org/Common/List_of_Regular_Expressions)\n",
    "pattern = re.compile('\\+?%\\s')  #testing  regex (https://www.regextester.com/94730)\n",
    "matches = [x for x in congOrgs if pattern.findall(x)]"
   ]
  },
  {
   "cell_type": "code",
   "execution_count": 77,
   "metadata": {
    "scrolled": true
   },
   "outputs": [
    {
     "name": "stdout",
     "output_type": "stream",
     "text": [
      "['Ken-Ran Development 50% Interest Land', 'European Investment Bank Mtn 8.50000% 11', 'Citigroup Funding 3% based on Gold', '25% Interest Inherited from the Settlement of the', 'Wells Fargo Captial 7% Trust', 'ICMA-RC457 Deferred Comp Plan 100% in Vantage\\nTr', 'Millco of Wilson LLC-600 Nash Street, 50% Interest', 'Aes Tr III 6.75% Conv', 'USB Capital X 6.5% Wells Fargo Cap XIV', 'Coupon Treasury Receipts INT PMT 12.5% o', 'DB 100% PPN-ABS RTN BAR S&P 500', 'UBS 100% PRAB S&P 500', 'Oakland MI Macomb 2.0% municipal bond', 'Manchester MI Cmnty 2.0% municipal bond', 'Inland Lakes MI Sch 2.25% municipal bond', 'Big Rapids MI Sch 3.25% municipal bond', '25% interest in ZLDR partnership owning 95 acres +', 'Hartford Life Insurance 75% notes', 'Gateway Inc 1.5% 12/31/09', 'Kentucky Asset/Liab 5% 7/15/06', 'Fidelity Asset Manager 50% Fund', '20% Interest Travis Webb', 'Travis Webb/20% interest', 'Fidelity UFUND 70% Equity Portfolio', 'Fidelity UFUND 100% Equity Portfolio', 'Fidelity College Investing 70% Equity', 'Fidelity College Investing 100% Equity', 'U Fund 70% Equity Portfolio*', 'NC Def Comp Plan 50% Templeton Foreign', '50% Templeton Foreign Fund 50% Artisan T', '2% Interest Cambridge Heights Apts Partnership', 'CBTCS Ser 2002-8 for Bell South 7% Pref', 'CBTCS for CIT 7.75% Pref', 'CBTCS for Cit 7.75% Pref Stock', 'PPLUS 7.65% for EI Paso Pref Plus Trust', 'UBS 100% S&P 500', 'UBS 100% Arsen Covery Bochat', 'UBS 100% PPN Asean currency', 'Lot 9 Description 50% interest Lot 9', '50% Interest In Lot 9/Searchlight, NV', '50% interest in part of Parcel III, Lot', 'Lot 9 50% interest Lot 9', 'Illinois College Savings 0% Bonds', 'Louisiana Pub Facs Auth 0% Bond', 'Utah ST Mun Fin Coop 0% Bond', 'West Virginia ST Infrast 0% Bond', 'Texas Mun Power Agency 0% Bond', 'Ohio St College Bonds B/E Cav 0% Bond', 'Miami Dade County 0% Bond', 'Kendall Kane & Will County 0% Bond', 'Illinois St Zero CPN 0% Bond', 'Gahanna Jefferson City Sch Dist, 0% Bond', 'E 470 Public Hwy Auth Co 0% Bond', 'Washington ST Series F 0% Bond', 'DuPage County, IL 0% G/O Bond', 'Adams County School District 0% Bond', 'Citigroup CAP XII TRUPS 8.5% FIX to FLP', 'LANSING MICH SEW DISP SYS REV REF, 5% Interest', 'Chester County Pa 5% 8-15-2013', 'Energy S 1.18% 10/1/14', 'Dreyfus 100% Treasury Fund', 'Vacant Land, 20% Interest, Unit 17, Blk 263, Lot 1', 'Vacant land, 20% interest, 138', 'JPMorgan 100% US Treasury Sec MM Reserve', '8 Sparqs Into Deil by MS 8% Qtrly Sep du', 'Fidelity Asset Manager 85% Fund', 'UKTB 0% 1/05/2009', 'Vacant Land 33 1/3% interest', '50% of 1/4 undivided interest 400 Acre Tract- Bent', '3% Interest In LP', 'JP morgan 100% Us Treasury securities', 'HSBC Cont Buff EQ SPX 06/27/12 80% Conti', 'GS Cont Buff EQ SPX 08/08/12 80% CONTIN', 'BARC REN SPX 05/02/12 2 XLEV 8.75% CAP', 'HSBC BREN SPX 11/02/12 10% Buffer 2 XLEV', 'GS BREN EAFE 07/05/12 10% Buffer 2 XLEV', 'GS BREN EAFE 06/06/12 10% Buffer 2 XLEV', 'DB BREN EEM 10/31/12 10% Buffer-2 XLEV 1', 'DB 95% PPN FX Basket 2/1/13', 'BARC BREN EAFE 08/01/12 10% Buffer 2 XLE', 'BARC 93% PPN BRIC Basket 9/19/13', 'DB PIMS 90% PPN', 'DB 95% PPN Fx Basket', 'BARC 93% PPN BRIC Basket', 'DC Rev NPR MaY13 4.0% aPR01 2037', 'DC Ser a DEC13 5.0% JUN01 2030', '382% Yohan-book', \"Value of asset listed reflects filer's 2% share of\", 'Park Center Partnership II - 7% owner of LBMC Bldg', 'Park Center Partnership I - 7% owner of Gambro Bld', 'Indiana PERF 100% Consolidated', 'Allianz Life 10% Bonus Powerdex', 'Metropolitian Water 4% 12', 'Virginia 5% Bond', 'Virginia ST 5% Bond', '50% 3/5 interest in 21.06 Acres Description: 13/4/', '50% 3/5 interest in 21.06 Acres', 'Thrift Savings Plan, 100% Interest', 'Asset Manager 20% Mutual Fund', 'Fidelity Asset Manager 20% Fund', 'Lot 6 DF, Buyer-Ramsyer, Note 55% Secu', '100% Treasury Money Market Fund', 'WFTXX - Wells Fargo Advantage 100% Trea (NASDAQ)', 'North Tex Twy Auth 05/5000% 09 01 41', 'GMAC Bank Midvalue 0525% 07/12/07', 'DB 95% PPN FX Bsk', 'BARC 93% PPN Currency Basket', 'BARC 93% Currency Basket', 'KFW 0% 5/6/08 Globalization Basket', '50% Interest 4 Acres/Rockwall, TX', '50% Interest 152 Acres/Hunt County, TX', '50% Interest 4 Acres 1500 Sunset Hill, TX', '50% Interest 152 Acre Heart County, TX - Farm', '50% Interest 4 Acres', '50% Interest 152 Acre Farm', 'Fidelity Edu IRA CA 100% Equity', 'CA 100% Equity Index', 'Promissory note, 100% Interest', 'Minnesota College Savings 100% Equity', 'Fidelity 529 100% Equity Portfol', '15% interest in Legal Press, LLC', '10% interest in Trott-ATA LLC', 'Victure LLC (Watercraft) (100% Interest)', 'Canaan LLC - 20% partnership in 526 acre timberlan', 'Equipment, 100% Interest', 'JPM Plus Tropix Index 0% 05 Oct 2016', 'Lapfell 16% Interest', 'RAWA Leasing Equipment Rental 100% Ownership', 'Granite Dome, 1% Interest', 'Commercial Building - 20% Interest', 'TIAA-CREF College Savings 100% Equity Fd', '50% of 78 Acres of land in Jeff Davis, MS', '10% Wealth Management LLC', '60 Month 5% ints note', '60 Month 5% Note', 'Roper Ind 2.05% Due 10/01/18', 'Univ ID 5.25% Educ Pub Bond', 'Hancey Mill Road Farm LLC, 25% Interest', '20% of the outstanding units of Foundtainhead Part', 'Dynamic Drinkware LLC (4% interest) Cup', 'Rental Property (50% ownership - TRT Holdings LLC)', 'Black Rock 100% Equity S unit', 'Black Rock 100% Equity C unit', 'Wells Fargo CPI+ 1% Note', 'Wells Fargo CPI + 1% CD Note', 'Entergy AR pfd 432% NAB', 'Valic 403(b) account, 100% in Money Mark', 'FCB/NC Cap Trust Ii 8.4% Pfd Secs Due 10', 'Hirel 5% Reg D Cvt Debs 9/2/97', 'NYS College 529 - Vanguard 75% Total Bon', 'Vanguard 75% Total Bond', 'NY  529 Vanguard 75% Total Bond', 'Kayne Anderson MLP Invst 4.6% coupon 4.60 Mature 1', 'Wells Fargo 8% Non-Cum Ser J', '3.75% Deutsche Bank 1997-2007', '3.125% Italien 1999-2010', '3.125% Bayerische Landesbank 1999-2009', '2% Compagnie de Financement Foncier 2009', '3.875% Schweden 2002-2009 Emtn', '2.25% Grossbritannien 2003-2008 Nts Reg', '5.25% Weltbank 1999-2009 Emtn', '5% BNG 2002-2007 Emtn', '3.25% Reseau Ferre de France 1998-2008', '2.5% Nederlandse Waterschapsbk 2007 Emtn', '3.25% Oesterreich 1998-2006', 'State of Washington General Cr 5.5% 7/1/', '3.875% Schweden 1999-2009 Emtn', '1.75% Depfa 2003-2008 Pfandbr.emtn', '4% Oesterreich 2005-2012 Nts', 'JPMorgan 100% US Treasury Securities Mon', 'Utah Educ Savings Plan Equity - 10 % Intl']\n"
     ]
    }
   ],
   "source": [
    "print(matches)"
   ]
  },
  {
   "cell_type": "code",
   "execution_count": 30,
   "metadata": {
    "scrolled": false
   },
   "outputs": [
    {
     "data": {
      "text/html": [
       "<div>\n",
       "<style scoped>\n",
       "    .dataframe tbody tr th:only-of-type {\n",
       "        vertical-align: middle;\n",
       "    }\n",
       "\n",
       "    .dataframe tbody tr th {\n",
       "        vertical-align: top;\n",
       "    }\n",
       "\n",
       "    .dataframe thead th {\n",
       "        text-align: right;\n",
       "    }\n",
       "</style>\n",
       "<table border=\"1\" class=\"dataframe\">\n",
       "  <thead>\n",
       "    <tr style=\"text-align: right;\">\n",
       "      <th></th>\n",
       "      <th>cid</th>\n",
       "      <th>personName</th>\n",
       "      <th>year</th>\n",
       "      <th>orgid</th>\n",
       "      <th>orgname</th>\n",
       "      <th>industry</th>\n",
       "      <th>asset_type</th>\n",
       "      <th>min</th>\n",
       "      <th>max</th>\n",
       "      <th>hidemax</th>\n",
       "      <th>type</th>\n",
       "      <th>lobbies</th>\n",
       "      <th>contributes</th>\n",
       "      <th>folderOfOrigin</th>\n",
       "    </tr>\n",
       "  </thead>\n",
       "  <tbody>\n",
       "    <tr>\n",
       "      <th>3838</th>\n",
       "      <td>N00026710</td>\n",
       "      <td>Marchant-Kenny</td>\n",
       "      <td>2011</td>\n",
       "      <td>NaN</td>\n",
       "      <td>Ken-Ran Development 50% Interest Land</td>\n",
       "      <td>Unknown</td>\n",
       "      <td>NaN</td>\n",
       "      <td>50001</td>\n",
       "      <td>100000</td>\n",
       "      <td>0</td>\n",
       "      <td>Y</td>\n",
       "      <td>NaN</td>\n",
       "      <td>NaN</td>\n",
       "      <td>cong111</td>\n",
       "    </tr>\n",
       "    <tr>\n",
       "      <th>5479</th>\n",
       "      <td>N00006263</td>\n",
       "      <td>Simpson-Mike</td>\n",
       "      <td>2011</td>\n",
       "      <td>NaN</td>\n",
       "      <td>European Investment Bank Mtn 8.50000% 11</td>\n",
       "      <td>Unknown</td>\n",
       "      <td>NaN</td>\n",
       "      <td>28763</td>\n",
       "      <td>28763</td>\n",
       "      <td>0</td>\n",
       "      <td>Y</td>\n",
       "      <td>NaN</td>\n",
       "      <td>NaN</td>\n",
       "      <td>cong111</td>\n",
       "    </tr>\n",
       "    <tr>\n",
       "      <th>6611</th>\n",
       "      <td>N00012508</td>\n",
       "      <td>Carper-Tom</td>\n",
       "      <td>2012</td>\n",
       "      <td>NaN</td>\n",
       "      <td>Citigroup Funding 3% based on Gold</td>\n",
       "      <td>Unknown</td>\n",
       "      <td>Mutual Fund</td>\n",
       "      <td>15001</td>\n",
       "      <td>50000</td>\n",
       "      <td>0</td>\n",
       "      <td>Y</td>\n",
       "      <td>NaN</td>\n",
       "      <td>NaN</td>\n",
       "      <td>cong111</td>\n",
       "    </tr>\n",
       "    <tr>\n",
       "      <th>6738</th>\n",
       "      <td>N00012508</td>\n",
       "      <td>Carper-Tom</td>\n",
       "      <td>2011</td>\n",
       "      <td>NaN</td>\n",
       "      <td>Citigroup Funding 3% based on Gold</td>\n",
       "      <td>Unknown</td>\n",
       "      <td>Mutual Fund</td>\n",
       "      <td>15001</td>\n",
       "      <td>50000</td>\n",
       "      <td>0</td>\n",
       "      <td>Y</td>\n",
       "      <td>NaN</td>\n",
       "      <td>NaN</td>\n",
       "      <td>cong111</td>\n",
       "    </tr>\n",
       "    <tr>\n",
       "      <th>7498</th>\n",
       "      <td>N00012508</td>\n",
       "      <td>Carper-Tom</td>\n",
       "      <td>2010</td>\n",
       "      <td>NaN</td>\n",
       "      <td>Citigroup Funding 3% based on Gold</td>\n",
       "      <td>Unknown</td>\n",
       "      <td>Mutual Fund</td>\n",
       "      <td>50001</td>\n",
       "      <td>100000</td>\n",
       "      <td>0</td>\n",
       "      <td>Y</td>\n",
       "      <td>NaN</td>\n",
       "      <td>NaN</td>\n",
       "      <td>cong111</td>\n",
       "    </tr>\n",
       "  </tbody>\n",
       "</table>\n",
       "</div>"
      ],
      "text/plain": [
       "            cid      personName  year orgid  \\\n",
       "3838  N00026710  Marchant-Kenny  2011   NaN   \n",
       "5479  N00006263    Simpson-Mike  2011   NaN   \n",
       "6611  N00012508      Carper-Tom  2012   NaN   \n",
       "6738  N00012508      Carper-Tom  2011   NaN   \n",
       "7498  N00012508      Carper-Tom  2010   NaN   \n",
       "\n",
       "                                       orgname industry   asset_type    min  \\\n",
       "3838     Ken-Ran Development 50% Interest Land  Unknown          NaN  50001   \n",
       "5479  European Investment Bank Mtn 8.50000% 11  Unknown          NaN  28763   \n",
       "6611        Citigroup Funding 3% based on Gold  Unknown  Mutual Fund  15001   \n",
       "6738        Citigroup Funding 3% based on Gold  Unknown  Mutual Fund  15001   \n",
       "7498        Citigroup Funding 3% based on Gold  Unknown  Mutual Fund  50001   \n",
       "\n",
       "         max  hidemax type lobbies contributes folderOfOrigin  \n",
       "3838  100000        0    Y     NaN         NaN        cong111  \n",
       "5479   28763        0    Y     NaN         NaN        cong111  \n",
       "6611   50000        0    Y     NaN         NaN        cong111  \n",
       "6738   50000        0    Y     NaN         NaN        cong111  \n",
       "7498  100000        0    Y     NaN         NaN        cong111  "
      ]
     },
     "execution_count": 30,
     "metadata": {},
     "output_type": "execute_result"
    }
   ],
   "source": [
    "congDF[congDF['orgname'].isin(matches)].head()"
   ]
  },
  {
   "cell_type": "code",
   "execution_count": 31,
   "metadata": {},
   "outputs": [],
   "source": [
    "perList_sep = [s.split('% ') for s in matches]#map(lambda s: s.split('% ')[1], congDF['orgname'].values)"
   ]
  },
  {
   "cell_type": "markdown",
   "metadata": {},
   "source": [
    "- It is important to note here that the '% 'tokenizer is quite confusing since the strings being tokenized are not     consistent. Some have comapny/property name after the tokenizer and some before.\n",
    "- Therefore, the approach should be able to take all possible tokens (theoretically only two at max.) and check         matches"
   ]
  },
  {
   "cell_type": "code",
   "execution_count": 32,
   "metadata": {},
   "outputs": [
    {
     "name": "stdout",
     "output_type": "stream",
     "text": [
      "['DB 100', 'PPN-ABS RTN BAR S&P 500']\n"
     ]
    }
   ],
   "source": [
    "print(perList_sep[10]) \n",
    "# print(perList_sep[1])"
   ]
  },
  {
   "cell_type": "code",
   "execution_count": 33,
   "metadata": {},
   "outputs": [],
   "source": [
    "perList_sep = []\n",
    "for s in matches:\n",
    "    temp = s.split('% ')\n",
    "    perList_sep.append(temp[0]+temp[1])\n",
    "#     if len(temp[0])>len(temp[1]) and len(temp[0].split(' '))>len(temp[1].split(' ')):\n",
    "#         perList_sep.append(temp[0])\n",
    "#     else:\n",
    "#         perList_sep.append(temp[1])"
   ]
  },
  {
   "cell_type": "code",
   "execution_count": 34,
   "metadata": {},
   "outputs": [
    {
     "data": {
      "text/plain": [
       "121"
      ]
     },
     "execution_count": 34,
     "metadata": {},
     "output_type": "execute_result"
    }
   ],
   "source": [
    "matches.index('10% interest in Trott-ATA LLC')"
   ]
  },
  {
   "cell_type": "code",
   "execution_count": 35,
   "metadata": {},
   "outputs": [
    {
     "name": "stdout",
     "output_type": "stream",
     "text": [
      "25interest in ZLDR partnership owning 95 acres +\n"
     ]
    }
   ],
   "source": [
    "print(perList_sep[16])"
   ]
  },
  {
   "cell_type": "markdown",
   "metadata": {},
   "source": [
    "##### Double string matching function for getting a very close match"
   ]
  },
  {
   "cell_type": "code",
   "execution_count": 36,
   "metadata": {},
   "outputs": [
    {
     "name": "stdout",
     "output_type": "stream",
     "text": [
      "[('Alltel New York Inc', 86), ('Invesco Bond Fund', 86), ('VanEck Vectors Emerging Markets High Yield Bond ETF', 86), ('Gallery of History Inc', 86), ('New American Shoe Co', 86)]\n",
      "100\n"
     ]
    }
   ],
   "source": [
    "print(process.extract(searchSTR, firmOrgsLC, limit=5))\n",
    "print(fuzz.partial_ratio('CACI International', 'CACI International Inc'))"
   ]
  },
  {
   "cell_type": "code",
   "execution_count": 37,
   "metadata": {},
   "outputs": [],
   "source": [
    "def strMatch(searchVal, indexList, l1_thresh=85, l2_thresh=90, _size=5):\n",
    "    matches = []\n",
    "    baseList = process.extract(searchVal, indexList, limit=_size)\n",
    "#     print('BASE_LIST: ',baseList)\n",
    "    for _str, conf in baseList:\n",
    "        if float(conf)>l1_thresh:\n",
    "            match = fuzz.partial_ratio(searchVal, _str)\n",
    "            if float(match)>l2_thresh:\n",
    "                matches.append((_str, match))\n",
    "    return baseList, matches"
   ]
  },
  {
   "cell_type": "code",
   "execution_count": null,
   "metadata": {},
   "outputs": [],
   "source": [
    "searchSTR = 'JPMorgan 100US Treasury Securities Mon' # 'CACI International'\n",
    "print(searchSTR,'\\n\\n')\n",
    "\n",
    "BL, Matches = strMatch(searchSTR, firmOrgsLC)\n",
    "print(BL)\n",
    "print('\\n')\n",
    "print(Matches)\n",
    "print('\\n')\n",
    "print('Highest Match:', Matches[0])"
   ]
  },
  {
   "cell_type": "code",
   "execution_count": null,
   "metadata": {},
   "outputs": [],
   "source": [
    "print(fuzz.token_sort_ratio('JPMorgan 100', 'JPMorgan Chase & Co'))"
   ]
  },
  {
   "cell_type": "code",
   "execution_count": null,
   "metadata": {},
   "outputs": [],
   "source": [
    "orgClean = []\n",
    "tempDF = congDF[congDF['orgname'].isin(matches)]\n",
    "for index, row in tempDF.iterrows():\n",
    "    temp = row['orgname'].split('% ')\n",
    "    orgClean.append(temp[0]+temp[1])\n",
    "tempDF['orgClean'] = orgClean"
   ]
  },
  {
   "cell_type": "code",
   "execution_count": null,
   "metadata": {},
   "outputs": [],
   "source": [
    "# matchIDX = []\n",
    "# blIDX = []\n",
    "# for index, row in congDF.iterrows():\n",
    "#     BL, Matches = strMatch(row['orgname'], firmOrgsLC)\n",
    "#     if Matches:\n",
    "#         matchIDX.append(Matches[0])\n",
    "#         blIDX.append(BL)\n",
    "#     else:\n",
    "#         matchIDX.append(np.nan)\n",
    "#         blIDX.append(BL)"
   ]
  },
  {
   "cell_type": "code",
   "execution_count": null,
   "metadata": {},
   "outputs": [],
   "source": [
    "# congDF['orgMatch'] = matchIDX\n",
    "# congDF['orgBestOptions'] = blIDX\n",
    "\n",
    "# tempDF.head(10)"
   ]
  },
  {
   "cell_type": "code",
   "execution_count": null,
   "metadata": {},
   "outputs": [],
   "source": [
    "congDF.tail()"
   ]
  },
  {
   "cell_type": "code",
   "execution_count": null,
   "metadata": {},
   "outputs": [],
   "source": [
    "congDF.to_csv('consolidatedMatched.csv')"
   ]
  },
  {
   "cell_type": "markdown",
   "metadata": {},
   "source": [
    "### creating unique matches to reduce compute time"
   ]
  },
  {
   "cell_type": "code",
   "execution_count": 43,
   "metadata": {},
   "outputs": [],
   "source": []
  },
  {
   "cell_type": "code",
   "execution_count": null,
   "metadata": {
    "scrolled": true
   },
   "outputs": [],
   "source": [
    "total_congOrgs = len(congOrgs)\n",
    "i=0\n",
    "match_dict = {}\n",
    "baseList_dict = {}\n",
    "for congFirm in congOrgs:\n",
    "    BL, Matches = strMatch(congFirm, firmOrgsLC)\n",
    "    \n",
    "    baseList_dict[congFirm] = BL\n",
    "    if Matches:\n",
    "        match_dict[congFirm] = Matches[0]\n",
    "        \n",
    "    else:\n",
    "        match_dict[congFirm] = np.nan\n",
    "    \n",
    "    #counter\n",
    "    i+=1\n",
    "    print((float(i)/total_congOrgs)*100)"
   ]
  },
  {
   "cell_type": "code",
   "execution_count": 45,
   "metadata": {},
   "outputs": [
    {
     "name": "stdout",
     "output_type": "stream",
     "text": [
      "70512\n",
      "70512\n"
     ]
    }
   ],
   "source": [
    "print(len(match_dict))\n",
    "print(len(baseList_dict))"
   ]
  },
  {
   "cell_type": "code",
   "execution_count": 46,
   "metadata": {},
   "outputs": [
    {
     "data": {
      "text/plain": [
       "True"
      ]
     },
     "execution_count": 46,
     "metadata": {},
     "output_type": "execute_result"
    }
   ],
   "source": [
    "set(match_dict.keys()) == set(baseList_dict.keys())"
   ]
  },
  {
   "cell_type": "code",
   "execution_count": 67,
   "metadata": {},
   "outputs": [],
   "source": [
    "matchedDF = pd.DataFrame(match_dict.items(), columns=['congOrgs', 'match'])\n",
    "baseListDF = pd.DataFrame(baseList_dict.items(), columns=['congOrgs', 'baseList'])"
   ]
  },
  {
   "cell_type": "code",
   "execution_count": 68,
   "metadata": {},
   "outputs": [
    {
     "data": {
      "text/html": [
       "<div>\n",
       "<style scoped>\n",
       "    .dataframe tbody tr th:only-of-type {\n",
       "        vertical-align: middle;\n",
       "    }\n",
       "\n",
       "    .dataframe tbody tr th {\n",
       "        vertical-align: top;\n",
       "    }\n",
       "\n",
       "    .dataframe thead th {\n",
       "        text-align: right;\n",
       "    }\n",
       "</style>\n",
       "<table border=\"1\" class=\"dataframe\">\n",
       "  <thead>\n",
       "    <tr style=\"text-align: right;\">\n",
       "      <th></th>\n",
       "      <th>congOrgs</th>\n",
       "      <th>match</th>\n",
       "    </tr>\n",
       "  </thead>\n",
       "  <tbody>\n",
       "    <tr>\n",
       "      <th>0</th>\n",
       "      <td>JPMorgan Chase &amp; Co</td>\n",
       "      <td>(JPMorgan Chase &amp; Co, 100)</td>\n",
       "    </tr>\n",
       "    <tr>\n",
       "      <th>1</th>\n",
       "      <td>HSBC Bank</td>\n",
       "      <td>NaN</td>\n",
       "    </tr>\n",
       "    <tr>\n",
       "      <th>2</th>\n",
       "      <td>Congressional Federal Credit Union Account</td>\n",
       "      <td>NaN</td>\n",
       "    </tr>\n",
       "    <tr>\n",
       "      <th>3</th>\n",
       "      <td>Chase Bank</td>\n",
       "      <td>(Chevy Chase Bank FSB, 100)</td>\n",
       "    </tr>\n",
       "    <tr>\n",
       "      <th>4</th>\n",
       "      <td>Citibank Accounts</td>\n",
       "      <td>NaN</td>\n",
       "    </tr>\n",
       "  </tbody>\n",
       "</table>\n",
       "</div>"
      ],
      "text/plain": [
       "                                     congOrgs                        match\n",
       "0                         JPMorgan Chase & Co   (JPMorgan Chase & Co, 100)\n",
       "1                                   HSBC Bank                          NaN\n",
       "2  Congressional Federal Credit Union Account                          NaN\n",
       "3                                  Chase Bank  (Chevy Chase Bank FSB, 100)\n",
       "4                           Citibank Accounts                          NaN"
      ]
     },
     "execution_count": 68,
     "metadata": {},
     "output_type": "execute_result"
    }
   ],
   "source": [
    "matchedDF.head()"
   ]
  },
  {
   "cell_type": "code",
   "execution_count": 69,
   "metadata": {},
   "outputs": [
    {
     "data": {
      "text/html": [
       "<div>\n",
       "<style scoped>\n",
       "    .dataframe tbody tr th:only-of-type {\n",
       "        vertical-align: middle;\n",
       "    }\n",
       "\n",
       "    .dataframe tbody tr th {\n",
       "        vertical-align: top;\n",
       "    }\n",
       "\n",
       "    .dataframe thead th {\n",
       "        text-align: right;\n",
       "    }\n",
       "</style>\n",
       "<table border=\"1\" class=\"dataframe\">\n",
       "  <thead>\n",
       "    <tr style=\"text-align: right;\">\n",
       "      <th></th>\n",
       "      <th>congOrgs</th>\n",
       "      <th>baseList</th>\n",
       "    </tr>\n",
       "  </thead>\n",
       "  <tbody>\n",
       "    <tr>\n",
       "      <th>0</th>\n",
       "      <td>JPMorgan Chase &amp; Co</td>\n",
       "      <td>[(JPMorgan Chase &amp; Co, 100), (Acushnet Co, 86)...</td>\n",
       "    </tr>\n",
       "    <tr>\n",
       "      <th>1</th>\n",
       "      <td>HSBC Bank</td>\n",
       "      <td>[(American Bank Note Co, 86), (Bank of Hawaii ...</td>\n",
       "    </tr>\n",
       "    <tr>\n",
       "      <th>2</th>\n",
       "      <td>Congressional Federal Credit Union Account</td>\n",
       "      <td>[(Aetna Business Credit Inc, 86), (Allis-Chalm...</td>\n",
       "    </tr>\n",
       "    <tr>\n",
       "      <th>3</th>\n",
       "      <td>Chase Bank</td>\n",
       "      <td>[(Chevy Chase Bank FSB, 90), (American Bank No...</td>\n",
       "    </tr>\n",
       "    <tr>\n",
       "      <th>4</th>\n",
       "      <td>Citibank Accounts</td>\n",
       "      <td>[(CityBank, 79), (Citation Cos, 62), (Key Co, ...</td>\n",
       "    </tr>\n",
       "  </tbody>\n",
       "</table>\n",
       "</div>"
      ],
      "text/plain": [
       "                                     congOrgs  \\\n",
       "0                         JPMorgan Chase & Co   \n",
       "1                                   HSBC Bank   \n",
       "2  Congressional Federal Credit Union Account   \n",
       "3                                  Chase Bank   \n",
       "4                           Citibank Accounts   \n",
       "\n",
       "                                            baseList  \n",
       "0  [(JPMorgan Chase & Co, 100), (Acushnet Co, 86)...  \n",
       "1  [(American Bank Note Co, 86), (Bank of Hawaii ...  \n",
       "2  [(Aetna Business Credit Inc, 86), (Allis-Chalm...  \n",
       "3  [(Chevy Chase Bank FSB, 90), (American Bank No...  \n",
       "4  [(CityBank, 79), (Citation Cos, 62), (Key Co, ...  "
      ]
     },
     "execution_count": 69,
     "metadata": {},
     "output_type": "execute_result"
    }
   ],
   "source": [
    "baseListDF.head()"
   ]
  },
  {
   "cell_type": "code",
   "execution_count": 70,
   "metadata": {},
   "outputs": [],
   "source": [
    "matchedDF.to_csv('matchedDF.csv')\n",
    "baseListDF.to_csv('baseListDF.csv')"
   ]
  },
  {
   "cell_type": "markdown",
   "metadata": {},
   "source": [
    "#### Weird company names"
   ]
  },
  {
   "cell_type": "code",
   "execution_count": 73,
   "metadata": {},
   "outputs": [
    {
     "name": "stdout",
     "output_type": "stream",
     "text": [
      "unique companies:  70512\n"
     ]
    }
   ],
   "source": [
    "print('unique companies: ', len(congOrgs))"
   ]
  },
  {
   "cell_type": "code",
   "execution_count": 74,
   "metadata": {},
   "outputs": [
    {
     "name": "stdout",
     "output_type": "stream",
     "text": [
      "companies with \"% \" sub-string:  171\n"
     ]
    }
   ],
   "source": [
    "pattern = re.compile('\\+?%\\s')  #testing  regex (https://www.regextester.com/94730)\n",
    "matches = [x for x in congOrgs if pattern.findall(x)]\n",
    "\n",
    "print('companies with \"% \" sub-string: ', len(matches))"
   ]
  },
  {
   "cell_type": "code",
   "execution_count": 75,
   "metadata": {},
   "outputs": [
    {
     "name": "stdout",
     "output_type": "stream",
     "text": [
      "unique companies starting with number:  2203\n"
     ]
    }
   ],
   "source": [
    "pattern = re.compile('^[0-9]')  #testing  regex (https://www.regextester.com/94730)\n",
    "matches = [x for x in congOrgs if pattern.findall(x)]\n",
    "\n",
    "print('unique companies starting with number: ', len(matches))"
   ]
  },
  {
   "cell_type": "code",
   "execution_count": null,
   "metadata": {},
   "outputs": [],
   "source": []
  }
 ],
 "metadata": {
  "kernelspec": {
   "display_name": "Python 3",
   "language": "python",
   "name": "python3"
  },
  "language_info": {
   "codemirror_mode": {
    "name": "ipython",
    "version": 3
   },
   "file_extension": ".py",
   "mimetype": "text/x-python",
   "name": "python",
   "nbconvert_exporter": "python",
   "pygments_lexer": "ipython3",
   "version": "3.7.3"
  }
 },
 "nbformat": 4,
 "nbformat_minor": 2
}
